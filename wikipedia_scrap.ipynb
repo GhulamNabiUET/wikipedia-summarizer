{
  "nbformat": 4,
  "nbformat_minor": 0,
  "metadata": {
    "colab": {
      "provenance": []
    },
    "kernelspec": {
      "name": "python3",
      "display_name": "Python 3"
    },
    "language_info": {
      "name": "python"
    },
    "widgets": {
      "application/vnd.jupyter.widget-state+json": {
        "d12354a8255f4ed18ed696b8ceda32ad": {
          "model_module": "@jupyter-widgets/controls",
          "model_name": "HBoxModel",
          "model_module_version": "1.5.0",
          "state": {
            "_dom_classes": [],
            "_model_module": "@jupyter-widgets/controls",
            "_model_module_version": "1.5.0",
            "_model_name": "HBoxModel",
            "_view_count": null,
            "_view_module": "@jupyter-widgets/controls",
            "_view_module_version": "1.5.0",
            "_view_name": "HBoxView",
            "box_style": "",
            "children": [
              "IPY_MODEL_4fa933324e214468aa75d1297444d2ae",
              "IPY_MODEL_e7539e7efc2b4b5aa007ad50985f2c77",
              "IPY_MODEL_43ff8491a96041a6be9d507ba37327ad"
            ],
            "layout": "IPY_MODEL_f2d2cb7d0d1a4218ac543bfec30c145d"
          }
        },
        "4fa933324e214468aa75d1297444d2ae": {
          "model_module": "@jupyter-widgets/controls",
          "model_name": "HTMLModel",
          "model_module_version": "1.5.0",
          "state": {
            "_dom_classes": [],
            "_model_module": "@jupyter-widgets/controls",
            "_model_module_version": "1.5.0",
            "_model_name": "HTMLModel",
            "_view_count": null,
            "_view_module": "@jupyter-widgets/controls",
            "_view_module_version": "1.5.0",
            "_view_name": "HTMLView",
            "description": "",
            "description_tooltip": null,
            "layout": "IPY_MODEL_5291a3182d8540a98c53cadec5b073b4",
            "placeholder": "​",
            "style": "IPY_MODEL_1f382ea3082344cfaed0c32ba6bead94",
            "value": "Downloading (…)lve/main/config.json: 100%"
          }
        },
        "e7539e7efc2b4b5aa007ad50985f2c77": {
          "model_module": "@jupyter-widgets/controls",
          "model_name": "FloatProgressModel",
          "model_module_version": "1.5.0",
          "state": {
            "_dom_classes": [],
            "_model_module": "@jupyter-widgets/controls",
            "_model_module_version": "1.5.0",
            "_model_name": "FloatProgressModel",
            "_view_count": null,
            "_view_module": "@jupyter-widgets/controls",
            "_view_module_version": "1.5.0",
            "_view_name": "ProgressView",
            "bar_style": "success",
            "description": "",
            "description_tooltip": null,
            "layout": "IPY_MODEL_923cd74e1ace4fe3ad745e6e876cbea5",
            "max": 718,
            "min": 0,
            "orientation": "horizontal",
            "style": "IPY_MODEL_fc8320453d8342289f5bde4c5f33f08a",
            "value": 718
          }
        },
        "43ff8491a96041a6be9d507ba37327ad": {
          "model_module": "@jupyter-widgets/controls",
          "model_name": "HTMLModel",
          "model_module_version": "1.5.0",
          "state": {
            "_dom_classes": [],
            "_model_module": "@jupyter-widgets/controls",
            "_model_module_version": "1.5.0",
            "_model_name": "HTMLModel",
            "_view_count": null,
            "_view_module": "@jupyter-widgets/controls",
            "_view_module_version": "1.5.0",
            "_view_name": "HTMLView",
            "description": "",
            "description_tooltip": null,
            "layout": "IPY_MODEL_21dcfed35aa0413698f196c622a0fa64",
            "placeholder": "​",
            "style": "IPY_MODEL_25ccfd7102b74c69bfa0986ab8e754f4",
            "value": " 718/718 [00:00&lt;00:00, 14.8kB/s]"
          }
        },
        "f2d2cb7d0d1a4218ac543bfec30c145d": {
          "model_module": "@jupyter-widgets/base",
          "model_name": "LayoutModel",
          "model_module_version": "1.2.0",
          "state": {
            "_model_module": "@jupyter-widgets/base",
            "_model_module_version": "1.2.0",
            "_model_name": "LayoutModel",
            "_view_count": null,
            "_view_module": "@jupyter-widgets/base",
            "_view_module_version": "1.2.0",
            "_view_name": "LayoutView",
            "align_content": null,
            "align_items": null,
            "align_self": null,
            "border": null,
            "bottom": null,
            "display": null,
            "flex": null,
            "flex_flow": null,
            "grid_area": null,
            "grid_auto_columns": null,
            "grid_auto_flow": null,
            "grid_auto_rows": null,
            "grid_column": null,
            "grid_gap": null,
            "grid_row": null,
            "grid_template_areas": null,
            "grid_template_columns": null,
            "grid_template_rows": null,
            "height": null,
            "justify_content": null,
            "justify_items": null,
            "left": null,
            "margin": null,
            "max_height": null,
            "max_width": null,
            "min_height": null,
            "min_width": null,
            "object_fit": null,
            "object_position": null,
            "order": null,
            "overflow": null,
            "overflow_x": null,
            "overflow_y": null,
            "padding": null,
            "right": null,
            "top": null,
            "visibility": null,
            "width": null
          }
        },
        "5291a3182d8540a98c53cadec5b073b4": {
          "model_module": "@jupyter-widgets/base",
          "model_name": "LayoutModel",
          "model_module_version": "1.2.0",
          "state": {
            "_model_module": "@jupyter-widgets/base",
            "_model_module_version": "1.2.0",
            "_model_name": "LayoutModel",
            "_view_count": null,
            "_view_module": "@jupyter-widgets/base",
            "_view_module_version": "1.2.0",
            "_view_name": "LayoutView",
            "align_content": null,
            "align_items": null,
            "align_self": null,
            "border": null,
            "bottom": null,
            "display": null,
            "flex": null,
            "flex_flow": null,
            "grid_area": null,
            "grid_auto_columns": null,
            "grid_auto_flow": null,
            "grid_auto_rows": null,
            "grid_column": null,
            "grid_gap": null,
            "grid_row": null,
            "grid_template_areas": null,
            "grid_template_columns": null,
            "grid_template_rows": null,
            "height": null,
            "justify_content": null,
            "justify_items": null,
            "left": null,
            "margin": null,
            "max_height": null,
            "max_width": null,
            "min_height": null,
            "min_width": null,
            "object_fit": null,
            "object_position": null,
            "order": null,
            "overflow": null,
            "overflow_x": null,
            "overflow_y": null,
            "padding": null,
            "right": null,
            "top": null,
            "visibility": null,
            "width": null
          }
        },
        "1f382ea3082344cfaed0c32ba6bead94": {
          "model_module": "@jupyter-widgets/controls",
          "model_name": "DescriptionStyleModel",
          "model_module_version": "1.5.0",
          "state": {
            "_model_module": "@jupyter-widgets/controls",
            "_model_module_version": "1.5.0",
            "_model_name": "DescriptionStyleModel",
            "_view_count": null,
            "_view_module": "@jupyter-widgets/base",
            "_view_module_version": "1.2.0",
            "_view_name": "StyleView",
            "description_width": ""
          }
        },
        "923cd74e1ace4fe3ad745e6e876cbea5": {
          "model_module": "@jupyter-widgets/base",
          "model_name": "LayoutModel",
          "model_module_version": "1.2.0",
          "state": {
            "_model_module": "@jupyter-widgets/base",
            "_model_module_version": "1.2.0",
            "_model_name": "LayoutModel",
            "_view_count": null,
            "_view_module": "@jupyter-widgets/base",
            "_view_module_version": "1.2.0",
            "_view_name": "LayoutView",
            "align_content": null,
            "align_items": null,
            "align_self": null,
            "border": null,
            "bottom": null,
            "display": null,
            "flex": null,
            "flex_flow": null,
            "grid_area": null,
            "grid_auto_columns": null,
            "grid_auto_flow": null,
            "grid_auto_rows": null,
            "grid_column": null,
            "grid_gap": null,
            "grid_row": null,
            "grid_template_areas": null,
            "grid_template_columns": null,
            "grid_template_rows": null,
            "height": null,
            "justify_content": null,
            "justify_items": null,
            "left": null,
            "margin": null,
            "max_height": null,
            "max_width": null,
            "min_height": null,
            "min_width": null,
            "object_fit": null,
            "object_position": null,
            "order": null,
            "overflow": null,
            "overflow_x": null,
            "overflow_y": null,
            "padding": null,
            "right": null,
            "top": null,
            "visibility": null,
            "width": null
          }
        },
        "fc8320453d8342289f5bde4c5f33f08a": {
          "model_module": "@jupyter-widgets/controls",
          "model_name": "ProgressStyleModel",
          "model_module_version": "1.5.0",
          "state": {
            "_model_module": "@jupyter-widgets/controls",
            "_model_module_version": "1.5.0",
            "_model_name": "ProgressStyleModel",
            "_view_count": null,
            "_view_module": "@jupyter-widgets/base",
            "_view_module_version": "1.2.0",
            "_view_name": "StyleView",
            "bar_color": null,
            "description_width": ""
          }
        },
        "21dcfed35aa0413698f196c622a0fa64": {
          "model_module": "@jupyter-widgets/base",
          "model_name": "LayoutModel",
          "model_module_version": "1.2.0",
          "state": {
            "_model_module": "@jupyter-widgets/base",
            "_model_module_version": "1.2.0",
            "_model_name": "LayoutModel",
            "_view_count": null,
            "_view_module": "@jupyter-widgets/base",
            "_view_module_version": "1.2.0",
            "_view_name": "LayoutView",
            "align_content": null,
            "align_items": null,
            "align_self": null,
            "border": null,
            "bottom": null,
            "display": null,
            "flex": null,
            "flex_flow": null,
            "grid_area": null,
            "grid_auto_columns": null,
            "grid_auto_flow": null,
            "grid_auto_rows": null,
            "grid_column": null,
            "grid_gap": null,
            "grid_row": null,
            "grid_template_areas": null,
            "grid_template_columns": null,
            "grid_template_rows": null,
            "height": null,
            "justify_content": null,
            "justify_items": null,
            "left": null,
            "margin": null,
            "max_height": null,
            "max_width": null,
            "min_height": null,
            "min_width": null,
            "object_fit": null,
            "object_position": null,
            "order": null,
            "overflow": null,
            "overflow_x": null,
            "overflow_y": null,
            "padding": null,
            "right": null,
            "top": null,
            "visibility": null,
            "width": null
          }
        },
        "25ccfd7102b74c69bfa0986ab8e754f4": {
          "model_module": "@jupyter-widgets/controls",
          "model_name": "DescriptionStyleModel",
          "model_module_version": "1.5.0",
          "state": {
            "_model_module": "@jupyter-widgets/controls",
            "_model_module_version": "1.5.0",
            "_model_name": "DescriptionStyleModel",
            "_view_count": null,
            "_view_module": "@jupyter-widgets/base",
            "_view_module_version": "1.2.0",
            "_view_name": "StyleView",
            "description_width": ""
          }
        },
        "d3c7b7af047e4664bfdcfe04a6888443": {
          "model_module": "@jupyter-widgets/controls",
          "model_name": "HBoxModel",
          "model_module_version": "1.5.0",
          "state": {
            "_dom_classes": [],
            "_model_module": "@jupyter-widgets/controls",
            "_model_module_version": "1.5.0",
            "_model_name": "HBoxModel",
            "_view_count": null,
            "_view_module": "@jupyter-widgets/controls",
            "_view_module_version": "1.5.0",
            "_view_name": "HBoxView",
            "box_style": "",
            "children": [
              "IPY_MODEL_1393ae735d1144bc8c8b3a5f3bc7acb9",
              "IPY_MODEL_9dc3b243aa5a42ada3b674757373446f",
              "IPY_MODEL_9d31107bea4a44369e628d4d930eca99"
            ],
            "layout": "IPY_MODEL_ec47c675eae946b489eed6b04a23fa72"
          }
        },
        "1393ae735d1144bc8c8b3a5f3bc7acb9": {
          "model_module": "@jupyter-widgets/controls",
          "model_name": "HTMLModel",
          "model_module_version": "1.5.0",
          "state": {
            "_dom_classes": [],
            "_model_module": "@jupyter-widgets/controls",
            "_model_module_version": "1.5.0",
            "_model_name": "HTMLModel",
            "_view_count": null,
            "_view_module": "@jupyter-widgets/controls",
            "_view_module_version": "1.5.0",
            "_view_name": "HTMLView",
            "description": "",
            "description_tooltip": null,
            "layout": "IPY_MODEL_4211f0f64243439b9af14fbb4a2d6eab",
            "placeholder": "​",
            "style": "IPY_MODEL_73c354b896344bedb631f26abe771541",
            "value": "Downloading model.safetensors: 100%"
          }
        },
        "9dc3b243aa5a42ada3b674757373446f": {
          "model_module": "@jupyter-widgets/controls",
          "model_name": "FloatProgressModel",
          "model_module_version": "1.5.0",
          "state": {
            "_dom_classes": [],
            "_model_module": "@jupyter-widgets/controls",
            "_model_module_version": "1.5.0",
            "_model_name": "FloatProgressModel",
            "_view_count": null,
            "_view_module": "@jupyter-widgets/controls",
            "_view_module_version": "1.5.0",
            "_view_name": "ProgressView",
            "bar_style": "success",
            "description": "",
            "description_tooltip": null,
            "layout": "IPY_MODEL_ee10706c53e04decafd1260a27488af6",
            "max": 1519984962,
            "min": 0,
            "orientation": "horizontal",
            "style": "IPY_MODEL_4925d9038b844df58d6a8f363972f6bc",
            "value": 1519984962
          }
        },
        "9d31107bea4a44369e628d4d930eca99": {
          "model_module": "@jupyter-widgets/controls",
          "model_name": "HTMLModel",
          "model_module_version": "1.5.0",
          "state": {
            "_dom_classes": [],
            "_model_module": "@jupyter-widgets/controls",
            "_model_module_version": "1.5.0",
            "_model_name": "HTMLModel",
            "_view_count": null,
            "_view_module": "@jupyter-widgets/controls",
            "_view_module_version": "1.5.0",
            "_view_name": "HTMLView",
            "description": "",
            "description_tooltip": null,
            "layout": "IPY_MODEL_32fe1d36bf9f4c1ba43c27e19cac1b26",
            "placeholder": "​",
            "style": "IPY_MODEL_235940d175374d1e9af47d4ff631a868",
            "value": " 1.52G/1.52G [00:16&lt;00:00, 153MB/s]"
          }
        },
        "ec47c675eae946b489eed6b04a23fa72": {
          "model_module": "@jupyter-widgets/base",
          "model_name": "LayoutModel",
          "model_module_version": "1.2.0",
          "state": {
            "_model_module": "@jupyter-widgets/base",
            "_model_module_version": "1.2.0",
            "_model_name": "LayoutModel",
            "_view_count": null,
            "_view_module": "@jupyter-widgets/base",
            "_view_module_version": "1.2.0",
            "_view_name": "LayoutView",
            "align_content": null,
            "align_items": null,
            "align_self": null,
            "border": null,
            "bottom": null,
            "display": null,
            "flex": null,
            "flex_flow": null,
            "grid_area": null,
            "grid_auto_columns": null,
            "grid_auto_flow": null,
            "grid_auto_rows": null,
            "grid_column": null,
            "grid_gap": null,
            "grid_row": null,
            "grid_template_areas": null,
            "grid_template_columns": null,
            "grid_template_rows": null,
            "height": null,
            "justify_content": null,
            "justify_items": null,
            "left": null,
            "margin": null,
            "max_height": null,
            "max_width": null,
            "min_height": null,
            "min_width": null,
            "object_fit": null,
            "object_position": null,
            "order": null,
            "overflow": null,
            "overflow_x": null,
            "overflow_y": null,
            "padding": null,
            "right": null,
            "top": null,
            "visibility": null,
            "width": null
          }
        },
        "4211f0f64243439b9af14fbb4a2d6eab": {
          "model_module": "@jupyter-widgets/base",
          "model_name": "LayoutModel",
          "model_module_version": "1.2.0",
          "state": {
            "_model_module": "@jupyter-widgets/base",
            "_model_module_version": "1.2.0",
            "_model_name": "LayoutModel",
            "_view_count": null,
            "_view_module": "@jupyter-widgets/base",
            "_view_module_version": "1.2.0",
            "_view_name": "LayoutView",
            "align_content": null,
            "align_items": null,
            "align_self": null,
            "border": null,
            "bottom": null,
            "display": null,
            "flex": null,
            "flex_flow": null,
            "grid_area": null,
            "grid_auto_columns": null,
            "grid_auto_flow": null,
            "grid_auto_rows": null,
            "grid_column": null,
            "grid_gap": null,
            "grid_row": null,
            "grid_template_areas": null,
            "grid_template_columns": null,
            "grid_template_rows": null,
            "height": null,
            "justify_content": null,
            "justify_items": null,
            "left": null,
            "margin": null,
            "max_height": null,
            "max_width": null,
            "min_height": null,
            "min_width": null,
            "object_fit": null,
            "object_position": null,
            "order": null,
            "overflow": null,
            "overflow_x": null,
            "overflow_y": null,
            "padding": null,
            "right": null,
            "top": null,
            "visibility": null,
            "width": null
          }
        },
        "73c354b896344bedb631f26abe771541": {
          "model_module": "@jupyter-widgets/controls",
          "model_name": "DescriptionStyleModel",
          "model_module_version": "1.5.0",
          "state": {
            "_model_module": "@jupyter-widgets/controls",
            "_model_module_version": "1.5.0",
            "_model_name": "DescriptionStyleModel",
            "_view_count": null,
            "_view_module": "@jupyter-widgets/base",
            "_view_module_version": "1.2.0",
            "_view_name": "StyleView",
            "description_width": ""
          }
        },
        "ee10706c53e04decafd1260a27488af6": {
          "model_module": "@jupyter-widgets/base",
          "model_name": "LayoutModel",
          "model_module_version": "1.2.0",
          "state": {
            "_model_module": "@jupyter-widgets/base",
            "_model_module_version": "1.2.0",
            "_model_name": "LayoutModel",
            "_view_count": null,
            "_view_module": "@jupyter-widgets/base",
            "_view_module_version": "1.2.0",
            "_view_name": "LayoutView",
            "align_content": null,
            "align_items": null,
            "align_self": null,
            "border": null,
            "bottom": null,
            "display": null,
            "flex": null,
            "flex_flow": null,
            "grid_area": null,
            "grid_auto_columns": null,
            "grid_auto_flow": null,
            "grid_auto_rows": null,
            "grid_column": null,
            "grid_gap": null,
            "grid_row": null,
            "grid_template_areas": null,
            "grid_template_columns": null,
            "grid_template_rows": null,
            "height": null,
            "justify_content": null,
            "justify_items": null,
            "left": null,
            "margin": null,
            "max_height": null,
            "max_width": null,
            "min_height": null,
            "min_width": null,
            "object_fit": null,
            "object_position": null,
            "order": null,
            "overflow": null,
            "overflow_x": null,
            "overflow_y": null,
            "padding": null,
            "right": null,
            "top": null,
            "visibility": null,
            "width": null
          }
        },
        "4925d9038b844df58d6a8f363972f6bc": {
          "model_module": "@jupyter-widgets/controls",
          "model_name": "ProgressStyleModel",
          "model_module_version": "1.5.0",
          "state": {
            "_model_module": "@jupyter-widgets/controls",
            "_model_module_version": "1.5.0",
            "_model_name": "ProgressStyleModel",
            "_view_count": null,
            "_view_module": "@jupyter-widgets/base",
            "_view_module_version": "1.2.0",
            "_view_name": "StyleView",
            "bar_color": null,
            "description_width": ""
          }
        },
        "32fe1d36bf9f4c1ba43c27e19cac1b26": {
          "model_module": "@jupyter-widgets/base",
          "model_name": "LayoutModel",
          "model_module_version": "1.2.0",
          "state": {
            "_model_module": "@jupyter-widgets/base",
            "_model_module_version": "1.2.0",
            "_model_name": "LayoutModel",
            "_view_count": null,
            "_view_module": "@jupyter-widgets/base",
            "_view_module_version": "1.2.0",
            "_view_name": "LayoutView",
            "align_content": null,
            "align_items": null,
            "align_self": null,
            "border": null,
            "bottom": null,
            "display": null,
            "flex": null,
            "flex_flow": null,
            "grid_area": null,
            "grid_auto_columns": null,
            "grid_auto_flow": null,
            "grid_auto_rows": null,
            "grid_column": null,
            "grid_gap": null,
            "grid_row": null,
            "grid_template_areas": null,
            "grid_template_columns": null,
            "grid_template_rows": null,
            "height": null,
            "justify_content": null,
            "justify_items": null,
            "left": null,
            "margin": null,
            "max_height": null,
            "max_width": null,
            "min_height": null,
            "min_width": null,
            "object_fit": null,
            "object_position": null,
            "order": null,
            "overflow": null,
            "overflow_x": null,
            "overflow_y": null,
            "padding": null,
            "right": null,
            "top": null,
            "visibility": null,
            "width": null
          }
        },
        "235940d175374d1e9af47d4ff631a868": {
          "model_module": "@jupyter-widgets/controls",
          "model_name": "DescriptionStyleModel",
          "model_module_version": "1.5.0",
          "state": {
            "_model_module": "@jupyter-widgets/controls",
            "_model_module_version": "1.5.0",
            "_model_name": "DescriptionStyleModel",
            "_view_count": null,
            "_view_module": "@jupyter-widgets/base",
            "_view_module_version": "1.2.0",
            "_view_name": "StyleView",
            "description_width": ""
          }
        },
        "5cd088e5062e453b83c1239e080517f1": {
          "model_module": "@jupyter-widgets/controls",
          "model_name": "HBoxModel",
          "model_module_version": "1.5.0",
          "state": {
            "_dom_classes": [],
            "_model_module": "@jupyter-widgets/controls",
            "_model_module_version": "1.5.0",
            "_model_name": "HBoxModel",
            "_view_count": null,
            "_view_module": "@jupyter-widgets/controls",
            "_view_module_version": "1.5.0",
            "_view_name": "HBoxView",
            "box_style": "",
            "children": [
              "IPY_MODEL_3ac705fe57464df8a9b3617947f2efae",
              "IPY_MODEL_bb22d14080904d76ba3961bfb7576ea6",
              "IPY_MODEL_b4de206dc57c477cad19bb25e9045c85"
            ],
            "layout": "IPY_MODEL_420df27114e94226905e5e95872a54a6"
          }
        },
        "3ac705fe57464df8a9b3617947f2efae": {
          "model_module": "@jupyter-widgets/controls",
          "model_name": "HTMLModel",
          "model_module_version": "1.5.0",
          "state": {
            "_dom_classes": [],
            "_model_module": "@jupyter-widgets/controls",
            "_model_module_version": "1.5.0",
            "_model_name": "HTMLModel",
            "_view_count": null,
            "_view_module": "@jupyter-widgets/controls",
            "_view_module_version": "1.5.0",
            "_view_name": "HTMLView",
            "description": "",
            "description_tooltip": null,
            "layout": "IPY_MODEL_54e62324e9c140a68c0090155269b606",
            "placeholder": "​",
            "style": "IPY_MODEL_790a34fdef7243a5954b0c77552c8554",
            "value": "Downloading (…)olve/main/vocab.json: 100%"
          }
        },
        "bb22d14080904d76ba3961bfb7576ea6": {
          "model_module": "@jupyter-widgets/controls",
          "model_name": "FloatProgressModel",
          "model_module_version": "1.5.0",
          "state": {
            "_dom_classes": [],
            "_model_module": "@jupyter-widgets/controls",
            "_model_module_version": "1.5.0",
            "_model_name": "FloatProgressModel",
            "_view_count": null,
            "_view_module": "@jupyter-widgets/controls",
            "_view_module_version": "1.5.0",
            "_view_name": "ProgressView",
            "bar_style": "success",
            "description": "",
            "description_tooltip": null,
            "layout": "IPY_MODEL_6628dbe052a9424da55facae720c9a1e",
            "max": 1042301,
            "min": 0,
            "orientation": "horizontal",
            "style": "IPY_MODEL_d9cbea75cd7e465aa8bbc219d9125959",
            "value": 1042301
          }
        },
        "b4de206dc57c477cad19bb25e9045c85": {
          "model_module": "@jupyter-widgets/controls",
          "model_name": "HTMLModel",
          "model_module_version": "1.5.0",
          "state": {
            "_dom_classes": [],
            "_model_module": "@jupyter-widgets/controls",
            "_model_module_version": "1.5.0",
            "_model_name": "HTMLModel",
            "_view_count": null,
            "_view_module": "@jupyter-widgets/controls",
            "_view_module_version": "1.5.0",
            "_view_name": "HTMLView",
            "description": "",
            "description_tooltip": null,
            "layout": "IPY_MODEL_e6b69634cab34b2e99e7c763bd289188",
            "placeholder": "​",
            "style": "IPY_MODEL_2edd5c0fdda547fba2ea177ca089361b",
            "value": " 1.04M/1.04M [00:00&lt;00:00, 4.43MB/s]"
          }
        },
        "420df27114e94226905e5e95872a54a6": {
          "model_module": "@jupyter-widgets/base",
          "model_name": "LayoutModel",
          "model_module_version": "1.2.0",
          "state": {
            "_model_module": "@jupyter-widgets/base",
            "_model_module_version": "1.2.0",
            "_model_name": "LayoutModel",
            "_view_count": null,
            "_view_module": "@jupyter-widgets/base",
            "_view_module_version": "1.2.0",
            "_view_name": "LayoutView",
            "align_content": null,
            "align_items": null,
            "align_self": null,
            "border": null,
            "bottom": null,
            "display": null,
            "flex": null,
            "flex_flow": null,
            "grid_area": null,
            "grid_auto_columns": null,
            "grid_auto_flow": null,
            "grid_auto_rows": null,
            "grid_column": null,
            "grid_gap": null,
            "grid_row": null,
            "grid_template_areas": null,
            "grid_template_columns": null,
            "grid_template_rows": null,
            "height": null,
            "justify_content": null,
            "justify_items": null,
            "left": null,
            "margin": null,
            "max_height": null,
            "max_width": null,
            "min_height": null,
            "min_width": null,
            "object_fit": null,
            "object_position": null,
            "order": null,
            "overflow": null,
            "overflow_x": null,
            "overflow_y": null,
            "padding": null,
            "right": null,
            "top": null,
            "visibility": null,
            "width": null
          }
        },
        "54e62324e9c140a68c0090155269b606": {
          "model_module": "@jupyter-widgets/base",
          "model_name": "LayoutModel",
          "model_module_version": "1.2.0",
          "state": {
            "_model_module": "@jupyter-widgets/base",
            "_model_module_version": "1.2.0",
            "_model_name": "LayoutModel",
            "_view_count": null,
            "_view_module": "@jupyter-widgets/base",
            "_view_module_version": "1.2.0",
            "_view_name": "LayoutView",
            "align_content": null,
            "align_items": null,
            "align_self": null,
            "border": null,
            "bottom": null,
            "display": null,
            "flex": null,
            "flex_flow": null,
            "grid_area": null,
            "grid_auto_columns": null,
            "grid_auto_flow": null,
            "grid_auto_rows": null,
            "grid_column": null,
            "grid_gap": null,
            "grid_row": null,
            "grid_template_areas": null,
            "grid_template_columns": null,
            "grid_template_rows": null,
            "height": null,
            "justify_content": null,
            "justify_items": null,
            "left": null,
            "margin": null,
            "max_height": null,
            "max_width": null,
            "min_height": null,
            "min_width": null,
            "object_fit": null,
            "object_position": null,
            "order": null,
            "overflow": null,
            "overflow_x": null,
            "overflow_y": null,
            "padding": null,
            "right": null,
            "top": null,
            "visibility": null,
            "width": null
          }
        },
        "790a34fdef7243a5954b0c77552c8554": {
          "model_module": "@jupyter-widgets/controls",
          "model_name": "DescriptionStyleModel",
          "model_module_version": "1.5.0",
          "state": {
            "_model_module": "@jupyter-widgets/controls",
            "_model_module_version": "1.5.0",
            "_model_name": "DescriptionStyleModel",
            "_view_count": null,
            "_view_module": "@jupyter-widgets/base",
            "_view_module_version": "1.2.0",
            "_view_name": "StyleView",
            "description_width": ""
          }
        },
        "6628dbe052a9424da55facae720c9a1e": {
          "model_module": "@jupyter-widgets/base",
          "model_name": "LayoutModel",
          "model_module_version": "1.2.0",
          "state": {
            "_model_module": "@jupyter-widgets/base",
            "_model_module_version": "1.2.0",
            "_model_name": "LayoutModel",
            "_view_count": null,
            "_view_module": "@jupyter-widgets/base",
            "_view_module_version": "1.2.0",
            "_view_name": "LayoutView",
            "align_content": null,
            "align_items": null,
            "align_self": null,
            "border": null,
            "bottom": null,
            "display": null,
            "flex": null,
            "flex_flow": null,
            "grid_area": null,
            "grid_auto_columns": null,
            "grid_auto_flow": null,
            "grid_auto_rows": null,
            "grid_column": null,
            "grid_gap": null,
            "grid_row": null,
            "grid_template_areas": null,
            "grid_template_columns": null,
            "grid_template_rows": null,
            "height": null,
            "justify_content": null,
            "justify_items": null,
            "left": null,
            "margin": null,
            "max_height": null,
            "max_width": null,
            "min_height": null,
            "min_width": null,
            "object_fit": null,
            "object_position": null,
            "order": null,
            "overflow": null,
            "overflow_x": null,
            "overflow_y": null,
            "padding": null,
            "right": null,
            "top": null,
            "visibility": null,
            "width": null
          }
        },
        "d9cbea75cd7e465aa8bbc219d9125959": {
          "model_module": "@jupyter-widgets/controls",
          "model_name": "ProgressStyleModel",
          "model_module_version": "1.5.0",
          "state": {
            "_model_module": "@jupyter-widgets/controls",
            "_model_module_version": "1.5.0",
            "_model_name": "ProgressStyleModel",
            "_view_count": null,
            "_view_module": "@jupyter-widgets/base",
            "_view_module_version": "1.2.0",
            "_view_name": "StyleView",
            "bar_color": null,
            "description_width": ""
          }
        },
        "e6b69634cab34b2e99e7c763bd289188": {
          "model_module": "@jupyter-widgets/base",
          "model_name": "LayoutModel",
          "model_module_version": "1.2.0",
          "state": {
            "_model_module": "@jupyter-widgets/base",
            "_model_module_version": "1.2.0",
            "_model_name": "LayoutModel",
            "_view_count": null,
            "_view_module": "@jupyter-widgets/base",
            "_view_module_version": "1.2.0",
            "_view_name": "LayoutView",
            "align_content": null,
            "align_items": null,
            "align_self": null,
            "border": null,
            "bottom": null,
            "display": null,
            "flex": null,
            "flex_flow": null,
            "grid_area": null,
            "grid_auto_columns": null,
            "grid_auto_flow": null,
            "grid_auto_rows": null,
            "grid_column": null,
            "grid_gap": null,
            "grid_row": null,
            "grid_template_areas": null,
            "grid_template_columns": null,
            "grid_template_rows": null,
            "height": null,
            "justify_content": null,
            "justify_items": null,
            "left": null,
            "margin": null,
            "max_height": null,
            "max_width": null,
            "min_height": null,
            "min_width": null,
            "object_fit": null,
            "object_position": null,
            "order": null,
            "overflow": null,
            "overflow_x": null,
            "overflow_y": null,
            "padding": null,
            "right": null,
            "top": null,
            "visibility": null,
            "width": null
          }
        },
        "2edd5c0fdda547fba2ea177ca089361b": {
          "model_module": "@jupyter-widgets/controls",
          "model_name": "DescriptionStyleModel",
          "model_module_version": "1.5.0",
          "state": {
            "_model_module": "@jupyter-widgets/controls",
            "_model_module_version": "1.5.0",
            "_model_name": "DescriptionStyleModel",
            "_view_count": null,
            "_view_module": "@jupyter-widgets/base",
            "_view_module_version": "1.2.0",
            "_view_name": "StyleView",
            "description_width": ""
          }
        },
        "b560ee8fefc649c3a25190b5be63f2e9": {
          "model_module": "@jupyter-widgets/controls",
          "model_name": "HBoxModel",
          "model_module_version": "1.5.0",
          "state": {
            "_dom_classes": [],
            "_model_module": "@jupyter-widgets/controls",
            "_model_module_version": "1.5.0",
            "_model_name": "HBoxModel",
            "_view_count": null,
            "_view_module": "@jupyter-widgets/controls",
            "_view_module_version": "1.5.0",
            "_view_name": "HBoxView",
            "box_style": "",
            "children": [
              "IPY_MODEL_f2ff8e14426f491cbbfcff3e76b5d6f7",
              "IPY_MODEL_f95fb75153054c9b8c9c0cd8a28f891a",
              "IPY_MODEL_1a6863895a674012b6ced137c0707daa"
            ],
            "layout": "IPY_MODEL_863ba664c4084b3683d04098d39307e1"
          }
        },
        "f2ff8e14426f491cbbfcff3e76b5d6f7": {
          "model_module": "@jupyter-widgets/controls",
          "model_name": "HTMLModel",
          "model_module_version": "1.5.0",
          "state": {
            "_dom_classes": [],
            "_model_module": "@jupyter-widgets/controls",
            "_model_module_version": "1.5.0",
            "_model_name": "HTMLModel",
            "_view_count": null,
            "_view_module": "@jupyter-widgets/controls",
            "_view_module_version": "1.5.0",
            "_view_name": "HTMLView",
            "description": "",
            "description_tooltip": null,
            "layout": "IPY_MODEL_8407e9f5ec394e8a89cfd5c5a8910b4d",
            "placeholder": "​",
            "style": "IPY_MODEL_c391658672eb4a82a4eb14b6b2a742cc",
            "value": "Downloading (…)olve/main/merges.txt: 100%"
          }
        },
        "f95fb75153054c9b8c9c0cd8a28f891a": {
          "model_module": "@jupyter-widgets/controls",
          "model_name": "FloatProgressModel",
          "model_module_version": "1.5.0",
          "state": {
            "_dom_classes": [],
            "_model_module": "@jupyter-widgets/controls",
            "_model_module_version": "1.5.0",
            "_model_name": "FloatProgressModel",
            "_view_count": null,
            "_view_module": "@jupyter-widgets/controls",
            "_view_module_version": "1.5.0",
            "_view_name": "ProgressView",
            "bar_style": "success",
            "description": "",
            "description_tooltip": null,
            "layout": "IPY_MODEL_cd9548179476443caba5288327b34f5c",
            "max": 456318,
            "min": 0,
            "orientation": "horizontal",
            "style": "IPY_MODEL_12b6cfe629a747da90b4f1d86ab8bb1c",
            "value": 456318
          }
        },
        "1a6863895a674012b6ced137c0707daa": {
          "model_module": "@jupyter-widgets/controls",
          "model_name": "HTMLModel",
          "model_module_version": "1.5.0",
          "state": {
            "_dom_classes": [],
            "_model_module": "@jupyter-widgets/controls",
            "_model_module_version": "1.5.0",
            "_model_name": "HTMLModel",
            "_view_count": null,
            "_view_module": "@jupyter-widgets/controls",
            "_view_module_version": "1.5.0",
            "_view_name": "HTMLView",
            "description": "",
            "description_tooltip": null,
            "layout": "IPY_MODEL_d6468e04d71d41b7a89d07aad54a2dd3",
            "placeholder": "​",
            "style": "IPY_MODEL_b255cebbf8c44fd2b62acda1080b2782",
            "value": " 456k/456k [00:00&lt;00:00, 2.94MB/s]"
          }
        },
        "863ba664c4084b3683d04098d39307e1": {
          "model_module": "@jupyter-widgets/base",
          "model_name": "LayoutModel",
          "model_module_version": "1.2.0",
          "state": {
            "_model_module": "@jupyter-widgets/base",
            "_model_module_version": "1.2.0",
            "_model_name": "LayoutModel",
            "_view_count": null,
            "_view_module": "@jupyter-widgets/base",
            "_view_module_version": "1.2.0",
            "_view_name": "LayoutView",
            "align_content": null,
            "align_items": null,
            "align_self": null,
            "border": null,
            "bottom": null,
            "display": null,
            "flex": null,
            "flex_flow": null,
            "grid_area": null,
            "grid_auto_columns": null,
            "grid_auto_flow": null,
            "grid_auto_rows": null,
            "grid_column": null,
            "grid_gap": null,
            "grid_row": null,
            "grid_template_areas": null,
            "grid_template_columns": null,
            "grid_template_rows": null,
            "height": null,
            "justify_content": null,
            "justify_items": null,
            "left": null,
            "margin": null,
            "max_height": null,
            "max_width": null,
            "min_height": null,
            "min_width": null,
            "object_fit": null,
            "object_position": null,
            "order": null,
            "overflow": null,
            "overflow_x": null,
            "overflow_y": null,
            "padding": null,
            "right": null,
            "top": null,
            "visibility": null,
            "width": null
          }
        },
        "8407e9f5ec394e8a89cfd5c5a8910b4d": {
          "model_module": "@jupyter-widgets/base",
          "model_name": "LayoutModel",
          "model_module_version": "1.2.0",
          "state": {
            "_model_module": "@jupyter-widgets/base",
            "_model_module_version": "1.2.0",
            "_model_name": "LayoutModel",
            "_view_count": null,
            "_view_module": "@jupyter-widgets/base",
            "_view_module_version": "1.2.0",
            "_view_name": "LayoutView",
            "align_content": null,
            "align_items": null,
            "align_self": null,
            "border": null,
            "bottom": null,
            "display": null,
            "flex": null,
            "flex_flow": null,
            "grid_area": null,
            "grid_auto_columns": null,
            "grid_auto_flow": null,
            "grid_auto_rows": null,
            "grid_column": null,
            "grid_gap": null,
            "grid_row": null,
            "grid_template_areas": null,
            "grid_template_columns": null,
            "grid_template_rows": null,
            "height": null,
            "justify_content": null,
            "justify_items": null,
            "left": null,
            "margin": null,
            "max_height": null,
            "max_width": null,
            "min_height": null,
            "min_width": null,
            "object_fit": null,
            "object_position": null,
            "order": null,
            "overflow": null,
            "overflow_x": null,
            "overflow_y": null,
            "padding": null,
            "right": null,
            "top": null,
            "visibility": null,
            "width": null
          }
        },
        "c391658672eb4a82a4eb14b6b2a742cc": {
          "model_module": "@jupyter-widgets/controls",
          "model_name": "DescriptionStyleModel",
          "model_module_version": "1.5.0",
          "state": {
            "_model_module": "@jupyter-widgets/controls",
            "_model_module_version": "1.5.0",
            "_model_name": "DescriptionStyleModel",
            "_view_count": null,
            "_view_module": "@jupyter-widgets/base",
            "_view_module_version": "1.2.0",
            "_view_name": "StyleView",
            "description_width": ""
          }
        },
        "cd9548179476443caba5288327b34f5c": {
          "model_module": "@jupyter-widgets/base",
          "model_name": "LayoutModel",
          "model_module_version": "1.2.0",
          "state": {
            "_model_module": "@jupyter-widgets/base",
            "_model_module_version": "1.2.0",
            "_model_name": "LayoutModel",
            "_view_count": null,
            "_view_module": "@jupyter-widgets/base",
            "_view_module_version": "1.2.0",
            "_view_name": "LayoutView",
            "align_content": null,
            "align_items": null,
            "align_self": null,
            "border": null,
            "bottom": null,
            "display": null,
            "flex": null,
            "flex_flow": null,
            "grid_area": null,
            "grid_auto_columns": null,
            "grid_auto_flow": null,
            "grid_auto_rows": null,
            "grid_column": null,
            "grid_gap": null,
            "grid_row": null,
            "grid_template_areas": null,
            "grid_template_columns": null,
            "grid_template_rows": null,
            "height": null,
            "justify_content": null,
            "justify_items": null,
            "left": null,
            "margin": null,
            "max_height": null,
            "max_width": null,
            "min_height": null,
            "min_width": null,
            "object_fit": null,
            "object_position": null,
            "order": null,
            "overflow": null,
            "overflow_x": null,
            "overflow_y": null,
            "padding": null,
            "right": null,
            "top": null,
            "visibility": null,
            "width": null
          }
        },
        "12b6cfe629a747da90b4f1d86ab8bb1c": {
          "model_module": "@jupyter-widgets/controls",
          "model_name": "ProgressStyleModel",
          "model_module_version": "1.5.0",
          "state": {
            "_model_module": "@jupyter-widgets/controls",
            "_model_module_version": "1.5.0",
            "_model_name": "ProgressStyleModel",
            "_view_count": null,
            "_view_module": "@jupyter-widgets/base",
            "_view_module_version": "1.2.0",
            "_view_name": "StyleView",
            "bar_color": null,
            "description_width": ""
          }
        },
        "d6468e04d71d41b7a89d07aad54a2dd3": {
          "model_module": "@jupyter-widgets/base",
          "model_name": "LayoutModel",
          "model_module_version": "1.2.0",
          "state": {
            "_model_module": "@jupyter-widgets/base",
            "_model_module_version": "1.2.0",
            "_model_name": "LayoutModel",
            "_view_count": null,
            "_view_module": "@jupyter-widgets/base",
            "_view_module_version": "1.2.0",
            "_view_name": "LayoutView",
            "align_content": null,
            "align_items": null,
            "align_self": null,
            "border": null,
            "bottom": null,
            "display": null,
            "flex": null,
            "flex_flow": null,
            "grid_area": null,
            "grid_auto_columns": null,
            "grid_auto_flow": null,
            "grid_auto_rows": null,
            "grid_column": null,
            "grid_gap": null,
            "grid_row": null,
            "grid_template_areas": null,
            "grid_template_columns": null,
            "grid_template_rows": null,
            "height": null,
            "justify_content": null,
            "justify_items": null,
            "left": null,
            "margin": null,
            "max_height": null,
            "max_width": null,
            "min_height": null,
            "min_width": null,
            "object_fit": null,
            "object_position": null,
            "order": null,
            "overflow": null,
            "overflow_x": null,
            "overflow_y": null,
            "padding": null,
            "right": null,
            "top": null,
            "visibility": null,
            "width": null
          }
        },
        "b255cebbf8c44fd2b62acda1080b2782": {
          "model_module": "@jupyter-widgets/controls",
          "model_name": "DescriptionStyleModel",
          "model_module_version": "1.5.0",
          "state": {
            "_model_module": "@jupyter-widgets/controls",
            "_model_module_version": "1.5.0",
            "_model_name": "DescriptionStyleModel",
            "_view_count": null,
            "_view_module": "@jupyter-widgets/base",
            "_view_module_version": "1.2.0",
            "_view_name": "StyleView",
            "description_width": ""
          }
        }
      }
    }
  },
  "cells": [
    {
      "cell_type": "code",
      "execution_count": null,
      "metadata": {
        "id": "PUm0W4v7R7sh"
      },
      "outputs": [],
      "source": [
        "!pip install wikipedia"
      ]
    },
    {
      "cell_type": "code",
      "source": [
        "import wikipedia\n",
        "wikipedia.search(\"programming\")"
      ],
      "metadata": {
        "colab": {
          "base_uri": "https://localhost:8080/"
        },
        "id": "cqbH5fPjSMge",
        "outputId": "9b6bced4-80e8-4edd-a89c-be9fe531921e"
      },
      "execution_count": 2,
      "outputs": [
        {
          "output_type": "execute_result",
          "data": {
            "text/plain": [
              "['Computer programming',\n",
              " 'Program',\n",
              " 'Programming language',\n",
              " 'C (programming language)',\n",
              " 'Computer program',\n",
              " 'Pair programming',\n",
              " 'Java (programming language)',\n",
              " 'API',\n",
              " 'Python (programming language)',\n",
              " 'Imperative programming']"
            ]
          },
          "metadata": {},
          "execution_count": 2
        }
      ]
    },
    {
      "cell_type": "code",
      "source": [
        "print(wikipedia.summary(\"Python (programming language)\", sentences=3))"
      ],
      "metadata": {
        "colab": {
          "base_uri": "https://localhost:8080/"
        },
        "id": "VMrZPezbSnxe",
        "outputId": "d97f0427-3397-4447-e28c-8df11e23847f"
      },
      "execution_count": 3,
      "outputs": [
        {
          "output_type": "stream",
          "name": "stdout",
          "text": [
            "Python is a high-level, general-purpose programming language. Its design philosophy emphasizes code readability with the use of significant indentation via the off-side rule.Python is dynamically typed and garbage-collected. It supports multiple programming paradigms, including structured (particularly procedural), object-oriented and functional programming.\n"
          ]
        }
      ]
    },
    {
      "cell_type": "markdown",
      "source": [
        "## To retrieve the full wikipedia page data"
      ],
      "metadata": {
        "id": "aewnK8t3Syuq"
      }
    },
    {
      "cell_type": "code",
      "source": [
        "page_py = wikipedia.page(\"Python (programming language)\")"
      ],
      "metadata": {
        "id": "mLuiEMeDSs3X"
      },
      "execution_count": 15,
      "outputs": []
    },
    {
      "cell_type": "code",
      "source": [
        "print(wikipedia.page(\"Python (programming language)\").content)"
      ],
      "metadata": {
        "colab": {
          "base_uri": "https://localhost:8080/"
        },
        "id": "wERcuy1PTDVL",
        "outputId": "feccc9f1-8972-43fc-8a40-348378e486df"
      },
      "execution_count": 64,
      "outputs": [
        {
          "output_type": "stream",
          "name": "stdout",
          "text": [
            "Python is a high-level, general-purpose programming language. Its design philosophy emphasizes code readability with the use of significant indentation via the off-side rule.Python is dynamically typed and garbage-collected. It supports multiple programming paradigms, including structured (particularly procedural), object-oriented and functional programming. It is often described as a \"batteries included\" language due to its comprehensive standard library.Guido van Rossum began working on Python in the late 1980s as a successor to the ABC programming language and first released it in 1991 as Python 0.9.0. Python 2.0 was released in 2000. Python 3.0, released in 2008, was a major revision not completely backward-compatible with earlier versions. Python 2.7.18, released in 2020, was the last release of Python 2.Python consistently ranks as one of the most popular programming languages. Python users are colloquially called pythonistas.\n",
            "\n",
            "\n",
            "== History ==\n",
            "\n",
            "Python was conceived in the late 1980s by Guido van Rossum at Centrum Wiskunde & Informatica (CWI) in the Netherlands as a successor to the ABC programming language, which was inspired by SETL, capable of exception handling and interfacing with the Amoeba operating system. Its implementation began in December 1989. Van Rossum shouldered sole responsibility for the project, as the lead developer, until 12 July 2018, when he announced his \"permanent vacation\" from his responsibilities as Python's \"benevolent dictator for life\", a title the Python community bestowed upon him to reflect his long-term commitment as the project's chief decision-maker. In January 2019, active Python core developers elected a five-member Steering Council to lead the project.Python 2.0 was released on 16 October 2000, with many major new features such as list comprehensions, cycle-detecting garbage collection, reference counting, and Unicode support. Python 3.0, released on 3 December 2008, with many of its major features backported to Python 2.6.x and 2.7.x. Releases of Python 3 include the 2to3 utility, which automates the translation of Python 2 code to Python 3.Python 2.7's end-of-life was initially set for 2015, then postponed to 2020 out of concern that a large body of existing code could not easily be forward-ported to Python 3. No further security patches or other improvements will be released for it. Currently only 3.7 and later are supported. In 2021, Python 3.9.2 and 3.8.8 were expedited as all versions of Python (including 2.7) had security issues leading to possible remote code execution and web cache poisoning.In 2022, Python 3.10.4 and 3.9.12 were expedited and 3.8.13, and 3.7.13, because of many security issues. When Python 3.9.13 was released in May 2022, it was announced that the 3.9 series (joining the older series 3.8 and 3.7) would only receive security fixes in the future. On September 7, 2022, four new releases were made due to a potential denial-of-service attack: 3.10.7, 3.9.14, 3.8.14, and 3.7.14.As of November 2022, Python 3.11 is the stable release. Notable changes from 3.10 include increased program execution speed and improved error reporting.\n",
            "\n",
            "\n",
            "== Design philosophy and features ==\n",
            "Python is a multi-paradigm programming language. Object-oriented programming and structured programming are fully supported, and many of their features support functional programming and aspect-oriented programming (including metaprogramming and metaobjects). Many other paradigms are supported via extensions, including design by contract and logic programming.Python uses dynamic typing and a combination of reference counting and a cycle-detecting garbage collector for memory management. It uses dynamic name resolution (late binding), which binds method and variable names during program execution.\n",
            "Its design offers some support for functional programming in the Lisp tradition. It has filter,mapandreduce functions; list comprehensions, dictionaries, sets, and generator expressions. The standard library has two modules (itertools and functools) that implement functional tools borrowed from Haskell and Standard ML.Its core philosophy is summarized in the document The Zen of Python (PEP 20), which includes aphorisms such as:\n",
            "Beautiful is better than ugly.\n",
            "Explicit is better than implicit.\n",
            "Simple is better than complex.\n",
            "Complex is better than complicated.\n",
            "Readability counts.Rather than building all of its functionality into its core, Python was designed to be highly extensible via modules. This compact modularity has made it particularly popular as a means of adding programmable interfaces to existing applications. Van Rossum's vision of a small core language with a large standard library and easily extensible interpreter stemmed from his frustrations with ABC, which espoused the opposite approach.Python strives for a simpler, less-cluttered syntax and grammar while giving developers a choice in their coding methodology. In contrast to Perl's \"there is more than one way to do it\" motto, Python embraces a \"there should be one—and preferably only one—obvious way to do it\"  philosophy. Alex Martelli, a Fellow at the Python Software Foundation and Python book author, wrote: \"To describe something as 'clever' is not considered a compliment in the Python culture.\"Python's developers strive to avoid premature optimization and reject patches to non-critical parts of the CPython reference implementation that would offer marginal increases in speed at the cost of clarity. When speed is important, a Python programmer can move time-critical functions to extension modules written in languages such as C; or use PyPy, a just-in-time compiler. Cython is also available, which translates a Python script into C and makes direct C-level API calls into the Python interpreter.\n",
            "Python's developers aim for it to be fun to use. This is reflected in its name—a tribute to the British comedy group Monty Python—and in occasionally playful approaches to tutorials and reference materials, such as the use of the terms \"spam\" and \"eggs\" (a reference to a Monty Python sketch) in examples, instead of the often-used \"foo\" and \"bar\".A common neologism in the Python community is pythonic, which has a wide range of meanings related to program style. \"Pythonic\" code may use Python idioms well, be natural or show fluency in the language, or conform with Python's minimalist philosophy and emphasis on readability. Code that is difficult to understand or reads like a rough transcription from another programming language is called unpythonic.\n",
            "\n",
            "\n",
            "== Syntax and semantics ==\n",
            "\n",
            "Python is meant to be an easily readable language. Its formatting is visually uncluttered and often uses English keywords where other languages use punctuation. Unlike many other languages, it does not use curly brackets to delimit blocks, and semicolons after statements are allowed but rarely used. It has fewer syntactic exceptions and special cases than C or Pascal.\n",
            "\n",
            "\n",
            "=== Indentation ===\n",
            "\n",
            "Python uses whitespace indentation, rather than curly brackets or keywords, to delimit blocks. An increase in indentation comes after certain statements; a decrease in indentation signifies the end of the current block. Thus, the program's visual structure accurately represents its semantic structure. This feature is sometimes termed the off-side rule. Some other languages use indentation this way; but in most, indentation has no semantic meaning. The recommended indent size is four spaces.\n",
            "\n",
            "\n",
            "=== Statements and control flow ===\n",
            "Python's statements include:\n",
            "\n",
            "The assignment statement, using a single equals sign =\n",
            "The if statement, which conditionally executes a block of code, along with else and elif (a contraction of else-if)\n",
            "The for statement, which iterates over an iterable object, capturing each element to a local variable for use by the attached block\n",
            "The while statement, which executes a block of code as long as its condition is true\n",
            "The try statement, which allows exceptions raised in its attached code block to be caught and handled by except clauses (or new syntax except* in Python 3.11 for exception groups); it also ensures that clean-up code in a finally block is always run regardless of how the block exits\n",
            "The raise statement, used to raise a specified exception or re-raise a caught exception\n",
            "The class statement, which executes a block of code and attaches its local namespace to a class, for use in object-oriented programming\n",
            "The def statement, which defines a function or method\n",
            "The with statement, which encloses a code block within a context manager (for example, acquiring a lock before it is run, then releasing the lock; or opening and closing a file), allowing resource-acquisition-is-initialization (RAII)-like behavior and replacing a common try/finally idiom\n",
            "The break statement, which exits a loop\n",
            "The continue statement, which skips the rest of the current iteration and continues with the next\n",
            "The del statement, which removes a variable—deleting the reference from the name to the value, and producing an error if the variable is referred to before it is redefined\n",
            "The pass statement, serving as a NOP, syntactically needed to create an empty code block\n",
            "The assert statement, used in debugging to check for conditions that should apply\n",
            "The yield statement, which returns a value from a generator function (and also an operator); used to implement coroutines\n",
            "The return statement, used to return a value from a function\n",
            "The import and from statements, used to import modules whose functions or variables can be used in the current programThe assignment statement (=) binds a name as a reference to a separate, dynamically allocated object. Variables may subsequently be rebound at any time to any object. In Python, a variable name is a generic reference holder without a fixed data type; however, it always refers to some object with a type. This is called dynamic typing—in contrast to statically-typed languages, where each variable may contain only a value of a certain type.\n",
            "Python does not support tail call optimization or first-class continuations, and, according to Van Rossum, it never will. However, better support for coroutine-like functionality is provided by extending Python's generators. Before 2.5, generators were lazy iterators; data was passed unidirectionally out of the generator. From Python 2.5 on, it is possible to pass data back into a generator function; and from version 3.3, it can be passed through multiple stack levels.\n",
            "\n",
            "\n",
            "=== Expressions ===\n",
            "Python's expressions include:\n",
            "\n",
            "The +, -, and * operators for mathematical addition, subtraction, and multiplication are similar to other languages, but the behavior of division differs. There are two types of divisions in Python: floor division (or integer division) // and floating-point/division. Python uses the ** operator for exponentiation.\n",
            "Python uses the + operator for string concatenation. Python uses the * operator for duplicating a string a specified number of times.\n",
            "The @ infix operator. It is intended to be used by libraries such as NumPy for matrix multiplication.\n",
            "The syntax :=, called the \"walrus operator\", was introduced in Python 3.8. It assigns values to variables as part of a larger expression.\n",
            "In Python, == compares by value. Python's is operator may be used to compare object identities (comparison by reference), and comparisons may be chained—for example, a <= b <= c.\n",
            "Python uses and, or, and not as boolean operators.\n",
            "Python has a type of expression called a list comprehension, as well as a more general expression called a generator expression.\n",
            "Anonymous functions are implemented using lambda expressions; however, there may be only one expression in each body.\n",
            "Conditional expressions are written as x if c else y (different in order of operands from the c ? x : y operator common to many other languages).\n",
            "Python makes a distinction between lists and tuples. Lists are written as [1, 2, 3], are mutable, and cannot be used as the keys of dictionaries (dictionary keys must be immutable in Python). Tuples, written as (1, 2, 3), are immutable and thus can be used as keys of dictionaries, provided all of the tuple's elements are immutable. The + operator can be used to concatenate two tuples, which does not directly modify their contents, but produces a new tuple containing the elements of both. Thus, given the variable t initially equal to (1, 2, 3), executing t = t + (4, 5) first evaluates t + (4, 5), which yields (1, 2, 3, 4, 5), which is then assigned back to t—thereby effectively \"modifying the contents\" of t while conforming to the immutable nature of tuple objects. Parentheses are optional for tuples in unambiguous contexts.\n",
            "Python features sequence unpacking where multiple expressions, each evaluating to anything that can be assigned (to a variable, writable property, etc.) are associated in an identical manner to that forming tuple literals—and, as a whole, are put on the left-hand side of the equal sign in an assignment statement. The statement expects an iterable object on the right-hand side of the equal sign that produces the same number of values as the provided writable expressions; when iterated through them, it assigns each of the produced values to the corresponding expression on the left.\n",
            "Python has a \"string format\" operator % that functions analogously to printf format strings in C—e.g. \"spam=%s eggs=%d\" % (\"blah\", 2) evaluates to \"spam=blah eggs=2\". In Python 2.6+ and 3+, this was supplemented by the format() method of the str class, e.g. \"spam={0} eggs={1}\".format(\"blah\", 2). Python 3.6 added \"f-strings\": spam = \"blah\"; eggs = 2; f'spam={spam} eggs={eggs}'.\n",
            "Strings in Python can be concatenated by \"adding\" them (with the same operator as for adding integers and floats), e.g. \"spam\" + \"eggs\" returns \"spameggs\". If strings contain numbers, they are added as strings rather than integers, e.g. \"2\" + \"2\" returns \"22\".\n",
            "Python has various string literals:\n",
            "Delimited by single or double quote marks; unlike in Unix shells, Perl, and Perl-influenced languages, single and double quote marks work the same. Both use the backslash (\\) as an escape character. String interpolation became available in Python 3.6 as \"formatted string literals\".\n",
            "Triple-quoted (beginning and ending with three single or double quote marks), which may span multiple lines and function like here documents in shells, Perl, and Ruby.\n",
            "Raw string varieties, denoted by prefixing the string literal with r. Escape sequences are not interpreted; hence raw strings are useful where literal backslashes are common, such as regular expressions and Windows-style paths. (Compare \"@-quoting\" in C#.)\n",
            "Python has array index and array slicing expressions in lists, denoted as a[key], a[start:stop] or a[start:stop:step]. Indexes are zero-based, and negative indexes are relative to the end. Slices take elements from the start index up to, but not including, the stop index. The third slice parameter called step or stride, allows elements to be skipped and reversed. Slice indexes may be omitted—for example, a[:] returns a copy of the entire list. Each element of a slice is a shallow copy.In Python, a distinction between expressions and statements is rigidly enforced, in contrast to languages such as Common Lisp, Scheme, or Ruby. This leads to duplicating some functionality. For example:\n",
            "\n",
            "List comprehensions vs. for-loops\n",
            "Conditional expressions vs. if blocks\n",
            "The eval() vs. exec() built-in functions (in Python 2, exec is a statement); the former is for expressions, the latter is for statementsStatements cannot be a part of an expression—so list and other comprehensions or lambda expressions, all being expressions, cannot contain statements. A particular case is that an assignment statement such as a = 1 cannot form part of the conditional expression of a conditional statement. This has the advantage of avoiding a classic C error of mistaking an assignment operator = for an equality operator == in conditions: if (c = 1) { ... } is syntactically valid (but probably unintended) C code, but if c = 1: ... causes a syntax error in Python.\n",
            "\n",
            "\n",
            "=== Methods ===\n",
            "Methods on objects are functions attached to the object's class; the syntax instance.method(argument) is, for normal methods and functions, syntactic sugar for Class.method(instance, argument). Python methods have an explicit self parameter to access instance data, in contrast to the implicit self (or this) in some other object-oriented programming languages (e.g., C++, Java, Objective-C, Ruby). Python also provides methods, often called dunder methods (due to their names beginning and ending with double-underscores), to allow user-defined classes to modify how they are handled by native operations including length, comparison, in arithmetic operations and type conversion.\n",
            "\n",
            "\n",
            "=== Typing ===\n",
            "Python uses duck typing and has typed objects but untyped variable names. Type constraints are not checked at compile time; rather, operations on an object may fail, signifying that it is not of a suitable type. Despite being dynamically typed, Python is strongly typed, forbidding operations that are not well-defined (for example, adding a number to a string) rather than silently attempting to make sense of them.\n",
            "Python allows programmers to define their own types using classes, most often used for object-oriented programming. New instances of classes are constructed by calling the class (for example, SpamClass() or EggsClass()), and the classes are instances of the metaclass type (itself an instance of itself), allowing metaprogramming and reflection.\n",
            "Before version 3.0, Python had two kinds of classes (both using the same syntax): old-style and new-style, current Python versions only support the semantics new style.\n",
            "Python supports gradual typing. Python's syntax allows specifying static types, but they are not checked in the default implementation, CPython. An experimental optional static type-checker, mypy, supports compile-time type checking.\n",
            "\n",
            "\n",
            "=== Arithmetic operations ===\n",
            "Python has the usual symbols for arithmetic operators (+, -, *, /), the floor division operator // and the modulo operation % (where the remainder can be negative,  e.g. 4 % -3 == -2). It also has ** for exponentiation, e.g. 5**3 == 125 and 9**0.5 == 3.0, and a matrix‑multiplication operator @ . These operators work like in traditional math; with the same precedence rules, the operators infix (+ and - can also be unary to represent positive and negative numbers respectively).\n",
            "The division between integers produces floating-point results. The behavior of division has changed significantly over time:\n",
            "Current Python (i.e. since 3.0) changed / to always be floating-point division, e.g. 5/2 == 2.5.\n",
            "The floor division // operator was introduced. So 7//3 == 2, -7//3 == -3, 7.5//3 == 2.0 and -7.5//3 == -3.0. Adding from __future__ import division causes a module used in Python 2.7 to use Python 3.0 rules for division (see above).In Python terms, / is true division (or simply division), and // is floor division. / before version 3.0 is classic division.Rounding towards negative infinity, though different from most languages, adds consistency. For instance, it means that the equation (a + b)//b == a//b + 1 is always true. It also means that the equation b*(a//b) + a%b == a is valid for both positive and negative values of a. However, maintaining the validity of this equation means that while the result of a%b is, as expected, in the half-open interval [0, b), where b is a positive integer, it has to lie in the interval (b, 0] when b is negative.Python provides a round function for rounding a float to the nearest integer. For tie-breaking, Python 3 uses round to even: round(1.5) and round(2.5) both produce 2. Versions before 3 used round-away-from-zero: round(0.5) is 1.0, round(-0.5) is −1.0.Python allows boolean expressions with multiple equality relations in a manner that is consistent with general use in mathematics. For example, the expression a < b < c tests whether a is less than b and b is less than c. C-derived languages interpret this expression differently: in C, the expression would first evaluate a < b, resulting in 0 or 1, and that result would then be compared with c.Python uses arbitrary-precision arithmetic for all integer operations. The Decimal type/class in the decimal module provides decimal floating-point numbers to a pre-defined arbitrary precision and several rounding modes. The Fraction class in the fractions module provides arbitrary precision for rational numbers.Due to Python's extensive mathematics library, and the third-party library NumPy that further extends the native capabilities, it is frequently used as a scientific scripting language to aid in problems such as numerical data processing and manipulation.\n",
            "\n",
            "\n",
            "== Programming examples ==\n",
            "Hello world program:\n",
            "\n",
            "Program to calculate the factorial of a positive integer:\n",
            "\n",
            "\n",
            "== Libraries ==\n",
            "Python's large standard library provides tools suited to many tasks and is commonly cited as one of its greatest strengths. For Internet-facing applications, many standard formats and protocols such as MIME and HTTP are supported. It includes modules for creating graphical user interfaces, connecting to relational databases, generating pseudorandom numbers, arithmetic with arbitrary-precision decimals, manipulating regular expressions, and unit testing.\n",
            "Some parts of the standard library are covered by specifications—for example, the Web Server Gateway Interface (WSGI) implementation wsgiref follows PEP 333—but most are specified by their code, internal documentation, and test suites. However, because most of the standard library is cross-platform Python code, only a few modules need altering or rewriting for variant implementations.\n",
            "As of 14 November 2022, the Python Package Index (PyPI), the official repository for third-party Python software, contains over 415,000 packages with a wide range of functionality, including:\n",
            "\n",
            "\n",
            "== Development environments ==\n",
            "\n",
            "Most Python implementations (including CPython) include a read–eval–print loop (REPL), permitting them to function as a command line interpreter for which users enter statements sequentially and receive results immediately.\n",
            "Python also comes with an Integrated development environment (IDE) called IDLE, which is more beginner-oriented.\n",
            "Other shells, including IDLE and IPython, add further abilities such as improved auto-completion, session state retention, and syntax highlighting.\n",
            "As well as standard desktop integrated development environments, there are Web browser-based IDEs, including SageMath, for developing science- and math-related programs; PythonAnywhere, a browser-based IDE and hosting environment; and Canopy IDE, a commercial IDE emphasizing scientific computing.\n",
            "\n",
            "\n",
            "== Implementations ==\n",
            "\n",
            "\n",
            "=== Reference implementation ===\n",
            "CPython is the reference implementation of Python. It is written in C, meeting the C89 standard (Python 3.11 uses C11) with several select C99 features. CPython includes its own C extensions, but third-party extensions are not limited to older C versions—e.g. they can be implemented with C11 or C++.) It compiles Python programs into an intermediate bytecode which is then executed by its virtual machine. CPython is distributed with a large standard library written in a mixture of C and native Python, and is available for many platforms, including Windows (starting with Python 3.9, the Python installer deliberately fails to install on Windows 7 and 8; Windows XP was supported until Python 3.5) and most modern Unix-like systems, including macOS (and Apple M1 Macs, since Python 3.9.1, with experimental installer) and unofficial support for e.g. VMS. Platform portability was one of its earliest priorities. (During Python 1 and 2 development, even OS/2 and Solaris were supported, but support has since been dropped for many platforms.)\n",
            "\n",
            "\n",
            "=== Other implementations ===\n",
            "PyPy is a fast, compliant interpreter of Python 2.7 and 3.8. Its just-in-time compiler often brings a significant speed improvement over CPython but some libraries written in C cannot be used with it.\n",
            "Stackless Python is a significant fork of CPython that implements microthreads; it does not use the call stack in the same way, thus allowing massively concurrent programs. PyPy also has a stackless version.\n",
            "MicroPython and CircuitPython are Python 3 variants optimized for microcontrollers, including Lego Mindstorms EV3.\n",
            "Pyston is a variant of the Python runtime that uses just-in-time compilation to speed up the execution of Python programs.\n",
            "Cinder is a performance-oriented fork of CPython 3.8 that contains a number of optimizations including bytecode inline caching, eager evaluation of coroutines, a method-at-a-time JIT, and an experimental bytecode compiler.\n",
            "\n",
            "\n",
            "=== Unsupported implementations ===\n",
            "Other just-in-time Python compilers have been developed, but are now unsupported:\n",
            "\n",
            "Google began a project named Unladen Swallow in 2009, with the aim of speeding up the Python interpreter fivefold by using the LLVM, and of improving its multithreading ability to scale to thousands of cores, while ordinary implementations suffer from the global interpreter lock.\n",
            "Psyco is a discontinued just-in-time specializing compiler that integrates with CPython and transforms bytecode to machine code at runtime. The emitted code is specialized for certain data types and is faster than the standard Python code. Psyco does not support Python 2.7 or later.\n",
            "PyS60 was a Python 2 interpreter for Series 60 mobile phones released by Nokia in 2005. It implemented many of the modules from the standard library and some additional modules for integrating with the Symbian operating system. The Nokia N900 also supports Python with GTK widget libraries, enabling programs to be written and run on the target device.\n",
            "\n",
            "\n",
            "=== Cross-compilers to other languages ===\n",
            "There are several compilers to high-level object languages, with either unrestricted Python, a restricted subset of Python, or a language similar to Python as the source language:\n",
            "\n",
            "Brython, Transcrypt and Pyjs (latest release in 2012) compile Python to JavaScript.\n",
            "Cython compiles (a superset of) Python  to C (while the resulting code is also usable with Python and also e.g. C++).\n",
            "Nuitka compiles Python into C.\n",
            "Numba uses LLVM to compile a subset of Python to machine code.\n",
            "Pythran compiles a subset of Python 3 to C++ (C++11).\n",
            "RPython can be compiled to C, and is used to build the PyPy interpreter of Python.\n",
            "The Python → 11l → C++ transpiler compiles a subset of Python 3 to C++ (C++17).Specialized:\n",
            "\n",
            "MyHDL is a Python-based hardware description language (HDL), that converts MyHDL code to Verilog or VHDL code.Older projects (or not to be used with Python 3.x and latest syntax):\n",
            "\n",
            "Google's Grumpy (latest release in 2017) transpiles Python 2 to Go.\n",
            "IronPython  allows running Python 2.7 programs (and an alpha, released in 2021, is also available for \"Python 3.4, although features and behaviors from later versions may be included\") on the .NET Common Language Runtime.\n",
            "Jython compiles Python 2.7 to Java bytecode, allowing the use of the Java libraries from a Python program.\n",
            "Pyrex (latest release in 2010) and Shed Skin (latest release in 2013) compile to C and C++ respectively.\n",
            "\n",
            "\n",
            "=== Performance ===\n",
            "Performance comparison of various Python implementations on a non-numerical (combinatorial) workload was presented at EuroSciPy '13. Python's performance compared to other programming languages is also benchmarked by The Computer Language Benchmarks Game.\n",
            "\n",
            "\n",
            "== Development ==\n",
            "Python's development is conducted largely through the Python Enhancement Proposal (PEP) process, the primary mechanism for proposing major new features, collecting community input on issues, and documenting Python design decisions. Python coding style is covered in PEP 8. Outstanding PEPs are reviewed and commented on by the Python community and the steering council.Enhancement of the language corresponds with the development of the CPython reference implementation. The mailing list python-dev is the primary forum for the language's development. Specific issues were originally discussed in the Roundup bug tracker hosted at by the foundation. In 2022, all issues and discussions were migrated to GitHub. Development originally took place on a self-hosted source-code repository running Mercurial, until Python moved to GitHub in January 2017.CPython's public releases come in three types, distinguished by which part of the version number is incremented:\n",
            "\n",
            "Backward-incompatible versions, where code is expected to break and needs to be manually ported. The first part of the version number is incremented. These releases happen infrequently—version 3.0 was released 8 years after 2.0. According to Guido van Rossum, a version 4.0 is very unlikely to ever happen.\n",
            "Major or \"feature\" releases are largely compatible with the previous version but introduce new features. The second part of the version number is incremented. Starting with Python 3.9, these releases are expected to happen annually. Each major version is supported by bug fixes for several years after its release.\n",
            "Bugfix releases, which introduce no new features, occur about every 3 months and are made when a sufficient number of bugs have been fixed upstream since the last release. Security vulnerabilities are also patched in these releases. The third and final part of the version number is incremented.Many alpha, beta, and release-candidates are also released as previews and for testing before final releases. Although there is a rough schedule for each release, they are often delayed if the code is not ready. Python's development team monitors the state of the code by running the large unit test suite during development.The major academic conference on Python is PyCon. There are also special Python mentoring programs, such as Pyladies.\n",
            "Python 3.10 deprecated wstr (to be removed in Python 3.12; meaning Python extensions need to be modified by then), and added pattern matching to the language.\n",
            "\n",
            "\n",
            "== API documentation generators ==\n",
            "Tools that can generate documentation for Python API include pydoc (available as part of the standard library), Sphinx, Pdoc and its forks, Doxygen and Graphviz, among others.\n",
            "\n",
            "\n",
            "== Naming ==\n",
            "Python's name is derived from the British comedy group Monty Python, whom Python creator Guido van Rossum enjoyed while developing the language. Monty Python references appear frequently in Python code and culture; for example, the metasyntactic variables often used in Python literature are spam and eggs instead of the traditional foo and bar. The official Python documentation also contains various references to Monty Python routines.The prefix Py- is used to show that something is related to Python. Examples of the use of this prefix in names of Python applications or libraries include Pygame, a binding of SDL to Python (commonly used to create games); PyQt and PyGTK, which bind Qt and GTK to Python respectively; and PyPy, a Python implementation originally written in Python.\n",
            "\n",
            "\n",
            "== Popularity ==\n",
            "Since 2003, Python has consistently ranked in the top ten most popular programming languages in the TIOBE Programming Community Index where as of December 2022 it was the most popular language (ahead of C, C++, and Java). It was selected Programming Language of the Year (for \"the highest rise in ratings in a year\") in 2007, 2010, 2018, and 2020 (the only language to have done so four times as of 2020).\n",
            "An empirical study found that scripting languages, such as Python, are more productive than conventional languages, such as C and Java, for programming problems involving string manipulation and search in a dictionary, and determined that memory consumption was often \"better than Java and not much worse than C or C++\".Large organizations that use Python include Wikipedia, Google, Yahoo!, CERN, NASA, Facebook, Amazon, Instagram, Spotify, and some smaller entities like ILM and ITA. The social news networking site Reddit was written mostly in Python.\n",
            "\n",
            "\n",
            "== Uses ==\n",
            "\n",
            "Python can serve as a scripting language for web applications, e.g., via mod_wsgi for the Apache webserver. With Web Server Gateway Interface, a standard API has evolved to facilitate these applications. Web frameworks like Django, Pylons, Pyramid, TurboGears, web2py, Tornado, Flask, Bottle, and Zope support developers in the design and maintenance of complex applications. Pyjs and IronPython can be used to develop the client-side of Ajax-based applications. SQLAlchemy can be used as a data mapper to a relational database. Twisted is a framework to program communications between computers, and is used (for example) by Dropbox.\n",
            "Libraries such as NumPy, SciPy, and Matplotlib allow the effective use of Python in scientific computing, with specialized libraries such as Biopython and Astropy providing domain-specific functionality. SageMath is a computer algebra system with a notebook interface programmable in Python: its library covers many aspects of mathematics, including algebra, combinatorics, numerical mathematics, number theory, and calculus. OpenCV has Python bindings with a rich set of features for computer vision and image processing.Python is commonly used in artificial intelligence projects and machine learning projects with the help of libraries like TensorFlow, Keras, Pytorch, and scikit-learn. As a scripting language with a modular architecture, simple syntax, and rich text processing tools, Python is often used for natural language processing.Python can also be used for Graphical User Interface (GUI) by using libraries like Tkinter.Python can also be used to create games, with libraries such as Pygame, which can make 2D games.\n",
            "Python has been successfully embedded in many software products as a scripting language, including in finite element method software such as Abaqus, 3D parametric modelers like FreeCAD, 3D animation packages such as 3ds Max, Blender, Cinema 4D, Lightwave, Houdini, Maya, modo, MotionBuilder, Softimage, the visual effects compositor Nuke, 2D imaging programs like GIMP, Inkscape, Scribus and Paint Shop Pro, and musical notation programs like scorewriter and capella. GNU Debugger uses Python as a pretty printer to show complex structures such as C++ containers. Esri promotes Python as the best choice for writing scripts in ArcGIS. It has also been used in several video games, and has been adopted as first of the three available programming languages in Google App Engine, the other two being Java and Go.Many operating systems include Python as a standard component. It ships with most Linux distributions, AmigaOS 4 (using Python 2.7), FreeBSD (as a package), NetBSD, and OpenBSD (as a package) and can be used from the command line (terminal). Many Linux distributions use installers written in Python: Ubuntu uses the Ubiquity installer, while Red Hat Linux and Fedora Linux use the Anaconda installer. Gentoo Linux uses Python in its package management system, Portage.\n",
            "Python is used extensively in the information security industry, including in exploit development.Most of the Sugar software for the One Laptop per Child XO, developed at Sugar Labs since 2008, is written in Python. The Raspberry Pi single-board computer project has adopted Python as its main user-programming language.\n",
            "LibreOffice includes Python and intends to replace Java with Python. Its Python Scripting Provider is a core feature since Version 4.0 from 7 February 2013.\n",
            "\n",
            "\n",
            "== Languages influenced by Python ==\n",
            "Python's design and philosophy have influenced many other programming languages:\n",
            "\n",
            "Boo uses indentation, a similar syntax, and a similar object model.\n",
            "Cobra uses indentation and a similar syntax, and its Acknowledgements document lists Python first among languages that influenced it.\n",
            "CoffeeScript, a programming language that cross-compiles to JavaScript, has Python-inspired syntax.\n",
            "ECMAScript/JavaScript borrowed iterators and generators from Python.\n",
            "GDScript, a scripting language very similar to Python, built-in to the Godot game engine.\n",
            "Go is designed for the \"speed of working in a dynamic language like Python\" and shares the same syntax for slicing arrays.\n",
            "Groovy was motivated by the desire to bring the Python design philosophy to Java.\n",
            "Julia was designed to be \"as usable for general programming as Python\".\n",
            "Mojo is currently a non-strict (aims to be a strict) superset of Python (e.g. still missing classes, and adding e.g. struct), and is up to 35,000x faster for some code (mandelbrot, since its embarrassingly parallel), where static typing helps (and MLIR it's implemented with), and e.g. 4000x faster for matrix multiply. It's not yet open-sourced, but that's the plan.\n",
            "Nim uses indentation and similar syntax.\n",
            "Ruby's creator, Yukihiro Matsumoto, has said: \"I wanted a scripting language that was more powerful than Perl, and more object-oriented than Python. That's why I decided to design my own language.\"\n",
            "Swift, a programming language developed by Apple, has some Python-inspired syntax.Python's development practices have also been emulated by other languages. For example, the practice of requiring a document describing the rationale for, and issues surrounding, a change to the language (in Python, a PEP) is also used in Tcl, Erlang, and Swift.\n",
            "\n",
            "\n",
            "== See also ==\n",
            "Python syntax and semantics\n",
            "pip (package manager)\n",
            "List of programming languages\n",
            "History of programming languages\n",
            "Comparison of programming languages\n",
            "\n",
            "\n",
            "== References ==\n",
            "\n",
            "\n",
            "=== Sources ===\n",
            "\"Python for Artificial Intelligence\". Wiki.python.org. 19 July 2012. Archived from the original on 1 November 2012. Retrieved 3 December 2012.\n",
            "Paine, Jocelyn, ed. (August 2005). \"AI in Python\". AI Expert Newsletter. Amzi!. Archived from the original on 26 March 2012. Retrieved 11 February 2012.\n",
            "\"PyAIML 0.8.5 : Python Package Index\". Pypi.python.org. Retrieved 17 July 2013.\n",
            "Russell, Stuart J. & Norvig, Peter (2009). Artificial Intelligence: A Modern Approach (3rd ed.). Upper Saddle River, NJ: Prentice Hall. ISBN 978-0-13-604259-4.\n",
            "\n",
            "\n",
            "== Further reading ==\n",
            "Downey, Allen B. (May 2012). Think Python: How to Think Like a Computer Scientist (version 1.6.6 ed.). ISBN 978-0-521-72596-5.\n",
            "Hamilton, Naomi (5 August 2008). \"The A-Z of Programming Languages: Python\". Computerworld. Archived from the original on 29 December 2008. Retrieved 31 March 2010.\n",
            "Lutz, Mark (2013). Learning Python (5th ed.). O'Reilly Media. ISBN 978-0-596-15806-4.\n",
            "Summerfield, Mark (2009). Programming in Python 3 (2nd ed.). Addison-Wesley Professional. ISBN 978-0-321-68056-3.\n",
            "Ramalho, Luciano (May 2022). Fluent Python (2nd ed.). O'Reilly Media. ISBN 978-1-4920-5632-4.\n",
            "\n",
            "\n",
            "== External links ==\n",
            "\n",
            "Official website\n"
          ]
        }
      ]
    },
    {
      "cell_type": "markdown",
      "source": [
        "## As content, We can also use title, references and categories as well"
      ],
      "metadata": {
        "id": "Szr9mAI_TyVW"
      }
    },
    {
      "cell_type": "code",
      "source": [
        "wikipedia.page(\"Python (programming language)\").title"
      ],
      "metadata": {
        "colab": {
          "base_uri": "https://localhost:8080/",
          "height": 35
        },
        "id": "D4XA6_j0TG0v",
        "outputId": "c9572db2-35a4-47df-dde7-b24ac008bb69"
      },
      "execution_count": 10,
      "outputs": [
        {
          "output_type": "execute_result",
          "data": {
            "text/plain": [
              "'Python (programming language)'"
            ],
            "application/vnd.google.colaboratory.intrinsic+json": {
              "type": "string"
            }
          },
          "metadata": {},
          "execution_count": 10
        }
      ]
    },
    {
      "cell_type": "code",
      "source": [
        "wikipedia.page(\"Python (programming language)\").references"
      ],
      "metadata": {
        "colab": {
          "base_uri": "https://localhost:8080/"
        },
        "id": "RZbNkys-TX3P",
        "outputId": "b4c18ac0-b907-4eca-a464-9b8409d3c3de"
      },
      "execution_count": 13,
      "outputs": [
        {
          "output_type": "execute_result",
          "data": {
            "text/plain": [
              "['http://doc.pypy.org/en/latest/stackless.html',\n",
              " 'https://code.google.com/p/unladen-swallow/wiki/ProjectPlan',\n",
              " 'http://page.mi.fu-berlin.de/prechelt/Biblio/jccpprt_computer2000.pdf',\n",
              " 'http://cdsweb.cern.ch/journal/CERNBulletin/2006/31/News%20Articles/974627?ln=en',\n",
              " 'http://www.computer.org/csdl/mags/cs/2011/02/mcs2011020009.html',\n",
              " 'http://gimp-win.sourceforge.net/faq.html',\n",
              " 'http://www.jasc.com/support/customercare/articles/psp9components.asp',\n",
              " 'http://webhelp.esri.com/arcgisdesktop/9.2/index.cfm?TopicName=About_getting_started_with_writing_geoprocessing_scripts',\n",
              " 'http://www.2kgames.com/civ4/blog_03.htm',\n",
              " 'http://www.immunitysec.com/products-immdbg.shtml',\n",
              " 'http://sugarlabs.org/go/Sugar',\n",
              " 'http://www.libreoffice.org/download/4-0-new-features-and-fixes/',\n",
              " 'http://wiki.ecmascript.org/doku.php?id=proposals:iterators_and_generators',\n",
              " 'http://radio.weblogs.com/0112098/2003/08/29.html',\n",
              " 'http://www.linuxdevcenter.com/pub/a/linux/2001/11/29/ruby.html',\n",
              " 'http://nondot.org/sabre',\n",
              " 'http://www.tcl.tk/cgi-bin/tct/tip/3.html',\n",
              " 'http://www.erlang.org/eeps/eep-0001.html',\n",
              " 'https://web.archive.org/web/20080319061519/http://www.jasc.com/support/customercare/articles/psp9components.asp',\n",
              " 'https://www.python.org/',\n",
              " 'https://www.idref.fr/051626225',\n",
              " 'https://books.google.com/books?id=1HxWGezDZcgC&pg=PA17',\n",
              " 'https://books.google.com/books?id=carqdIdfVlYC&pg=PR15',\n",
              " 'https://d-nb.info/gnd/4434275-5',\n",
              " 'http://www.eweek.com/c/a/Application-Development/Python-Slithers-into-Systems/',\n",
              " 'https://www.python.org/dev/peps/pep-0289/',\n",
              " 'https://docs.python.org/faq/general.html#is-python-a-good-language-for-beginning-programmers',\n",
              " 'https://www.python.org/dev/peps/pep-0327/',\n",
              " 'http://www.stochasticgeometry.ie/2010/04/29/python-on-the-nokia-n900/',\n",
              " 'https://www.python.org/dev/peps/pep-0001/',\n",
              " 'https://web.archive.org/web/20090601134342/http://www.python.org/dev/intro/',\n",
              " 'https://www.python.org/dev/intro/',\n",
              " 'https://mail.python.org/pipermail/python-dev/2002-April/022739.html',\n",
              " 'https://www.python.org/dev/peps/pep-0006/',\n",
              " 'https://docs.python.org/tutorial/appetite.html',\n",
              " 'https://stackoverflow.com/questions/5033906/in-python-should-i-use-else-after-a-return-in-an-if-block',\n",
              " 'https://www.python.org/about/quotes/',\n",
              " 'https://wiki.python.org/moin/OrganizationsUsingPython',\n",
              " 'https://www.python.org/about/success/usa/',\n",
              " 'https://www.python.org/about/success/ilm/',\n",
              " 'http://w3techs.com/technologies/details/pl-python/all/all',\n",
              " 'https://www.h2desk.com/blog/python-scientific-computing/',\n",
              " 'http://community.eveonline.com/news/dev-blogs/stackless-python-2.7/',\n",
              " 'https://code.google.com/apis/documents/docs/1.0/developers_guide_python.html',\n",
              " 'https://web.archive.org/web/20081229095320/http://www.computerworld.com.au/index.php/id;66665771',\n",
              " 'https://web.archive.org/web/20130717070814/http://gimp-win.sourceforge.net/faq.html',\n",
              " 'https://web.archive.org/web/20090216134332/http://immunitysec.com/products-immdbg.shtml',\n",
              " 'https://web.archive.org/web/20071020082650/http://wiki.ecmascript.org/doku.php?id=proposals:iterators_and_generators',\n",
              " 'https://developers.facebook.com/blog/post/301',\n",
              " 'https://labs.spotify.com/2013/03/20/how-we-use-python-at-spotify/',\n",
              " 'https://julialang.org/blog/2012/02/why-we-created-julia',\n",
              " 'https://pypy.org/compat.html',\n",
              " 'https://catalogue.bnf.fr/ark:/12148/cb13560465c',\n",
              " 'http://download.tensorflow.org/paper/whitepaper2015.pdf',\n",
              " 'https://www.kdnuggets.com/2018/05/poll-tools-analytics-data-science-machine-learning-results.html/2',\n",
              " 'https://cloudplatform.googleblog.com/2016/05/Google-supercharges-machine-learning-tasks-with-custom-chip.html',\n",
              " 'https://scikit-learn.org/stable/testimonials/testimonials.html',\n",
              " 'https://web.archive.org/web/20121101045354/http://wiki.python.org/moin/PythonForArtificialIntelligence',\n",
              " 'https://wiki.python.org/moin/PythonForArtificialIntelligence',\n",
              " 'http://www.ainewsletter.com/newsletters/aix_0508.htm#python_ai_ai',\n",
              " 'https://pypi.python.org/pypi/PyAIML',\n",
              " 'https://education.lego.com/en-us/support/mindstorms-ev3/python-for-ev3',\n",
              " 'https://data.bnf.fr/ark:/12148/cb13560465c',\n",
              " 'https://instagram-engineering.com/what-powers-instagram-hundreds-of-instances-dozens-of-technologies-adf2e22da2ad',\n",
              " 'https://web.archive.org/web/20101202164144/http://www.2kgames.com/civ4/blog_03.htm',\n",
              " 'https://web.archive.org/web/20100715145616/http://code.google.com/apis/documents/docs/1.0/developers_guide_python.html',\n",
              " 'https://docs.python.org/',\n",
              " 'https://docs.python.org/faq/design.html#why-must-self-be-used-explicitly-in-method-definitions-and-calls',\n",
              " 'https://legacy.python.org/dev/peps/pep-0465/',\n",
              " 'https://ui.adsabs.harvard.edu/abs/2007CSE.....9c..10O',\n",
              " 'https://ui.adsabs.harvard.edu/abs/2011CSE....13b...9M',\n",
              " 'https://docs.python.org/faq/general.html#why-was-python-created-in-the-first-place',\n",
              " 'https://docs.python.org/3/library/itertools.html',\n",
              " 'https://www.python.org/dev/peps/pep-0602/',\n",
              " 'https://lwn.net/Articles/802777/',\n",
              " 'https://docs.python.org/3/using/unix.html',\n",
              " 'https://www.wikidata.org/wiki/Q28865#P856',\n",
              " 'http://nuitka.net/',\n",
              " 'https://ui.adsabs.harvard.edu/abs/2014arXiv1404.6388M',\n",
              " 'http://www.nltk.org/',\n",
              " 'https://www.coresecurity.com/',\n",
              " 'http://visual.icse.us.edu.pl/methodology/why_Sage.html',\n",
              " 'https://github.com/apple/swift-evolution/blob/master/process.md',\n",
              " 'https://benchmarksgame-team.pages.debian.net/benchmarksgame/fastest/python.html',\n",
              " 'https://web.archive.org/web/20070405085722/http://radio.weblogs.com/0112098/2003/08/29.html',\n",
              " 'https://web.archive.org/web/20120326105810/http://www.ainewsletter.com/newsletters/aix_0508.htm#python_ai_ai',\n",
              " 'https://github.com/reddit-archive/reddit',\n",
              " 'https://www.infoworld.com/article/3157745/application-development/nim-language-draws-from-best-of-python-rust-go-and-lisp.html',\n",
              " 'http://www.artima.com/intv/pythonP.html',\n",
              " 'https://docs.python.org/3.0/reference/datamodel.html#special-method-names',\n",
              " 'http://www.nongnu.org/pydbc/',\n",
              " 'http://www.wayforward.net/pycontract/',\n",
              " 'https://sites.google.com/site/pydatalog/',\n",
              " 'https://docs.python.org/extending/extending.html#reference-counts',\n",
              " 'https://www.python.org/dev/peps/pep-0020/',\n",
              " 'http://shop.oreilly.com/product/9780596007973.do',\n",
              " 'https://docs.python.org/3/faq/general.html#why-is-it-called-python',\n",
              " 'https://insidetech.monster.com/training/articles/8114-15-ways-python-is-a-powerful-force-on-the-web',\n",
              " 'https://docs.python.org/3/library/pprint.html',\n",
              " 'http://www.secnetix.de/~olli/Python/block_indentation.hawk',\n",
              " 'https://www.python.org/dev/peps/pep-0008/',\n",
              " 'https://www.wikidata.org/wiki/Q28865#identifiers',\n",
              " 'https://docs.opencv.org/3.4.9/d6/d00/tutorial_py_root.html',\n",
              " 'https://techcrunch.com/2009/11/10/google-go-language/',\n",
              " 'https://api.semanticscholar.org/CorpusID:206457124',\n",
              " 'https://web.archive.org/web/20140130021902/http://ebeab.com/2014/01/21/python-culture/',\n",
              " 'http://ebeab.com/2014/01/21/python-culture/',\n",
              " 'http://neopythonic.blogspot.be/2009/04/tail-recursion-elimination.html',\n",
              " 'http://www.artima.com/weblogs/viewpost.jsp?thread=147358',\n",
              " 'https://www.python.org/dev/peps/pep-0342/',\n",
              " 'https://www.python.org/dev/peps/pep-0380/',\n",
              " 'https://www.python.org/dev/peps/pep-0465/',\n",
              " 'https://www.python.org/downloads/release/python-351/',\n",
              " 'https://docs.python.org/3.8/whatsnew/3.8.html',\n",
              " 'https://www.python.org/dev/peps/pep-0308/',\n",
              " 'https://docs.python.org/3/library/stdtypes.html#tuple',\n",
              " 'https://docs.python.org/3/tutorial/datastructures.html#tuples-and-sequences',\n",
              " 'https://www.python.org/dev/peps/pep-0498/',\n",
              " 'https://docs.python.org/reference/datamodel.html#new-style-and-classic-classes',\n",
              " 'https://lwn.net/Articles/627418/',\n",
              " 'http://mypy-lang.org/',\n",
              " 'https://docs.python.org/3.8/tutorial/floatingpoint.html#representation-error',\n",
              " 'https://www.python.org/dev/peps/pep-0237/',\n",
              " 'https://docs.python.org/3/library/stdtypes.html#typesseq-range',\n",
              " 'https://www.python.org/dev/peps/pep-0238/',\n",
              " 'https://python-history.blogspot.com/2010/08/why-pythons-integer-division-floors.html',\n",
              " 'https://docs.python.org/py3k/library/functions.html#round',\n",
              " 'https://docs.python.org/library/functions.html#round',\n",
              " 'https://archive.org/details/pythonessentialr00beaz_036',\n",
              " 'https://archive.org/details/pythonessentialr00beaz_036/page/n90',\n",
              " 'https://archive.org/details/cprogramminglang00bria/page/206',\n",
              " 'https://docs.python.org/2.6/whatsnew/2.6.html',\n",
              " 'https://www.stat.washington.edu/~hoytak/blog/whypython.html',\n",
              " 'https://engineering.ucsb.edu/~shell/che210d/python.pdf',\n",
              " 'https://github.com/google/grumpy',\n",
              " 'https://opensource.google/projects/',\n",
              " 'https://medium.com/@olivier.borderies/pythran-python-at-c-speed-518f26af60e8',\n",
              " 'https://pythran.readthedocs.io/en/latest/',\n",
              " 'https://www.transcrypt.org/',\n",
              " 'https://towardsdatascience.com/how-to-be-pythonic-and-why-you-should-care-188d63a5037e',\n",
              " 'https://www.theregister.com/2017/01/05/googles_grumpy_makes_python_go/',\n",
              " 'https://www.infoq.com/articles/transcrypt-python-javascript-compiler/',\n",
              " 'https://brython.info/',\n",
              " 'https://www.infoworld.com/article/3587591/pyston-returns-from-the-dead-to-speed-python.html',\n",
              " 'https://web.archive.org/web/20081211062108/http://boo.codehaus.org/Gotchas+for+Python+Users',\n",
              " 'http://boo.codehaus.org/Gotchas+for+Python+Users',\n",
              " 'http://cobra-language.com/docs/acknowledgements/',\n",
              " 'https://docs.python.org/3/extending/extending.html',\n",
              " 'https://www.python.org/dev/peps/pep-0623/',\n",
              " 'https://www.python.org/dev/peps/pep-0634/',\n",
              " 'https://seniordba.wordpress.com/2021/01/18/tiobe-index-for-january-2021/',\n",
              " 'https://wiki.python.org/moin/DocumentationTools',\n",
              " 'https://docs.python.org/3/extending/building.html',\n",
              " 'https://www.python.org/dev/peps/pep-0007/',\n",
              " 'https://docs.python.org/3/library/dis.html#python-bytecode-instructions',\n",
              " 'http://www.troeger.eu/teaching/pythonvm08.pdf',\n",
              " 'https://docs.python.org/release/3.9.0/whatsnew/changelog.html#changelog',\n",
              " 'https://www.python.org/downloads/release/python-391',\n",
              " 'https://www.vmspython.org/doku.php?id=history',\n",
              " 'http://www.oreilly.com/pub/a/oreilly/frank/rossum_1099.html',\n",
              " 'https://www.python.org/download/other/',\n",
              " 'https://ironpython.net/',\n",
              " 'https://www.jython.org/jython-old-sites/archive/22/userfaq.html',\n",
              " 'https://github.com/facebookincubator/cinder',\n",
              " 'https://docs.python-guide.org/writing/style',\n",
              " 'https://devguide.python.org/',\n",
              " 'https://docs.godotengine.org/en/stable/about/faq.html',\n",
              " 'http://id.worldcat.org/fast/1084736/',\n",
              " 'https://web.archive.org/web/20190511065650/http://insidetech.monster.com/training/articles/8114-15-ways-python-is-a-powerful-force-on-the-web',\n",
              " 'https://web.archive.org/web/20200531211840/https://www.stat.washington.edu/~hoytak/blog/whypython.html',\n",
              " 'https://web.archive.org/web/20200615180428/http://visual.icse.us.edu.pl/methodology/why_Sage.html',\n",
              " 'https://books.google.com/books?id=7GUKEAAAQBAJ&pg=PA322',\n",
              " 'https://speed.pypy.org/',\n",
              " 'https://www.python.org/downloads/',\n",
              " 'http://archive.adaic.com/standards/83lrm/html/lrm-11-03.html#11.3',\n",
              " 'https://web.archive.org/web/20070501105422/http://www.amk.ca/python/writing/gvr-interview',\n",
              " 'http://www.amk.ca/python/writing/gvr-interview',\n",
              " 'https://docs.python.org/tutorial/classes.html',\n",
              " 'http://effbot.org/zone/call-by-object.htm',\n",
              " 'https://www.python.org/download/releases/2.3/mro/',\n",
              " 'https://docs.python.org/howto/functional.html',\n",
              " 'https://www.python.org/dev/peps/pep-0255/',\n",
              " 'https://docs.python.org/3.2/tutorial/controlflow.html',\n",
              " 'http://speakingjs.com/es5/ch03.html',\n",
              " 'https://archive.org/details/practicaljrubyon0000bini/page/3',\n",
              " 'http://nondot.org/sabre/',\n",
              " 'https://web.archive.org/web/20180808035421/https://www.python.org/downloads/',\n",
              " 'https://web.archive.org/web/20121024164224/http://docs.python.org/faq/general.html#why-was-python-created-in-the-first-place',\n",
              " 'https://web.archive.org/web/20191022155758/http://archive.adaic.com/standards/83lrm/html/lrm-11-03.html#11.3',\n",
              " 'https://web.archive.org/web/20200614153629/https://docs.python.org/3/library/itertools.html',\n",
              " 'https://web.archive.org/web/20121023030209/http://docs.python.org/tutorial/classes.html',\n",
              " 'https://web.archive.org/web/20191123043655/http://effbot.org/zone/call-by-object.htm',\n",
              " 'https://web.archive.org/web/20200820231854/https://www.python.org/download/releases/2.3/mro/',\n",
              " 'https://web.archive.org/web/20121024163217/http://docs.python.org/howto/functional.html',\n",
              " 'https://web.archive.org/web/20200605012926/https://www.python.org/dev/peps/pep-0255/',\n",
              " 'https://web.archive.org/web/20160604080843/https://docs.python.org/3.2/tutorial/controlflow.html',\n",
              " 'https://web.archive.org/web/20181226141121/http://2ality.com/2013/02/javascript-influences.html%0A',\n",
              " 'https://web.archive.org/web/20181226141123/http://speakingjs.com/es5/ch03.html%0A',\n",
              " 'https://web.archive.org/web/20200502144010/https://julialang.org/blog/2012/02/why-we-created-julia/',\n",
              " 'https://web.archive.org/web/20181225175312/http://ring-lang.sourceforge.net/doc1.6/introduction.html#ring-and-other-languages',\n",
              " 'https://web.archive.org/web/20181225175312/http://nondot.org/sabre/',\n",
              " 'https://web.archive.org/web/20160901183332/http://www.artima.com/intv/pythonP.html',\n",
              " 'https://web.archive.org/web/20181215123146/https://docs.python.org/3.0/reference/datamodel.html#special-method-names',\n",
              " 'https://web.archive.org/web/20191123231931/http://www.nongnu.org/pydbc/',\n",
              " 'https://web.archive.org/web/20200615173404/http://www.wayforward.net/pycontract/',\n",
              " 'https://web.archive.org/web/20200613160231/https://sites.google.com/site/pydatalog/',\n",
              " 'https://web.archive.org/web/20121018063230/http://docs.python.org/extending/extending.html#reference-counts',\n",
              " 'https://web.archive.org/web/20200614153717/https://www.python.org/dev/peps/pep-0289/',\n",
              " 'https://web.archive.org/web/20181226141127/https://www.python.org/dev/peps/pep-0020/',\n",
              " 'https://web.archive.org/web/20200223171254/http://shop.oreilly.com/product/9780596007973.do',\n",
              " 'https://web.archive.org/web/20121024164224/http://docs.python.org/faq/general.html#why-is-it-called-python',\n",
              " 'https://web.archive.org/web/20210122224848/https://docs.python.org/3/library/pprint.html',\n",
              " 'https://web.archive.org/web/20210813194313/https://towardsdatascience.com/how-to-be-pythonic-and-why-you-should-care-188d63a5037e?gi=dd6bc15118b3',\n",
              " 'https://web.archive.org/web/20210127154341/https://docs.python-guide.org/writing/style/',\n",
              " 'https://web.archive.org/web/20121024164224/http://docs.python.org/faq/general.html#is-python-a-good-language-for-beginning-programmers',\n",
              " 'https://web.archive.org/web/20180218162410/http://www.secnetix.de/~olli/Python/block_indentation.hawk',\n",
              " 'https://web.archive.org/web/20190417223549/https://www.python.org/dev/peps/pep-0008/',\n",
              " 'https://web.archive.org/web/20180519225253/http://neopythonic.blogspot.be/2009/04/tail-recursion-elimination.html',\n",
              " 'https://web.archive.org/web/20200117182525/https://www.artima.com/weblogs/viewpost.jsp?thread=147358',\n",
              " 'https://web.archive.org/web/20200529003739/https://www.python.org/dev/peps/pep-0342/',\n",
              " 'https://web.archive.org/web/20200604233821/https://www.python.org/dev/peps/pep-0380/',\n",
              " 'https://web.archive.org/web/20060720033244/http://docs.python.org/',\n",
              " 'https://web.archive.org/web/20200604224255/https://www.python.org/dev/peps/pep-0465/',\n",
              " 'https://web.archive.org/web/20200514034938/https://www.python.org/downloads/release/python-351/',\n",
              " 'https://web.archive.org/web/20200608124345/https://docs.python.org/3.8/whatsnew/3.8.html',\n",
              " 'https://web.archive.org/web/20160313113147/https://www.python.org/dev/peps/pep-0308/',\n",
              " 'https://web.archive.org/web/20200614194325/https://docs.python.org/3/library/stdtypes.html#tuple',\n",
              " 'https://web.archive.org/web/20200610050047/https://docs.python.org/3/tutorial/datastructures.html#tuples-and-sequences',\n",
              " 'https://web.archive.org/web/20200615184141/https://www.python.org/dev/peps/pep-0498/',\n",
              " 'https://web.archive.org/web/20121024164243/http://docs.python.org/faq/design.html#why-must-self-be-used-explicitly-in-method-definitions-and-calls',\n",
              " 'https://web.archive.org/web/20210813194312/https://books.google.com/books?id=7GUKEAAAQBAJ&pg=PA322',\n",
              " 'https://web.archive.org/web/20121026063834/http://docs.python.org/reference/datamodel.html#new-style-and-classic-classes',\n",
              " 'https://web.archive.org/web/20190620000057/https://lwn.net/Articles/627418/',\n",
              " 'https://web.archive.org/web/20200606192012/http://mypy-lang.org/',\n",
              " 'https://web.archive.org/web/20200606113842/https://docs.python.org/3.8/tutorial/floatingpoint.html#representation-error',\n",
              " 'https://web.archive.org/web/20200528063237/https://www.python.org/dev/peps/pep-0237/',\n",
              " 'https://web.archive.org/web/20200614194325/https://docs.python.org/3/library/stdtypes.html#typesseq-range',\n",
              " 'https://web.archive.org/web/20200529200310/https://legacy.python.org/dev/peps/pep-0465/',\n",
              " 'https://web.archive.org/web/20200528115550/https://www.python.org/dev/peps/pep-0238/',\n",
              " 'https://web.archive.org/web/20200605151500/https://python-history.blogspot.com/2010/08/why-pythons-integer-division-floors.html',\n",
              " 'https://web.archive.org/web/20121025141808/http://docs.python.org/py3k/library/functions.html#round',\n",
              " 'https://web.archive.org/web/20121027081602/http://docs.python.org/library/functions.html#round',\n",
              " 'https://web.archive.org/web/20200604234830/https://www.python.org/dev/peps/pep-0327/',\n",
              " 'https://web.archive.org/web/20191223213856/https://docs.python.org/2.6/whatsnew/2.6.html',\n",
              " 'https://web.archive.org/web/20190204014642/https://engineering.ucsb.edu/~shell/che210d/python.pdf',\n",
              " 'https://web.archive.org/web/20210303002519/https://docs.python.org/3/extending/building.html',\n",
              " 'https://web.archive.org/web/20200601203908/https://www.python.org/dev/peps/pep-0007/',\n",
              " 'https://web.archive.org/web/20200605151542/https://docs.python.org/3/library/dis.html#python-bytecode-instructions',\n",
              " 'https://web.archive.org/web/20120806094951/http://www.troeger.eu/teaching/pythonvm08.pdf',\n",
              " 'https://web.archive.org/web/20210207001142/https://docs.python.org/release/3.9.0/whatsnew/changelog.html#changelog',\n",
              " 'https://web.archive.org/web/20201208045225/https://www.python.org/downloads/release/python-391/',\n",
              " 'https://web.archive.org/web/20201202194743/https://www.vmspython.org/doku.php?id=history',\n",
              " 'https://web.archive.org/web/20140716222652/http://oreilly.com/pub/a/oreilly/frank/rossum_1099.html',\n",
              " 'https://web.archive.org/web/20201127015815/https://www.python.org/download/other/',\n",
              " 'https://web.archive.org/web/20200606041845/https://www.pypy.org/compat.html',\n",
              " 'https://web.archive.org/web/20210510014902/https://speed.pypy.org/',\n",
              " 'https://web.archive.org/web/20200604231513/https://doc.pypy.org/en/latest/stackless.html',\n",
              " 'https://web.archive.org/web/20200607234814/https://education.lego.com/en-us/support/mindstorms-ev3/python-for-ev3',\n",
              " 'https://web.archive.org/web/20210127113233/https://www.infoworld.com/article/3587591/pyston-returns-from-the-dead-to-speed-python.html',\n",
              " 'https://web.archive.org/web/20210504112500/https://github.com/facebookincubator/cinder',\n",
              " 'https://web.archive.org/web/20160411181848/https://code.google.com/p/unladen-swallow/wiki/ProjectPlan',\n",
              " 'https://web.archive.org/web/20190620000053/http://www.stochasticgeometry.ie/2010/04/29/python-on-the-nokia-n900/',\n",
              " 'https://web.archive.org/web/20200530211233/https://nuitka.net/',\n",
              " 'https://web.archive.org/web/20200325171400/https://medium.com/@olivier.borderies/pythran-python-at-c-speed-518f26af60e8',\n",
              " 'https://web.archive.org/web/20200219081337/https://pythran.readthedocs.io/en/latest/',\n",
              " 'https://web.archive.org/web/20200415054919/https://github.com/google/grumpy',\n",
              " 'https://web.archive.org/web/20200424191248/https://opensource.google/projects/',\n",
              " 'https://web.archive.org/web/20210307165521/https://www.theregister.com/2017/01/05/googles_grumpy_makes_python_go/',\n",
              " 'https://web.archive.org/web/20210417064418/https://ironpython.net/',\n",
              " 'https://web.archive.org/web/20210422055726/https://www.jython.org/jython-old-sites/archive/22/userfaq.html',\n",
              " 'https://web.archive.org/web/20180803065954/http://brython.info/',\n",
              " 'https://web.archive.org/web/20180819133303/http://www.transcrypt.org/',\n",
              " 'https://web.archive.org/web/20201205193339/https://www.infoq.com/articles/transcrypt-python-javascript-compiler/',\n",
              " 'https://web.archive.org/web/20200614210246/https://benchmarksgame-team.pages.debian.net/benchmarksgame/fastest/python.html',\n",
              " 'https://web.archive.org/web/20200606042011/https://www.python.org/dev/peps/pep-0001/',\n",
              " 'https://web.archive.org/web/20201109032501/https://devguide.python.org/',\n",
              " 'https://web.archive.org/web/20200614202755/https://www.python.org/dev/peps/pep-0602/',\n",
              " 'https://web.archive.org/web/20191106170153/https://lwn.net/Articles/802777/',\n",
              " 'https://web.archive.org/web/20181215122750/https://mail.python.org/pipermail/python-dev/2002-April/022739.html',\n",
              " 'https://web.archive.org/web/20200605001318/https://www.python.org/dev/peps/pep-0006/',\n",
              " 'https://web.archive.org/web/20200605001322/https://www.python.org/dev/buildbot/',\n",
              " 'https://web.archive.org/web/20200623232830/https://docs.python.org/3/extending/extending.html',\n",
              " 'https://web.archive.org/web/20210305153214/https://www.python.org/dev/peps/pep-0623/',\n",
              " 'https://web.archive.org/web/20210506005315/https://www.python.org/dev/peps/pep-0634/',\n",
              " 'https://web.archive.org/web/20201111173635/https://wiki.python.org/moin/DocumentationTools',\n",
              " 'https://web.archive.org/web/20121026063559/http://docs.python.org/tutorial/appetite.html',\n",
              " 'https://web.archive.org/web/20190620000050/https://stackoverflow.com/questions/5033906/in-python-should-i-use-else-after-a-return-in-an-if-block',\n",
              " 'https://web.archive.org/web/20170717044012/https://books.google.com/books?id=1HxWGezDZcgC&pg=PA17',\n",
              " 'https://web.archive.org/web/20170717044040/https://books.google.com/books?id=carqdIdfVlYC&pg=PR15',\n",
              " 'https://web.archive.org/web/20210321143253/https://seniordba.wordpress.com/2021/01/18/tiobe-index-for-january-2021/',\n",
              " 'https://web.archive.org/web/20200103050915/http://page.mi.fu-berlin.de/prechelt/Biblio/jccpprt_computer2000.pdf',\n",
              " 'https://web.archive.org/web/20200603135201/https://www.python.org/about/quotes/',\n",
              " 'https://web.archive.org/web/20180821075931/https://wiki.python.org/moin/OrganizationsUsingPython',\n",
              " 'https://web.archive.org/web/20200605093424/https://www.python.org/about/success/usa/',\n",
              " 'https://web.archive.org/web/20190219031313/https://developers.facebook.com/blog/post/301',\n",
              " 'https://web.archive.org/web/20200615183410/https://instagram-engineering.com/what-powers-instagram-hundreds-of-instances-dozens-of-technologies-adf2e22da2ad',\n",
              " 'https://web.archive.org/web/20200610005143/https://labs.spotify.com/2013/03/20/how-we-use-python-at-spotify/',\n",
              " 'https://web.archive.org/web/20200606042020/https://www.python.org/about/success/ilm/',\n",
              " 'https://web.archive.org/web/20210813194304/https://www.eweek.com/development/python-slithers-into-systems/',\n",
              " 'https://web.archive.org/web/20200601104939/https://github.com/reddit-archive/reddit',\n",
              " 'https://web.archive.org/web/20210813194305/https://w3techs.com/technologies/details/pl-python',\n",
              " 'https://web.archive.org/web/20200615193226/https://www.h2desk.com/blog/python-scientific-computing/',\n",
              " 'https://web.archive.org/web/20190219031439/https://www.computer.org/csdl/mags/cs/2011/02/mcs2011020009.html',\n",
              " 'https://web.archive.org/web/20200923063145/https://docs.opencv.org/3.4.9/d6/d00/tutorial_py_root.html',\n",
              " 'https://web.archive.org/web/20151120004649/http://download.tensorflow.org/paper/whitepaper2015.pdf',\n",
              " 'https://web.archive.org/web/20191115234216/https://www.kdnuggets.com/2018/05/poll-tools-analytics-data-science-machine-learning-results.html/2',\n",
              " 'https://web.archive.org/web/20200506210716/https://scikit-learn.org/stable/testimonials/testimonials.html',\n",
              " 'https://web.archive.org/web/20160518201516/https://cloudplatform.googleblog.com/2016/05/Google-supercharges-machine-learning-tasks-with-custom-chip.html',\n",
              " 'https://web.archive.org/web/20200613003911/http://www.nltk.org/',\n",
              " 'https://web.archive.org/web/20200605144616/http://webhelp.esri.com/arcgisdesktop/9.2/index.cfm?TopicName=About_getting_started_with_writing_geoprocessing_scripts',\n",
              " 'https://web.archive.org/web/20140111155537/http://community.eveonline.com/news/dev-blogs/stackless-python-2.7/',\n",
              " 'https://web.archive.org/web/20200617143505/https://docs.python.org/3/using/unix.html',\n",
              " 'https://web.archive.org/web/20200609165041/http://www.coresecurity.com/',\n",
              " 'https://web.archive.org/web/20090109025944/http://sugarlabs.org/go/Sugar',\n",
              " 'https://web.archive.org/web/20140209184807/http://www.libreoffice.org/download/4-0-new-features-and-fixes/',\n",
              " 'https://web.archive.org/web/20080208141002/http://cobra-language.com/docs/acknowledgements/',\n",
              " 'https://web.archive.org/web/20210428053339/https://docs.godotengine.org/en/stable/about/faq.html',\n",
              " 'https://web.archive.org/web/20100118014358/http://www.techcrunch.com/2009/11/10/google-go-language/',\n",
              " 'https://web.archive.org/web/20181013211847/https://www.infoworld.com/article/3157745/application-development/nim-language-draws-from-best-of-python-rust-go-and-lisp.html',\n",
              " 'https://web.archive.org/web/20180428150410/http://www.linuxdevcenter.com/pub/a/linux/2001/11/29/ruby.html',\n",
              " 'https://web.archive.org/web/20151222150510/http://nondot.org/sabre/',\n",
              " 'https://web.archive.org/web/20170713233954/http://tcl.tk/cgi-bin/tct/tip/3.html',\n",
              " 'https://web.archive.org/web/20200615153206/http://erlang.org/eeps/eep-0001.html',\n",
              " 'https://web.archive.org/web/20200427182556/https://github.com/apple/swift-evolution/blob/master/process.md',\n",
              " 'https://www.python.org/download/releases/2.5/highlights/',\n",
              " 'https://web.archive.org/web/20190804120408/https://www.python.org/download/releases/2.5/highlights/',\n",
              " 'https://archive.today/20130115191843/http://cdsweb.cern.ch/journal/CERNBulletin/2006/31/News%20Articles/974627?ln=en',\n",
              " 'https://www.python.org/dev/buildbot/',\n",
              " 'https://github.com/IronLanguages/ironpython3',\n",
              " 'https://web.archive.org/web/20210928101250/https://github.com/IronLanguages/ironpython3',\n",
              " 'http://www.oracle.com/technetwork/articles/piotrowski-pythoncore-084049.html',\n",
              " 'https://web.archive.org/web/20190402124435/https://www.oracle.com/technetwork/articles/piotrowski-pythoncore-084049.html',\n",
              " 'https://www.python.org/dev/peps/pep-0333/',\n",
              " 'https://web.archive.org/web/20200614170344/https://www.python.org/dev/peps/pep-0333/',\n",
              " 'http://www.modulecounts.com/',\n",
              " 'https://web.archive.org/web/20170715151703/https://www.enthought.com/products/canopy/',\n",
              " 'https://www.enthought.com/products/canopy/',\n",
              " 'https://www.pypy.org/download.html',\n",
              " 'http://uli.nli.org.il/F/?func=find-b&local_base=NLX10&find_code=UID&request=987007563637105171',\n",
              " 'https://peps.python.org/pep-0007/',\n",
              " 'https://docs.python.org/3.11/tutorial/errors.html',\n",
              " 'https://www.python.org/dev/peps/pep-0483/',\n",
              " 'https://web.archive.org/web/20200614153558/https://www.python.org/dev/peps/pep-0483/',\n",
              " 'https://www.python.org/dev/peps/pep-0441/',\n",
              " 'https://web.archive.org/web/20181226141117/https://www.python.org/dev/peps/pep-0441/%20',\n",
              " 'http://www.2ality.com/2013/02/javascript-influences.html',\n",
              " 'https://www.techrepublic.com/article/programming-languages-why-python-4-0-will-probably-never-arrive-according-to-its-creator/',\n",
              " 'https://docs.python.org/3/library/platform.html?highlight=android',\n",
              " 'https://docs.python.org/3.7/library/test.html?highlight=android#test.support.is_android',\n",
              " 'https://web.archive.org/web/20090530030205/http://www.python.org/community/pycon/dc2004/papers/24/metaclasses-pycon.pdf',\n",
              " 'https://www.python.org/community/pycon/dc2004/papers/24/metaclasses-pycon.pdf',\n",
              " 'http://www.computerworld.com.au/index.php/id;66665771',\n",
              " 'https://web.archive.org/web/20220626171519/http://www.modulecounts.com/',\n",
              " 'https://aleph.nkp.cz/F/?func=find-c&local_base=aut&ccl_term=ica=ph170668&CON_LNG=ENG',\n",
              " 'https://11l-lang.org/transpiler',\n",
              " 'https://docs.bazel.build/versions/master/skylark/language.html',\n",
              " 'https://web.archive.org/web/20200615140534/https://docs.bazel.build/versions/master/skylark/language.html',\n",
              " 'https://coffeescript.org/',\n",
              " 'https://web.archive.org/web/20200612100004/http://coffeescript.org/',\n",
              " 'https://wiki.gnome.org/action/show/Projects/Genie',\n",
              " 'https://web.archive.org/web/20200601133216/https://wiki.gnome.org/action/show/Projects/Genie',\n",
              " 'https://www.python.org/dev/peps/pep-0013/',\n",
              " 'https://web.archive.org/web/20210527000035/https://www.python.org/dev/peps/pep-0013/',\n",
              " 'https://docs.python.org/whatsnew/2.0.html',\n",
              " 'https://web.archive.org/web/20121023112045/http://docs.python.org/whatsnew/2.0.html',\n",
              " 'https://web.archive.org/web/20160303231513/https://www.python.org/dev/peps/pep-3000/',\n",
              " 'https://www.python.org/dev/peps/pep-3000/',\n",
              " 'https://docs.python.org/3/library/2to3.html',\n",
              " 'https://web.archive.org/web/20200604232823/https://docs.python.org/3/library/2to3.html',\n",
              " 'https://legacy.python.org/dev/peps/pep-0373/',\n",
              " 'https://web.archive.org/web/20200519075520/https://legacy.python.org/dev/peps/pep-0373/',\n",
              " 'https://www.python.org/dev/peps/pep-0466/',\n",
              " 'https://web.archive.org/web/20200604232833/https://www.python.org/dev/peps/pep-0466/',\n",
              " 'https://www.python.org/doc/sunset-python-2/',\n",
              " 'https://web.archive.org/web/20200112080903/https://www.python.org/doc/sunset-python-2/',\n",
              " 'https://www.python.org/dev/peps/pep-0373/',\n",
              " 'https://web.archive.org/web/20200113033257/https://www.python.org/dev/peps/pep-0373/',\n",
              " 'https://pythoninsider.blogspot.com/2021/02/python-392-and-388-are-now-available.html',\n",
              " 'https://web.archive.org/web/20210225043834/https://pythoninsider.blogspot.com/2021/02/python-392-and-388-are-now-available.html',\n",
              " 'https://access.redhat.com/security/cve/cve-2021-3177',\n",
              " 'https://web.archive.org/web/20210306183700/https://access.redhat.com/security/cve/cve-2021-3177',\n",
              " 'https://cve.mitre.org/cgi-bin/cvename.cgi?name=CVE-2021-3177',\n",
              " 'https://web.archive.org/web/20210227192918/https://cve.mitre.org/cgi-bin/cvename.cgi?name=CVE-2021-3177',\n",
              " 'https://cve.mitre.org/cgi-bin/cvename.cgi?name=CVE-2021-23336',\n",
              " 'https://web.archive.org/web/20210224160700/https://cve.mitre.org/cgi-bin/cvename.cgi?name=CVE-2021-23336',\n",
              " 'https://pythoninsider.blogspot.com/2022/03/python-3104-and-3912-are-now-available.html',\n",
              " 'https://pythoninsider.blogspot.com/2022/03/python-3103-3911-3813-and-3713-are-now.html',\n",
              " 'https://pythoninsider.blogspot.com/2022/05/python-3913-is-now-available.html',\n",
              " 'https://docs.python.org/3/library/re.html',\n",
              " 'https://pythoninsider.blogspot.com/2022/09/python-releases-3107-3914-3814-and-3714.html',\n",
              " 'https://cve.mitre.org/cgi-bin/cvename.cgi?name=CVE-2020-10735',\n",
              " 'https://lwn.net/Articles/885854/',\n",
              " 'https://www.thoughtworks.com/insights/books/fluent-python-2nd-edition',\n",
              " 'https://lwn.net/Articles/912216/',\n",
              " 'http://ring-lang.sourceforge.net/doc1.6/introduction.html#ring-and-other-languages',\n",
              " 'https://wiki.python.org/moin/Why%20is%20Python%20a%20dynamic%20language%20and%20also%20a%20strongly%20typed%20language',\n",
              " 'https://web.archive.org/web/20210314173706/https://wiki.python.org/moin/Why%20is%20Python%20a%20dynamic%20language%20and%20also%20a%20strongly%20typed%20language',\n",
              " 'https://www.python.org/dev/peps/pep-0488/',\n",
              " 'https://web.archive.org/web/20200601133202/https://www.python.org/dev/peps/pep-0488/',\n",
              " 'https://web.archive.org/web/20120623165941/http://cutter.rexx.com/~dkuhlman/python_book_01.html',\n",
              " 'https://www.davekuhlman.org/python_book_01.pdf',\n",
              " 'https://python-history.blogspot.com/2009/01/brief-timeline-of-python.html',\n",
              " 'https://web.archive.org/web/20200605032200/https://python-history.blogspot.com/2009/01/brief-timeline-of-python.html',\n",
              " 'https://survey.stackoverflow.co/2022/?utm_source=social-share&utm_medium=social&utm_campaign=dev-survey-2022',\n",
              " 'https://www.jetbrains.com/lp/devecosystem-2020/',\n",
              " 'https://web.archive.org/web/20210301062411/https://www.jetbrains.com/lp/devecosystem-2020/',\n",
              " 'https://www.tiobe.com/tiobe-index/',\n",
              " 'https://pypl.github.io/PYPL.html',\n",
              " 'https://web.archive.org/web/20170314232030/https://pypl.github.io/PYPL.html',\n",
              " 'https://mail.python.org/pipermail/python-dev/2000-August/008881.html',\n",
              " 'https://web.archive.org/web/20180714064019/https://mail.python.org/pipermail/python-dev/2000-August/008881.html',\n",
              " 'https://www.linuxjournal.com/content/guido-van-rossum-stepping-down-role-pythons-benevolent-dictator-life',\n",
              " 'https://web.archive.org/web/20180713192427/https://www.linuxjournal.com/content/guido-van-rossum-stepping-down-role-pythons-benevolent-dictator-life',\n",
              " 'https://www.python.org/dev/peps/pep-8100/',\n",
              " 'https://web.archive.org/web/20200604235027/https://www.python.org/dev/peps/pep-8100/',\n",
              " 'https://docs.python.org/3/faq/general.html#what-is-python',\n",
              " 'https://web.archive.org/web/20121024164224/http://docs.python.org/faq/general.html#what-is-python',\n",
              " 'https://www.tuhs.org/Usenet/alt.sources/1991-February/001749.html',\n",
              " 'https://web.archive.org/web/20210811171015/https://www.tuhs.org/Usenet/alt.sources/1991-February/001749.html',\n",
              " 'https://www.python.org/about',\n",
              " 'https://web.archive.org/web/20120420010049/http://www.python.org/about/',\n",
              " 'https://www.python.org/dev/peps/pep-0206/',\n",
              " 'https://web.archive.org/web/20210505003659/https://www.python.org/dev/peps/pep-0206/',\n",
              " 'https://pythoninsider.blogspot.com/2020/04/python-2718-last-release-of-python-2.html',\n",
              " 'https://web.archive.org/web/20200426204118/https://pythoninsider.blogspot.com/2020/04/python-2718-last-release-of-python-2.html',\n",
              " 'https://ui.adsabs.harvard.edu/abs/2015CS&D....8a4001G',\n",
              " 'https://citeseerx.ist.psu.edu/viewdoc/summary?doi=10.1.1.38.2023',\n",
              " 'https://doi.org/10.1088%2F1749-4680%2F8%2F1%2F014001',\n",
              " 'https://www.worldcat.org/issn/1749-4699',\n",
              " 'https://arxiv.org/abs/1404.6388',\n",
              " 'https://citeseerx.ist.psu.edu/viewdoc/summary?doi=10.1.1.474.6460',\n",
              " 'https://doi.org/10.1109%2FMCSE.2007.58',\n",
              " 'https://doi.org/10.1109%2FMCSE.2011.36',\n",
              " 'https://id.loc.gov/authorities/sh96008834',\n",
              " 'https://docs.modular.com/mojo/why-mojo.html',\n",
              " 'https://www.infoworld.com/article/3695588/mojo-language-marries-python-and-mlir-for-ai-development.html',\n",
              " 'https://datasciencelearningcenter.substack.com/p/what-is-mojo-programming-language',\n",
              " 'https://docs.python.org/3/library/tkinter.html',\n",
              " 'https://www.geeksforgeeks.org/python-tkinter-tutorial/',\n",
              " 'https://blog.python.org/2023/06/python-3114-31012-3917-3817-3717-and.html',\n",
              " 'https://www.wikidata.org/wiki/Q28865?uselang=en#P348',\n",
              " 'https://web.archive.org/web/20220517151240/https://docs.python.org/3.7/library/test.html?highlight=android#test.support.is_android',\n",
              " 'https://web.archive.org/web/20220517150826/https://docs.python.org/3/library/platform.html?highlight=android',\n",
              " 'https://web.archive.org/web/20180718132241/https://docs.python.org/3/library/re.html',\n",
              " 'https://web.archive.org/web/20230505064554/https://www.infoworld.com/article/3695588/mojo-language-marries-python-and-mlir-for-ai-development.html',\n",
              " 'https://web.archive.org/web/20220627175307/https://survey.stackoverflow.co/2022/?utm_source=social-share&utm_medium=social&utm_campaign=dev-survey-2022',\n",
              " 'https://web.archive.org/web/20180225101948/https://www.tiobe.com/tiobe-index/',\n",
              " 'https://web.archive.org/web/20220421205820/https://pythoninsider.blogspot.com/2022/03/python-3104-and-3912-are-now-available.html',\n",
              " 'https://web.archive.org/web/20220417215022/https://pythoninsider.blogspot.com/2022/03/python-3103-3911-3813-and-3713-are-now.html',\n",
              " 'https://web.archive.org/web/20220517173546/https://pythoninsider.blogspot.com/2022/05/python-3913-is-now-available.html',\n",
              " 'https://web.archive.org/web/20220913001104/https://pythoninsider.blogspot.com/2022/09/python-releases-3107-3914-3814-and-3714.html',\n",
              " 'https://web.archive.org/web/20220920170528/https://cve.mitre.org/cgi-bin/cvename.cgi?name=CVE-2020-10735',\n",
              " 'https://web.archive.org/web/20220509145745/https://docs.python.org/3.11/tutorial/errors.html',\n",
              " 'https://web.archive.org/web/20220424202827/https://peps.python.org/pep-0007/',\n",
              " 'https://web.archive.org/web/20220108212951/https://www.pypy.org/download.html',\n",
              " 'https://web.archive.org/web/20220924233728/https://11l-lang.org/transpiler/',\n",
              " 'https://web.archive.org/web/20221002183818/https://lwn.net/Articles/885854/',\n",
              " 'https://web.archive.org/web/20220714201302/https://www.techrepublic.com/article/programming-languages-why-python-4-0-will-probably-never-arrive-according-to-its-creator/',\n",
              " 'https://web.archive.org/web/20121018043136/http://docs.python.org/library/tkinter.html',\n",
              " 'https://web.archive.org/web/20230609031631/https://www.geeksforgeeks.org/python-tkinter-tutorial/',\n",
              " 'https://web.archive.org/web/20230505083518/https://docs.modular.com/mojo/why-mojo.html',\n",
              " 'https://web.archive.org/web/20230505090408/https://datasciencelearningcenter.substack.com/p/what-is-mojo-programming-language',\n",
              " 'https://pythoninsider.blogspot.com/2023/06/python-3120-beta-3-released.html']"
            ]
          },
          "metadata": {},
          "execution_count": 13
        }
      ]
    },
    {
      "cell_type": "code",
      "source": [
        "print(\"Page - Summary: %s\" % page_py.summary[0:])"
      ],
      "metadata": {
        "colab": {
          "base_uri": "https://localhost:8080/"
        },
        "id": "LeYviAeGTqQU",
        "outputId": "d0174ed6-04c2-4920-ae4e-642beb1d5835"
      },
      "execution_count": 16,
      "outputs": [
        {
          "output_type": "stream",
          "name": "stdout",
          "text": [
            "Page - Summary: Python is a high-level, general-purpose programming language. Its design philosophy emphasizes code readability with the use of significant indentation via the off-side rule.Python is dynamically typed and garbage-collected. It supports multiple programming paradigms, including structured (particularly procedural), object-oriented and functional programming. It is often described as a \"batteries included\" language due to its comprehensive standard library.Guido van Rossum began working on Python in the late 1980s as a successor to the ABC programming language and first released it in 1991 as Python 0.9.0. Python 2.0 was released in 2000. Python 3.0, released in 2008, was a major revision not completely backward-compatible with earlier versions. Python 2.7.18, released in 2020, was the last release of Python 2.Python consistently ranks as one of the most popular programming languages. Python users are colloquially called pythonistas.\n",
            "\n",
            "\n"
          ]
        }
      ]
    },
    {
      "cell_type": "markdown",
      "source": [
        "## Importing Libraries"
      ],
      "metadata": {
        "id": "0ZM4Z3grUr-q"
      }
    },
    {
      "cell_type": "code",
      "source": [
        "import nltk\n",
        "from nltk.corpus import stopwords\n",
        "from nltk.tokenize import word_tokenize\n",
        "from nltk.stem import WordNetLemmatizer"
      ],
      "metadata": {
        "id": "s9vVJ5cJUMt9"
      },
      "execution_count": 17,
      "outputs": []
    },
    {
      "cell_type": "code",
      "source": [
        "nltk.download('punkt')\n",
        "nltk.download('wordnet')\n",
        "nltk.download('stopwords')"
      ],
      "metadata": {
        "colab": {
          "base_uri": "https://localhost:8080/"
        },
        "id": "PODlGigGUxNU",
        "outputId": "f3deb138-d9bc-4969-e062-85c59cecb1a0"
      },
      "execution_count": 18,
      "outputs": [
        {
          "output_type": "stream",
          "name": "stderr",
          "text": [
            "[nltk_data] Downloading package punkt to /root/nltk_data...\n",
            "[nltk_data]   Unzipping tokenizers/punkt.zip.\n",
            "[nltk_data] Downloading package wordnet to /root/nltk_data...\n",
            "[nltk_data] Downloading package stopwords to /root/nltk_data...\n",
            "[nltk_data]   Unzipping corpora/stopwords.zip.\n"
          ]
        },
        {
          "output_type": "execute_result",
          "data": {
            "text/plain": [
              "True"
            ]
          },
          "metadata": {},
          "execution_count": 18
        }
      ]
    },
    {
      "cell_type": "code",
      "source": [
        "stop_words = set(stopwords.words('english'))\n",
        "lemmatizer = WordNetLemmatizer()"
      ],
      "metadata": {
        "id": "RRG745mwUzAj"
      },
      "execution_count": 19,
      "outputs": []
    },
    {
      "cell_type": "markdown",
      "source": [
        "## Stop words removal and lemmatiza the text"
      ],
      "metadata": {
        "id": "8adDx-RcVyJh"
      }
    },
    {
      "cell_type": "code",
      "source": [
        "# def preprocess_text(text):\n",
        "#     word_tokens = word_tokenize(text)\n",
        "#     filtered_sentence = [w for w in word_tokens if not w in stop_words]\n",
        "#     lemmatized_sentence = [lemmatizer.lemmatize(w) for w in filtered_sentence]\n",
        "#     return \" \".join(lemmatized_sentence)"
      ],
      "metadata": {
        "id": "mkyChNyUU4bI"
      },
      "execution_count": 20,
      "outputs": []
    },
    {
      "cell_type": "code",
      "source": [
        "import re\n",
        "from nltk.tokenize import word_tokenize\n",
        "from nltk.corpus import stopwords\n",
        "from nltk.stem import WordNetLemmatizer\n",
        "\n",
        "def preprocess_text(text):\n",
        "    # Convert text to lowercase\n",
        "    # text = text.lower()\n",
        "    # Remove special characters\n",
        "    # text = re.sub(r'\\W+', ' ', text)\n",
        "    # Tokenize into words\n",
        "    word_tokens = word_tokenize(text)\n",
        "    # Remove stop words\n",
        "    stop_words = set(stopwords.words('english'))\n",
        "    filtered_sentence = [w for w in word_tokens if not w in stop_words]\n",
        "    # Lemmatize words\n",
        "    lemmatizer = WordNetLemmatizer()\n",
        "    lemmatized_sentence = [lemmatizer.lemmatize(w) for w in filtered_sentence]\n",
        "    # Return the cleaned and preprocessed text\n",
        "    return \" \".join(lemmatized_sentence)"
      ],
      "metadata": {
        "id": "r50eWSbvXJYo"
      },
      "execution_count": 65,
      "outputs": []
    },
    {
      "cell_type": "code",
      "source": [
        "wikipedia_text = page_py.content"
      ],
      "metadata": {
        "id": "yAY8hfBQVf9Z"
      },
      "execution_count": 66,
      "outputs": []
    },
    {
      "cell_type": "code",
      "source": [
        "wikipedia_text"
      ],
      "metadata": {
        "colab": {
          "base_uri": "https://localhost:8080/",
          "height": 139
        },
        "id": "Z5f1txYAXS8w",
        "outputId": "2eb1efef-6800-4b40-a272-c16da4022a4a"
      },
      "execution_count": 67,
      "outputs": [
        {
          "output_type": "execute_result",
          "data": {
            "text/plain": [
              "'Python is a high-level, general-purpose programming language. Its design philosophy emphasizes code readability with the use of significant indentation via the off-side rule.Python is dynamically typed and garbage-collected. It supports multiple programming paradigms, including structured (particularly procedural), object-oriented and functional programming. It is often described as a \"batteries included\" language due to its comprehensive standard library.Guido van Rossum began working on Python in the late 1980s as a successor to the ABC programming language and first released it in 1991 as Python 0.9.0. Python 2.0 was released in 2000. Python 3.0, released in 2008, was a major revision not completely backward-compatible with earlier versions. Python 2.7.18, released in 2020, was the last release of Python 2.Python consistently ranks as one of the most popular programming languages. Python users are colloquially called pythonistas.\\n\\n\\n== History ==\\n\\nPython was conceived in the late 1980s by Guido van Rossum at Centrum Wiskunde & Informatica (CWI) in the Netherlands as a successor to the ABC programming language, which was inspired by SETL, capable of exception handling and interfacing with the Amoeba operating system. Its implementation began in December 1989. Van Rossum shouldered sole responsibility for the project, as the lead developer, until 12 July 2018, when he announced his \"permanent vacation\" from his responsibilities as Python\\'s \"benevolent dictator for life\", a title the Python community bestowed upon him to reflect his long-term commitment as the project\\'s chief decision-maker. In January 2019, active Python core developers elected a five-member Steering Council to lead the project.Python 2.0 was released on 16 October 2000, with many major new features such as list comprehensions, cycle-detecting garbage collection, reference counting, and Unicode support. Python 3.0, released on 3 December 2008, with many of its major features backported to Python 2.6.x and 2.7.x. Releases of Python 3 include the 2to3 utility, which automates the translation of Python 2 code to Python 3.Python 2.7\\'s end-of-life was initially set for 2015, then postponed to 2020 out of concern that a large body of existing code could not easily be forward-ported to Python 3. No further security patches or other improvements will be released for it. Currently only 3.7 and later are supported. In 2021, Python 3.9.2 and 3.8.8 were expedited as all versions of Python (including 2.7) had security issues leading to possible remote code execution and web cache poisoning.In 2022, Python 3.10.4 and 3.9.12 were expedited and 3.8.13, and 3.7.13, because of many security issues. When Python 3.9.13 was released in May 2022, it was announced that the 3.9 series (joining the older series 3.8 and 3.7) would only receive security fixes in the future. On September 7, 2022, four new releases were made due to a potential denial-of-service attack: 3.10.7, 3.9.14, 3.8.14, and 3.7.14.As of November 2022, Python 3.11 is the stable release. Notable changes from 3.10 include increased program execution speed and improved error reporting.\\n\\n\\n== Design philosophy and features ==\\nPython is a multi-paradigm programming language. Object-oriented programming and structured programming are fully supported, and many of their features support functional programming and aspect-oriented programming (including metaprogramming and metaobjects). Many other paradigms are supported via extensions, including design by contract and logic programming.Python uses dynamic typing and a combination of reference counting and a cycle-detecting garbage collector for memory management. It uses dynamic name resolution (late binding), which binds method and variable names during program execution.\\nIts design offers some support for functional programming in the Lisp tradition. It has filter,mapandreduce functions; list comprehensions, dictionaries, sets, and generator expressions. The standard library has two modules (itertools and functools) that implement functional tools borrowed from Haskell and Standard ML.Its core philosophy is summarized in the document The Zen of Python (PEP 20), which includes aphorisms such as:\\nBeautiful is better than ugly.\\nExplicit is better than implicit.\\nSimple is better than complex.\\nComplex is better than complicated.\\nReadability counts.Rather than building all of its functionality into its core, Python was designed to be highly extensible via modules. This compact modularity has made it particularly popular as a means of adding programmable interfaces to existing applications. Van Rossum\\'s vision of a small core language with a large standard library and easily extensible interpreter stemmed from his frustrations with ABC, which espoused the opposite approach.Python strives for a simpler, less-cluttered syntax and grammar while giving developers a choice in their coding methodology. In contrast to Perl\\'s \"there is more than one way to do it\" motto, Python embraces a \"there should be one—and preferably only one—obvious way to do it\"  philosophy. Alex Martelli, a Fellow at the Python Software Foundation and Python book author, wrote: \"To describe something as \\'clever\\' is not considered a compliment in the Python culture.\"Python\\'s developers strive to avoid premature optimization and reject patches to non-critical parts of the CPython reference implementation that would offer marginal increases in speed at the cost of clarity. When speed is important, a Python programmer can move time-critical functions to extension modules written in languages such as C; or use PyPy, a just-in-time compiler. Cython is also available, which translates a Python script into C and makes direct C-level API calls into the Python interpreter.\\nPython\\'s developers aim for it to be fun to use. This is reflected in its name—a tribute to the British comedy group Monty Python—and in occasionally playful approaches to tutorials and reference materials, such as the use of the terms \"spam\" and \"eggs\" (a reference to a Monty Python sketch) in examples, instead of the often-used \"foo\" and \"bar\".A common neologism in the Python community is pythonic, which has a wide range of meanings related to program style. \"Pythonic\" code may use Python idioms well, be natural or show fluency in the language, or conform with Python\\'s minimalist philosophy and emphasis on readability. Code that is difficult to understand or reads like a rough transcription from another programming language is called unpythonic.\\n\\n\\n== Syntax and semantics ==\\n\\nPython is meant to be an easily readable language. Its formatting is visually uncluttered and often uses English keywords where other languages use punctuation. Unlike many other languages, it does not use curly brackets to delimit blocks, and semicolons after statements are allowed but rarely used. It has fewer syntactic exceptions and special cases than C or Pascal.\\n\\n\\n=== Indentation ===\\n\\nPython uses whitespace indentation, rather than curly brackets or keywords, to delimit blocks. An increase in indentation comes after certain statements; a decrease in indentation signifies the end of the current block. Thus, the program\\'s visual structure accurately represents its semantic structure. This feature is sometimes termed the off-side rule. Some other languages use indentation this way; but in most, indentation has no semantic meaning. The recommended indent size is four spaces.\\n\\n\\n=== Statements and control flow ===\\nPython\\'s statements include:\\n\\nThe assignment statement, using a single equals sign =\\nThe if statement, which conditionally executes a block of code, along with else and elif (a contraction of else-if)\\nThe for statement, which iterates over an iterable object, capturing each element to a local variable for use by the attached block\\nThe while statement, which executes a block of code as long as its condition is true\\nThe try statement, which allows exceptions raised in its attached code block to be caught and handled by except clauses (or new syntax except* in Python 3.11 for exception groups); it also ensures that clean-up code in a finally block is always run regardless of how the block exits\\nThe raise statement, used to raise a specified exception or re-raise a caught exception\\nThe class statement, which executes a block of code and attaches its local namespace to a class, for use in object-oriented programming\\nThe def statement, which defines a function or method\\nThe with statement, which encloses a code block within a context manager (for example, acquiring a lock before it is run, then releasing the lock; or opening and closing a file), allowing resource-acquisition-is-initialization (RAII)-like behavior and replacing a common try/finally idiom\\nThe break statement, which exits a loop\\nThe continue statement, which skips the rest of the current iteration and continues with the next\\nThe del statement, which removes a variable—deleting the reference from the name to the value, and producing an error if the variable is referred to before it is redefined\\nThe pass statement, serving as a NOP, syntactically needed to create an empty code block\\nThe assert statement, used in debugging to check for conditions that should apply\\nThe yield statement, which returns a value from a generator function (and also an operator); used to implement coroutines\\nThe return statement, used to return a value from a function\\nThe import and from statements, used to import modules whose functions or variables can be used in the current programThe assignment statement (=) binds a name as a reference to a separate, dynamically allocated object. Variables may subsequently be rebound at any time to any object. In Python, a variable name is a generic reference holder without a fixed data type; however, it always refers to some object with a type. This is called dynamic typing—in contrast to statically-typed languages, where each variable may contain only a value of a certain type.\\nPython does not support tail call optimization or first-class continuations, and, according to Van Rossum, it never will. However, better support for coroutine-like functionality is provided by extending Python\\'s generators. Before 2.5, generators were lazy iterators; data was passed unidirectionally out of the generator. From Python 2.5 on, it is possible to pass data back into a generator function; and from version 3.3, it can be passed through multiple stack levels.\\n\\n\\n=== Expressions ===\\nPython\\'s expressions include:\\n\\nThe +, -, and * operators for mathematical addition, subtraction, and multiplication are similar to other languages, but the behavior of division differs. There are two types of divisions in Python: floor division (or integer division) // and floating-point/division. Python uses the ** operator for exponentiation.\\nPython uses the + operator for string concatenation. Python uses the * operator for duplicating a string a specified number of times.\\nThe @ infix operator. It is intended to be used by libraries such as NumPy for matrix multiplication.\\nThe syntax :=, called the \"walrus operator\", was introduced in Python 3.8. It assigns values to variables as part of a larger expression.\\nIn Python, == compares by value. Python\\'s is operator may be used to compare object identities (comparison by reference), and comparisons may be chained—for example, a <= b <= c.\\nPython uses and, or, and not as boolean operators.\\nPython has a type of expression called a list comprehension, as well as a more general expression called a generator expression.\\nAnonymous functions are implemented using lambda expressions; however, there may be only one expression in each body.\\nConditional expressions are written as x if c else y (different in order of operands from the c ? x : y operator common to many other languages).\\nPython makes a distinction between lists and tuples. Lists are written as [1, 2, 3], are mutable, and cannot be used as the keys of dictionaries (dictionary keys must be immutable in Python). Tuples, written as (1, 2, 3), are immutable and thus can be used as keys of dictionaries, provided all of the tuple\\'s elements are immutable. The + operator can be used to concatenate two tuples, which does not directly modify their contents, but produces a new tuple containing the elements of both. Thus, given the variable t initially equal to (1, 2, 3), executing t = t + (4, 5) first evaluates t + (4, 5), which yields (1, 2, 3, 4, 5), which is then assigned back to t—thereby effectively \"modifying the contents\" of t while conforming to the immutable nature of tuple objects. Parentheses are optional for tuples in unambiguous contexts.\\nPython features sequence unpacking where multiple expressions, each evaluating to anything that can be assigned (to a variable, writable property, etc.) are associated in an identical manner to that forming tuple literals—and, as a whole, are put on the left-hand side of the equal sign in an assignment statement. The statement expects an iterable object on the right-hand side of the equal sign that produces the same number of values as the provided writable expressions; when iterated through them, it assigns each of the produced values to the corresponding expression on the left.\\nPython has a \"string format\" operator % that functions analogously to printf format strings in C—e.g. \"spam=%s eggs=%d\" % (\"blah\", 2) evaluates to \"spam=blah eggs=2\". In Python 2.6+ and 3+, this was supplemented by the format() method of the str class, e.g. \"spam={0} eggs={1}\".format(\"blah\", 2). Python 3.6 added \"f-strings\": spam = \"blah\"; eggs = 2; f\\'spam={spam} eggs={eggs}\\'.\\nStrings in Python can be concatenated by \"adding\" them (with the same operator as for adding integers and floats), e.g. \"spam\" + \"eggs\" returns \"spameggs\". If strings contain numbers, they are added as strings rather than integers, e.g. \"2\" + \"2\" returns \"22\".\\nPython has various string literals:\\nDelimited by single or double quote marks; unlike in Unix shells, Perl, and Perl-influenced languages, single and double quote marks work the same. Both use the backslash (\\\\) as an escape character. String interpolation became available in Python 3.6 as \"formatted string literals\".\\nTriple-quoted (beginning and ending with three single or double quote marks), which may span multiple lines and function like here documents in shells, Perl, and Ruby.\\nRaw string varieties, denoted by prefixing the string literal with r. Escape sequences are not interpreted; hence raw strings are useful where literal backslashes are common, such as regular expressions and Windows-style paths. (Compare \"@-quoting\" in C#.)\\nPython has array index and array slicing expressions in lists, denoted as a[key], a[start:stop] or a[start:stop:step]. Indexes are zero-based, and negative indexes are relative to the end. Slices take elements from the start index up to, but not including, the stop index. The third slice parameter called step or stride, allows elements to be skipped and reversed. Slice indexes may be omitted—for example, a[:] returns a copy of the entire list. Each element of a slice is a shallow copy.In Python, a distinction between expressions and statements is rigidly enforced, in contrast to languages such as Common Lisp, Scheme, or Ruby. This leads to duplicating some functionality. For example:\\n\\nList comprehensions vs. for-loops\\nConditional expressions vs. if blocks\\nThe eval() vs. exec() built-in functions (in Python 2, exec is a statement); the former is for expressions, the latter is for statementsStatements cannot be a part of an expression—so list and other comprehensions or lambda expressions, all being expressions, cannot contain statements. A particular case is that an assignment statement such as a = 1 cannot form part of the conditional expression of a conditional statement. This has the advantage of avoiding a classic C error of mistaking an assignment operator = for an equality operator == in conditions: if (c = 1) { ... } is syntactically valid (but probably unintended) C code, but if c = 1: ... causes a syntax error in Python.\\n\\n\\n=== Methods ===\\nMethods on objects are functions attached to the object\\'s class; the syntax instance.method(argument) is, for normal methods and functions, syntactic sugar for Class.method(instance, argument). Python methods have an explicit self parameter to access instance data, in contrast to the implicit self (or this) in some other object-oriented programming languages (e.g., C++, Java, Objective-C, Ruby). Python also provides methods, often called dunder methods (due to their names beginning and ending with double-underscores), to allow user-defined classes to modify how they are handled by native operations including length, comparison, in arithmetic operations and type conversion.\\n\\n\\n=== Typing ===\\nPython uses duck typing and has typed objects but untyped variable names. Type constraints are not checked at compile time; rather, operations on an object may fail, signifying that it is not of a suitable type. Despite being dynamically typed, Python is strongly typed, forbidding operations that are not well-defined (for example, adding a number to a string) rather than silently attempting to make sense of them.\\nPython allows programmers to define their own types using classes, most often used for object-oriented programming. New instances of classes are constructed by calling the class (for example, SpamClass() or EggsClass()), and the classes are instances of the metaclass type (itself an instance of itself), allowing metaprogramming and reflection.\\nBefore version 3.0, Python had two kinds of classes (both using the same syntax): old-style and new-style, current Python versions only support the semantics new style.\\nPython supports gradual typing. Python\\'s syntax allows specifying static types, but they are not checked in the default implementation, CPython. An experimental optional static type-checker, mypy, supports compile-time type checking.\\n\\n\\n=== Arithmetic operations ===\\nPython has the usual symbols for arithmetic operators (+, -, *, /), the floor division operator // and the modulo operation % (where the remainder can be negative,  e.g. 4 % -3 == -2). It also has ** for exponentiation, e.g. 5**3 == 125 and 9**0.5 == 3.0, and a matrix‑multiplication operator @ . These operators work like in traditional math; with the same precedence rules, the operators infix (+ and - can also be unary to represent positive and negative numbers respectively).\\nThe division between integers produces floating-point results. The behavior of division has changed significantly over time:\\nCurrent Python (i.e. since 3.0) changed / to always be floating-point division, e.g. 5/2 == 2.5.\\nThe floor division // operator was introduced. So 7//3 == 2, -7//3 == -3, 7.5//3 == 2.0 and -7.5//3 == -3.0. Adding from __future__ import division causes a module used in Python 2.7 to use Python 3.0 rules for division (see above).In Python terms, / is true division (or simply division), and // is floor division. / before version 3.0 is classic division.Rounding towards negative infinity, though different from most languages, adds consistency. For instance, it means that the equation (a + b)//b == a//b + 1 is always true. It also means that the equation b*(a//b) + a%b == a is valid for both positive and negative values of a. However, maintaining the validity of this equation means that while the result of a%b is, as expected, in the half-open interval [0, b), where b is a positive integer, it has to lie in the interval (b, 0] when b is negative.Python provides a round function for rounding a float to the nearest integer. For tie-breaking, Python 3 uses round to even: round(1.5) and round(2.5) both produce 2. Versions before 3 used round-away-from-zero: round(0.5) is 1.0, round(-0.5) is −1.0.Python allows boolean expressions with multiple equality relations in a manner that is consistent with general use in mathematics. For example, the expression a < b < c tests whether a is less than b and b is less than c. C-derived languages interpret this expression differently: in C, the expression would first evaluate a < b, resulting in 0 or 1, and that result would then be compared with c.Python uses arbitrary-precision arithmetic for all integer operations. The Decimal type/class in the decimal module provides decimal floating-point numbers to a pre-defined arbitrary precision and several rounding modes. The Fraction class in the fractions module provides arbitrary precision for rational numbers.Due to Python\\'s extensive mathematics library, and the third-party library NumPy that further extends the native capabilities, it is frequently used as a scientific scripting language to aid in problems such as numerical data processing and manipulation.\\n\\n\\n== Programming examples ==\\nHello world program:\\n\\nProgram to calculate the factorial of a positive integer:\\n\\n\\n== Libraries ==\\nPython\\'s large standard library provides tools suited to many tasks and is commonly cited as one of its greatest strengths. For Internet-facing applications, many standard formats and protocols such as MIME and HTTP are supported. It includes modules for creating graphical user interfaces, connecting to relational databases, generating pseudorandom numbers, arithmetic with arbitrary-precision decimals, manipulating regular expressions, and unit testing.\\nSome parts of the standard library are covered by specifications—for example, the Web Server Gateway Interface (WSGI) implementation wsgiref follows PEP 333—but most are specified by their code, internal documentation, and test suites. However, because most of the standard library is cross-platform Python code, only a few modules need altering or rewriting for variant implementations.\\nAs of 14 November 2022, the Python Package Index (PyPI), the official repository for third-party Python software, contains over 415,000 packages with a wide range of functionality, including:\\n\\n\\n== Development environments ==\\n\\nMost Python implementations (including CPython) include a read–eval–print loop (REPL), permitting them to function as a command line interpreter for which users enter statements sequentially and receive results immediately.\\nPython also comes with an Integrated development environment (IDE) called IDLE, which is more beginner-oriented.\\nOther shells, including IDLE and IPython, add further abilities such as improved auto-completion, session state retention, and syntax highlighting.\\nAs well as standard desktop integrated development environments, there are Web browser-based IDEs, including SageMath, for developing science- and math-related programs; PythonAnywhere, a browser-based IDE and hosting environment; and Canopy IDE, a commercial IDE emphasizing scientific computing.\\n\\n\\n== Implementations ==\\n\\n\\n=== Reference implementation ===\\nCPython is the reference implementation of Python. It is written in C, meeting the C89 standard (Python 3.11 uses C11) with several select C99 features. CPython includes its own C extensions, but third-party extensions are not limited to older C versions—e.g. they can be implemented with C11 or C++.) It compiles Python programs into an intermediate bytecode which is then executed by its virtual machine. CPython is distributed with a large standard library written in a mixture of C and native Python, and is available for many platforms, including Windows (starting with Python 3.9, the Python installer deliberately fails to install on Windows 7 and 8; Windows XP was supported until Python 3.5) and most modern Unix-like systems, including macOS (and Apple M1 Macs, since Python 3.9.1, with experimental installer) and unofficial support for e.g. VMS. Platform portability was one of its earliest priorities. (During Python 1 and 2 development, even OS/2 and Solaris were supported, but support has since been dropped for many platforms.)\\n\\n\\n=== Other implementations ===\\nPyPy is a fast, compliant interpreter of Python 2.7 and 3.8. Its just-in-time compiler often brings a significant speed improvement over CPython but some libraries written in C cannot be used with it.\\nStackless Python is a significant fork of CPython that implements microthreads; it does not use the call stack in the same way, thus allowing massively concurrent programs. PyPy also has a stackless version.\\nMicroPython and CircuitPython are Python 3 variants optimized for microcontrollers, including Lego Mindstorms EV3.\\nPyston is a variant of the Python runtime that uses just-in-time compilation to speed up the execution of Python programs.\\nCinder is a performance-oriented fork of CPython 3.8 that contains a number of optimizations including bytecode inline caching, eager evaluation of coroutines, a method-at-a-time JIT, and an experimental bytecode compiler.\\n\\n\\n=== Unsupported implementations ===\\nOther just-in-time Python compilers have been developed, but are now unsupported:\\n\\nGoogle began a project named Unladen Swallow in 2009, with the aim of speeding up the Python interpreter fivefold by using the LLVM, and of improving its multithreading ability to scale to thousands of cores, while ordinary implementations suffer from the global interpreter lock.\\nPsyco is a discontinued just-in-time specializing compiler that integrates with CPython and transforms bytecode to machine code at runtime. The emitted code is specialized for certain data types and is faster than the standard Python code. Psyco does not support Python 2.7 or later.\\nPyS60 was a Python 2 interpreter for Series 60 mobile phones released by Nokia in 2005. It implemented many of the modules from the standard library and some additional modules for integrating with the Symbian operating system. The Nokia N900 also supports Python with GTK widget libraries, enabling programs to be written and run on the target device.\\n\\n\\n=== Cross-compilers to other languages ===\\nThere are several compilers to high-level object languages, with either unrestricted Python, a restricted subset of Python, or a language similar to Python as the source language:\\n\\nBrython, Transcrypt and Pyjs (latest release in 2012) compile Python to JavaScript.\\nCython compiles (a superset of) Python  to C (while the resulting code is also usable with Python and also e.g. C++).\\nNuitka compiles Python into C.\\nNumba uses LLVM to compile a subset of Python to machine code.\\nPythran compiles a subset of Python 3 to C++ (C++11).\\nRPython can be compiled to C, and is used to build the PyPy interpreter of Python.\\nThe Python → 11l → C++ transpiler compiles a subset of Python 3 to C++ (C++17).Specialized:\\n\\nMyHDL is a Python-based hardware description language (HDL), that converts MyHDL code to Verilog or VHDL code.Older projects (or not to be used with Python 3.x and latest syntax):\\n\\nGoogle\\'s Grumpy (latest release in 2017) transpiles Python 2 to Go.\\nIronPython  allows running Python 2.7 programs (and an alpha, released in 2021, is also available for \"Python 3.4, although features and behaviors from later versions may be included\") on the .NET Common Language Runtime.\\nJython compiles Python 2.7 to Java bytecode, allowing the use of the Java libraries from a Python program.\\nPyrex (latest release in 2010) and Shed Skin (latest release in 2013) compile to C and C++ respectively.\\n\\n\\n=== Performance ===\\nPerformance comparison of various Python implementations on a non-numerical (combinatorial) workload was presented at EuroSciPy \\'13. Python\\'s performance compared to other programming languages is also benchmarked by The Computer Language Benchmarks Game.\\n\\n\\n== Development ==\\nPython\\'s development is conducted largely through the Python Enhancement Proposal (PEP) process, the primary mechanism for proposing major new features, collecting community input on issues, and documenting Python design decisions. Python coding style is covered in PEP 8. Outstanding PEPs are reviewed and commented on by the Python community and the steering council.Enhancement of the language corresponds with the development of the CPython reference implementation. The mailing list python-dev is the primary forum for the language\\'s development. Specific issues were originally discussed in the Roundup bug tracker hosted at by the foundation. In 2022, all issues and discussions were migrated to GitHub. Development originally took place on a self-hosted source-code repository running Mercurial, until Python moved to GitHub in January 2017.CPython\\'s public releases come in three types, distinguished by which part of the version number is incremented:\\n\\nBackward-incompatible versions, where code is expected to break and needs to be manually ported. The first part of the version number is incremented. These releases happen infrequently—version 3.0 was released 8 years after 2.0. According to Guido van Rossum, a version 4.0 is very unlikely to ever happen.\\nMajor or \"feature\" releases are largely compatible with the previous version but introduce new features. The second part of the version number is incremented. Starting with Python 3.9, these releases are expected to happen annually. Each major version is supported by bug fixes for several years after its release.\\nBugfix releases, which introduce no new features, occur about every 3 months and are made when a sufficient number of bugs have been fixed upstream since the last release. Security vulnerabilities are also patched in these releases. The third and final part of the version number is incremented.Many alpha, beta, and release-candidates are also released as previews and for testing before final releases. Although there is a rough schedule for each release, they are often delayed if the code is not ready. Python\\'s development team monitors the state of the code by running the large unit test suite during development.The major academic conference on Python is PyCon. There are also special Python mentoring programs, such as Pyladies.\\nPython 3.10 deprecated wstr (to be removed in Python 3.12; meaning Python extensions need to be modified by then), and added pattern matching to the language.\\n\\n\\n== API documentation generators ==\\nTools that can generate documentation for Python API include pydoc (available as part of the standard library), Sphinx, Pdoc and its forks, Doxygen and Graphviz, among others.\\n\\n\\n== Naming ==\\nPython\\'s name is derived from the British comedy group Monty Python, whom Python creator Guido van Rossum enjoyed while developing the language. Monty Python references appear frequently in Python code and culture; for example, the metasyntactic variables often used in Python literature are spam and eggs instead of the traditional foo and bar. The official Python documentation also contains various references to Monty Python routines.The prefix Py- is used to show that something is related to Python. Examples of the use of this prefix in names of Python applications or libraries include Pygame, a binding of SDL to Python (commonly used to create games); PyQt and PyGTK, which bind Qt and GTK to Python respectively; and PyPy, a Python implementation originally written in Python.\\n\\n\\n== Popularity ==\\nSince 2003, Python has consistently ranked in the top ten most popular programming languages in the TIOBE Programming Community Index where as of December 2022 it was the most popular language (ahead of C, C++, and Java). It was selected Programming Language of the Year (for \"the highest rise in ratings in a year\") in 2007, 2010, 2018, and 2020 (the only language to have done so four times as of 2020).\\nAn empirical study found that scripting languages, such as Python, are more productive than conventional languages, such as C and Java, for programming problems involving string manipulation and search in a dictionary, and determined that memory consumption was often \"better than Java and not much worse than C or C++\".Large organizations that use Python include Wikipedia, Google, Yahoo!, CERN, NASA, Facebook, Amazon, Instagram, Spotify, and some smaller entities like ILM and ITA. The social news networking site Reddit was written mostly in Python.\\n\\n\\n== Uses ==\\n\\nPython can serve as a scripting language for web applications, e.g., via mod_wsgi for the Apache webserver. With Web Server Gateway Interface, a standard API has evolved to facilitate these applications. Web frameworks like Django, Pylons, Pyramid, TurboGears, web2py, Tornado, Flask, Bottle, and Zope support developers in the design and maintenance of complex applications. Pyjs and IronPython can be used to develop the client-side of Ajax-based applications. SQLAlchemy can be used as a data mapper to a relational database. Twisted is a framework to program communications between computers, and is used (for example) by Dropbox.\\nLibraries such as NumPy, SciPy, and Matplotlib allow the effective use of Python in scientific computing, with specialized libraries such as Biopython and Astropy providing domain-specific functionality. SageMath is a computer algebra system with a notebook interface programmable in Python: its library covers many aspects of mathematics, including algebra, combinatorics, numerical mathematics, number theory, and calculus. OpenCV has Python bindings with a rich set of features for computer vision and image processing.Python is commonly used in artificial intelligence projects and machine learning projects with the help of libraries like TensorFlow, Keras, Pytorch, and scikit-learn. As a scripting language with a modular architecture, simple syntax, and rich text processing tools, Python is often used for natural language processing.Python can also be used for Graphical User Interface (GUI) by using libraries like Tkinter.Python can also be used to create games, with libraries such as Pygame, which can make 2D games.\\nPython has been successfully embedded in many software products as a scripting language, including in finite element method software such as Abaqus, 3D parametric modelers like FreeCAD, 3D animation packages such as 3ds Max, Blender, Cinema 4D, Lightwave, Houdini, Maya, modo, MotionBuilder, Softimage, the visual effects compositor Nuke, 2D imaging programs like GIMP, Inkscape, Scribus and Paint Shop Pro, and musical notation programs like scorewriter and capella. GNU Debugger uses Python as a pretty printer to show complex structures such as C++ containers. Esri promotes Python as the best choice for writing scripts in ArcGIS. It has also been used in several video games, and has been adopted as first of the three available programming languages in Google App Engine, the other two being Java and Go.Many operating systems include Python as a standard component. It ships with most Linux distributions, AmigaOS 4 (using Python 2.7), FreeBSD (as a package), NetBSD, and OpenBSD (as a package) and can be used from the command line (terminal). Many Linux distributions use installers written in Python: Ubuntu uses the Ubiquity installer, while Red Hat Linux and Fedora Linux use the Anaconda installer. Gentoo Linux uses Python in its package management system, Portage.\\nPython is used extensively in the information security industry, including in exploit development.Most of the Sugar software for the One Laptop per Child XO, developed at Sugar Labs since 2008, is written in Python. The Raspberry Pi single-board computer project has adopted Python as its main user-programming language.\\nLibreOffice includes Python and intends to replace Java with Python. Its Python Scripting Provider is a core feature since Version 4.0 from 7 February 2013.\\n\\n\\n== Languages influenced by Python ==\\nPython\\'s design and philosophy have influenced many other programming languages:\\n\\nBoo uses indentation, a similar syntax, and a similar object model.\\nCobra uses indentation and a similar syntax, and its Acknowledgements document lists Python first among languages that influenced it.\\nCoffeeScript, a programming language that cross-compiles to JavaScript, has Python-inspired syntax.\\nECMAScript/JavaScript borrowed iterators and generators from Python.\\nGDScript, a scripting language very similar to Python, built-in to the Godot game engine.\\nGo is designed for the \"speed of working in a dynamic language like Python\" and shares the same syntax for slicing arrays.\\nGroovy was motivated by the desire to bring the Python design philosophy to Java.\\nJulia was designed to be \"as usable for general programming as Python\".\\nMojo is currently a non-strict (aims to be a strict) superset of Python (e.g. still missing classes, and adding e.g. struct), and is up to 35,000x faster for some code (mandelbrot, since its embarrassingly parallel), where static typing helps (and MLIR it\\'s implemented with), and e.g. 4000x faster for matrix multiply. It\\'s not yet open-sourced, but that\\'s the plan.\\nNim uses indentation and similar syntax.\\nRuby\\'s creator, Yukihiro Matsumoto, has said: \"I wanted a scripting language that was more powerful than Perl, and more object-oriented than Python. That\\'s why I decided to design my own language.\"\\nSwift, a programming language developed by Apple, has some Python-inspired syntax.Python\\'s development practices have also been emulated by other languages. For example, the practice of requiring a document describing the rationale for, and issues surrounding, a change to the language (in Python, a PEP) is also used in Tcl, Erlang, and Swift.\\n\\n\\n== See also ==\\nPython syntax and semantics\\npip (package manager)\\nList of programming languages\\nHistory of programming languages\\nComparison of programming languages\\n\\n\\n== References ==\\n\\n\\n=== Sources ===\\n\"Python for Artificial Intelligence\". Wiki.python.org. 19 July 2012. Archived from the original on 1 November 2012. Retrieved 3 December 2012.\\nPaine, Jocelyn, ed. (August 2005). \"AI in Python\". AI Expert Newsletter. Amzi!. Archived from the original on 26 March 2012. Retrieved 11 February 2012.\\n\"PyAIML 0.8.5 : Python Package Index\". Pypi.python.org. Retrieved 17 July 2013.\\nRussell, Stuart J. & Norvig, Peter (2009). Artificial Intelligence: A Modern Approach (3rd ed.). Upper Saddle River, NJ: Prentice Hall. ISBN 978-0-13-604259-4.\\n\\n\\n== Further reading ==\\nDowney, Allen B. (May 2012). Think Python: How to Think Like a Computer Scientist (version 1.6.6 ed.). ISBN 978-0-521-72596-5.\\nHamilton, Naomi (5 August 2008). \"The A-Z of Programming Languages: Python\". Computerworld. Archived from the original on 29 December 2008. Retrieved 31 March 2010.\\nLutz, Mark (2013). Learning Python (5th ed.). O\\'Reilly Media. ISBN 978-0-596-15806-4.\\nSummerfield, Mark (2009). Programming in Python 3 (2nd ed.). Addison-Wesley Professional. ISBN 978-0-321-68056-3.\\nRamalho, Luciano (May 2022). Fluent Python (2nd ed.). O\\'Reilly Media. ISBN 978-1-4920-5632-4.\\n\\n\\n== External links ==\\n\\nOfficial website'"
            ],
            "application/vnd.google.colaboratory.intrinsic+json": {
              "type": "string"
            }
          },
          "metadata": {},
          "execution_count": 67
        }
      ]
    },
    {
      "cell_type": "code",
      "source": [
        "clean_text = preprocess_text(wikipedia_text)"
      ],
      "metadata": {
        "id": "iPvO9zNhU5hM"
      },
      "execution_count": 68,
      "outputs": []
    },
    {
      "cell_type": "code",
      "source": [
        "clean_text"
      ],
      "metadata": {
        "colab": {
          "base_uri": "https://localhost:8080/",
          "height": 139
        },
        "id": "r1BkEm8iVB0m",
        "outputId": "b13d526f-ea67-435e-b701-b31385015984"
      },
      "execution_count": 69,
      "outputs": [
        {
          "output_type": "execute_result",
          "data": {
            "text/plain": [
              "\"Python high-level , general-purpose programming language . Its design philosophy emphasizes code readability use significant indentation via off-side rule.Python dynamically typed garbage-collected . It support multiple programming paradigm , including structured ( particularly procedural ) , object-oriented functional programming . It often described `` battery included '' language due comprehensive standard library.Guido van Rossum began working Python late 1980s successor ABC programming language first released 1991 Python 0.9.0 . Python 2.0 released 2000 . Python 3.0 , released 2008 , major revision completely backward-compatible earlier version . Python 2.7.18 , released 2020 , last release Python 2.Python consistently rank one popular programming language . Python user colloquially called pythonistas . == History == Python conceived late 1980s Guido van Rossum Centrum Wiskunde & Informatica ( CWI ) Netherlands successor ABC programming language , inspired SETL , capable exception handling interfacing Amoeba operating system . Its implementation began December 1989 . Van Rossum shouldered sole responsibility project , lead developer , 12 July 2018 , announced `` permanent vacation '' responsibility Python 's `` benevolent dictator life '' , title Python community bestowed upon reflect long-term commitment project 's chief decision-maker . In January 2019 , active Python core developer elected five-member Steering Council lead project.Python 2.0 released 16 October 2000 , many major new feature list comprehension , cycle-detecting garbage collection , reference counting , Unicode support . Python 3.0 , released 3 December 2008 , many major feature backported Python 2.6.x 2.7.x . Releases Python 3 include 2to3 utility , automates translation Python 2 code Python 3.Python 2.7 's end-of-life initially set 2015 , postponed 2020 concern large body existing code could easily forward-ported Python 3 . No security patch improvement released . Currently 3.7 later supported . In 2021 , Python 3.9.2 3.8.8 expedited version Python ( including 2.7 ) security issue leading possible remote code execution web cache poisoning.In 2022 , Python 3.10.4 3.9.12 expedited 3.8.13 , 3.7.13 , many security issue . When Python 3.9.13 released May 2022 , announced 3.9 series ( joining older series 3.8 3.7 ) would receive security fix future . On September 7 , 2022 , four new release made due potential denial-of-service attack : 3.10.7 , 3.9.14 , 3.8.14 , 3.7.14.As November 2022 , Python 3.11 stable release . Notable change 3.10 include increased program execution speed improved error reporting . == Design philosophy feature == Python multi-paradigm programming language . Object-oriented programming structured programming fully supported , many feature support functional programming aspect-oriented programming ( including metaprogramming metaobjects ) . Many paradigm supported via extension , including design contract logic programming.Python us dynamic typing combination reference counting cycle-detecting garbage collector memory management . It us dynamic name resolution ( late binding ) , bind method variable name program execution . Its design offer support functional programming Lisp tradition . It filter , mapandreduce function ; list comprehension , dictionary , set , generator expression . The standard library two module ( itertools functools ) implement functional tool borrowed Haskell Standard ML.Its core philosophy summarized document The Zen Python ( PEP 20 ) , includes aphorism : Beautiful better ugly . Explicit better implicit . Simple better complex . Complex better complicated . Readability counts.Rather building functionality core , Python designed highly extensible via module . This compact modularity made particularly popular mean adding programmable interface existing application . Van Rossum 's vision small core language large standard library easily extensible interpreter stemmed frustration ABC , espoused opposite approach.Python strives simpler , less-cluttered syntax grammar giving developer choice coding methodology . In contrast Perl 's `` one way '' motto , Python embrace `` one—and preferably one—obvious way '' philosophy . Alex Martelli , Fellow Python Software Foundation Python book author , wrote : `` To describe something 'clever ' considered compliment Python culture . `` Python 's developer strive avoid premature optimization reject patch non-critical part CPython reference implementation would offer marginal increase speed cost clarity . When speed important , Python programmer move time-critical function extension module written language C ; use PyPy , just-in-time compiler . Cython also available , translates Python script C make direct C-level API call Python interpreter . Python 's developer aim fun use . This reflected name—a tribute British comedy group Monty Python—and occasionally playful approach tutorial reference material , use term `` spam '' `` egg '' ( reference Monty Python sketch ) example , instead often-used `` foo '' `` bar '' .A common neologism Python community pythonic , wide range meaning related program style . `` Pythonic '' code may use Python idiom well , natural show fluency language , conform Python 's minimalist philosophy emphasis readability . Code difficult understand read like rough transcription another programming language called unpythonic . == Syntax semantics == Python meant easily readable language . Its formatting visually uncluttered often us English keywords language use punctuation . Unlike many language , use curly bracket delimit block , semicolon statement allowed rarely used . It fewer syntactic exception special case C Pascal . === Indentation === Python us whitespace indentation , rather curly bracket keywords , delimit block . An increase indentation come certain statement ; decrease indentation signifies end current block . Thus , program 's visual structure accurately represents semantic structure . This feature sometimes termed off-side rule . Some language use indentation way ; , indentation semantic meaning . The recommended indent size four space . === Statements control flow === Python 's statement include : The assignment statement , using single equal sign = The statement , conditionally executes block code , along else elif ( contraction else-if ) The statement , iterates iterable object , capturing element local variable use attached block The statement , executes block code long condition true The try statement , allows exception raised attached code block caught handled except clause ( new syntax except * Python 3.11 exception group ) ; also ensures clean-up code finally block always run regardless block exit The raise statement , used raise specified exception re-raise caught exception The class statement , executes block code attache local namespace class , use object-oriented programming The def statement , defines function method The statement , encloses code block within context manager ( example , acquiring lock run , releasing lock ; opening closing file ) , allowing resource-acquisition-is-initialization ( RAII ) -like behavior replacing common try/finally idiom The break statement , exit loop The continue statement , skip rest current iteration continues next The del statement , remove variable—deleting reference name value , producing error variable referred redefined The pas statement , serving NOP , syntactically needed create empty code block The assert statement , used debugging check condition apply The yield statement , return value generator function ( also operator ) ; used implement coroutines The return statement , used return value function The import statement , used import module whose function variable used current programThe assignment statement ( = ) bind name reference separate , dynamically allocated object . Variables may subsequently rebound time object . In Python , variable name generic reference holder without fixed data type ; however , always refers object type . This called dynamic typing—in contrast statically-typed language , variable may contain value certain type . Python support tail call optimization first-class continuation , , according Van Rossum , never . However , better support coroutine-like functionality provided extending Python 's generator . Before 2.5 , generator lazy iterators ; data passed unidirectionally generator . From Python 2.5 , possible pas data back generator function ; version 3.3 , passed multiple stack level . === Expressions === Python 's expression include : The + , - , * operator mathematical addition , subtraction , multiplication similar language , behavior division differs . There two type division Python : floor division ( integer division ) // floating-point/division . Python us * * operator exponentiation . Python us + operator string concatenation . Python us * operator duplicating string specified number time . The @ infix operator . It intended used library NumPy matrix multiplication . The syntax : = , called `` walrus operator '' , introduced Python 3.8 . It assigns value variable part larger expression . In Python , == compare value . Python 's operator may used compare object identity ( comparison reference ) , comparison may chained—for example , < = b < = c. Python us , , boolean operator . Python type expression called list comprehension , well general expression called generator expression . Anonymous function implemented using lambda expression ; however , may one expression body . Conditional expression written x c else ( different order operand c ? x : operator common many language ) . Python make distinction list tuples . Lists written [ 1 , 2 , 3 ] , mutable , used key dictionary ( dictionary key must immutable Python ) . Tuples , written ( 1 , 2 , 3 ) , immutable thus used key dictionary , provided tuple 's element immutable . The + operator used concatenate two tuples , directly modify content , produce new tuple containing element . Thus , given variable initially equal ( 1 , 2 , 3 ) , executing = + ( 4 , 5 ) first evaluates + ( 4 , 5 ) , yield ( 1 , 2 , 3 , 4 , 5 ) , assigned back t—thereby effectively `` modifying content '' conforming immutable nature tuple object . Parentheses optional tuples unambiguous context . Python feature sequence unpacking multiple expression , evaluating anything assigned ( variable , writable property , etc . ) associated identical manner forming tuple literals—and , whole , put left-hand side equal sign assignment statement . The statement expects iterable object right-hand side equal sign produce number value provided writable expression ; iterated , assigns produced value corresponding expression left . Python `` string format '' operator % function analogously printf format string C—e.g . `` spam= % eggs= % '' % ( `` blah '' , 2 ) evaluates `` spam=blah eggs=2 '' . In Python 2.6+ 3+ , supplemented format ( ) method str class , e.g . `` spam= { 0 } eggs= { 1 } '' .format ( `` blah '' , 2 ) . Python 3.6 added `` f-strings '' : spam = `` blah '' ; egg = 2 ; f'spam= { spam } eggs= { egg } ' . Strings Python concatenated `` adding '' ( operator adding integer float ) , e.g . `` spam '' + `` egg '' return `` spameggs '' . If string contain number , added string rather integer , e.g . `` 2 '' + `` 2 '' return `` 22 '' . Python various string literal : Delimited single double quote mark ; unlike Unix shell , Perl , Perl-influenced language , single double quote mark work . Both use backslash ( \\\\ ) escape character . String interpolation became available Python 3.6 `` formatted string literal '' . Triple-quoted ( beginning ending three single double quote mark ) , may span multiple line function like document shell , Perl , Ruby . Raw string variety , denoted prefixing string literal r. Escape sequence interpreted ; hence raw string useful literal backslashes common , regular expression Windows-style path . ( Compare `` @ -quoting '' C # . ) Python array index array slicing expression list , denoted [ key ] , [ start : stop ] [ start : stop : step ] . Indexes zero-based , negative index relative end . Slices take element start index , including , stop index . The third slice parameter called step stride , allows element skipped reversed . Slice index may omitted—for example , [ : ] return copy entire list . Each element slice shallow copy.In Python , distinction expression statement rigidly enforced , contrast language Common Lisp , Scheme , Ruby . This lead duplicating functionality . For example : List comprehension vs. for-loops Conditional expression vs. block The eval ( ) vs. exec ( ) built-in function ( Python 2 , exec statement ) ; former expression , latter statementsStatements part expression—so list comprehension lambda expression , expression , contain statement . A particular case assignment statement = 1 form part conditional expression conditional statement . This advantage avoiding classic C error mistaking assignment operator = equality operator == condition : ( c = 1 ) { ... } syntactically valid ( probably unintended ) C code , c = 1 : ... cause syntax error Python . === Methods === Methods object function attached object 's class ; syntax instance.method ( argument ) , normal method function , syntactic sugar Class.method ( instance , argument ) . Python method explicit self parameter access instance data , contrast implicit self ( ) object-oriented programming language ( e.g. , C++ , Java , Objective-C , Ruby ) . Python also provides method , often called dunder method ( due name beginning ending double-underscores ) , allow user-defined class modify handled native operation including length , comparison , arithmetic operation type conversion . === Typing === Python us duck typing typed object untyped variable name . Type constraint checked compile time ; rather , operation object may fail , signifying suitable type . Despite dynamically typed , Python strongly typed , forbidding operation well-defined ( example , adding number string ) rather silently attempting make sense . Python allows programmer define type using class , often used object-oriented programming . New instance class constructed calling class ( example , SpamClass ( ) EggsClass ( ) ) , class instance metaclass type ( instance ) , allowing metaprogramming reflection . Before version 3.0 , Python two kind class ( using syntax ) : old-style new-style , current Python version support semantics new style . Python support gradual typing . Python 's syntax allows specifying static type , checked default implementation , CPython . An experimental optional static type-checker , mypy , support compile-time type checking . === Arithmetic operation === Python usual symbol arithmetic operator ( + , - , * , / ) , floor division operator // modulo operation % ( remainder negative , e.g . 4 % -3 == -2 ) . It also * * exponentiation , e.g . 5 * * 3 == 125 9 * * 0.5 == 3.0 , matrix‑multiplication operator @ . These operator work like traditional math ; precedence rule , operator infix ( + - also unary represent positive negative number respectively ) . The division integer produce floating-point result . The behavior division changed significantly time : Current Python ( i.e . since 3.0 ) changed / always floating-point division , e.g . 5/2 == 2.5 . The floor division // operator introduced . So 7//3 == 2 , -7//3 == -3 , 7.5//3 == 2.0 -7.5//3 == -3.0 . Adding __future__ import division cause module used Python 2.7 use Python 3.0 rule division ( see ) .In Python term , / true division ( simply division ) , // floor division . / version 3.0 classic division.Rounding towards negative infinity , though different language , add consistency . For instance , mean equation ( + b ) //b == a//b + 1 always true . It also mean equation b * ( a//b ) + % b == valid positive negative value . However , maintaining validity equation mean result % b , expected , half-open interval [ 0 , b ) , b positive integer , lie interval ( b , 0 ] b negative.Python provides round function rounding float nearest integer . For tie-breaking , Python 3 us round even : round ( 1.5 ) round ( 2.5 ) produce 2 . Versions 3 used round-away-from-zero : round ( 0.5 ) 1.0 , round ( -0.5 ) −1.0.Python allows boolean expression multiple equality relation manner consistent general use mathematics . For example , expression < b < c test whether le b b le c. C-derived language interpret expression differently : C , expression would first evaluate < b , resulting 0 1 , result would compared c.Python us arbitrary-precision arithmetic integer operation . The Decimal type/class decimal module provides decimal floating-point number pre-defined arbitrary precision several rounding mode . The Fraction class fraction module provides arbitrary precision rational numbers.Due Python 's extensive mathematics library , third-party library NumPy extends native capability , frequently used scientific scripting language aid problem numerical data processing manipulation . == Programming example == Hello world program : Program calculate factorial positive integer : == Libraries == Python 's large standard library provides tool suited many task commonly cited one greatest strength . For Internet-facing application , many standard format protocol MIME HTTP supported . It includes module creating graphical user interface , connecting relational database , generating pseudorandom number , arithmetic arbitrary-precision decimal , manipulating regular expression , unit testing . Some part standard library covered specifications—for example , Web Server Gateway Interface ( WSGI ) implementation wsgiref follows PEP 333—but specified code , internal documentation , test suite . However , standard library cross-platform Python code , module need altering rewriting variant implementation . As 14 November 2022 , Python Package Index ( PyPI ) , official repository third-party Python software , contains 415,000 package wide range functionality , including : == Development environment == Most Python implementation ( including CPython ) include read–eval–print loop ( REPL ) , permitting function command line interpreter user enter statement sequentially receive result immediately . Python also come Integrated development environment ( IDE ) called IDLE , beginner-oriented . Other shell , including IDLE IPython , add ability improved auto-completion , session state retention , syntax highlighting . As well standard desktop integrated development environment , Web browser-based IDEs , including SageMath , developing science- math-related program ; PythonAnywhere , browser-based IDE hosting environment ; Canopy IDE , commercial IDE emphasizing scientific computing . == Implementations == === Reference implementation === CPython reference implementation Python . It written C , meeting C89 standard ( Python 3.11 us C11 ) several select C99 feature . CPython includes C extension , third-party extension limited older C versions—e.g . implemented C11 C++ . ) It compiles Python program intermediate bytecode executed virtual machine . CPython distributed large standard library written mixture C native Python , available many platform , including Windows ( starting Python 3.9 , Python installer deliberately fails install Windows 7 8 ; Windows XP supported Python 3.5 ) modern Unix-like system , including macOS ( Apple M1 Macs , since Python 3.9.1 , experimental installer ) unofficial support e.g . VMS . Platform portability one earliest priority . ( During Python 1 2 development , even OS/2 Solaris supported , support since dropped many platform . ) === Other implementation === PyPy fast , compliant interpreter Python 2.7 3.8 . Its just-in-time compiler often brings significant speed improvement CPython library written C used . Stackless Python significant fork CPython implement microthreads ; use call stack way , thus allowing massively concurrent program . PyPy also stackless version . MicroPython CircuitPython Python 3 variant optimized microcontrollers , including Lego Mindstorms EV3 . Pyston variant Python runtime us just-in-time compilation speed execution Python program . Cinder performance-oriented fork CPython 3.8 contains number optimization including bytecode inline caching , eager evaluation coroutines , method-at-a-time JIT , experimental bytecode compiler . === Unsupported implementation === Other just-in-time Python compiler developed , unsupported : Google began project named Unladen Swallow 2009 , aim speeding Python interpreter fivefold using LLVM , improving multithreading ability scale thousand core , ordinary implementation suffer global interpreter lock . Psyco discontinued just-in-time specializing compiler integrates CPython transforms bytecode machine code runtime . The emitted code specialized certain data type faster standard Python code . Psyco support Python 2.7 later . PyS60 Python 2 interpreter Series 60 mobile phone released Nokia 2005 . It implemented many module standard library additional module integrating Symbian operating system . The Nokia N900 also support Python GTK widget library , enabling program written run target device . === Cross-compilers language === There several compiler high-level object language , either unrestricted Python , restricted subset Python , language similar Python source language : Brython , Transcrypt Pyjs ( latest release 2012 ) compile Python JavaScript . Cython compiles ( superset ) Python C ( resulting code also usable Python also e.g . C++ ) . Nuitka compiles Python C. Numba us LLVM compile subset Python machine code . Pythran compiles subset Python 3 C++ ( C++11 ) . RPython compiled C , used build PyPy interpreter Python . The Python → 11l → C++ transpiler compiles subset Python 3 C++ ( C++17 ) .Specialized : MyHDL Python-based hardware description language ( HDL ) , convert MyHDL code Verilog VHDL code.Older project ( used Python 3.x latest syntax ) : Google 's Grumpy ( latest release 2017 ) transpiles Python 2 Go . IronPython allows running Python 2.7 program ( alpha , released 2021 , also available `` Python 3.4 , although feature behavior later version may included '' ) .NET Common Language Runtime . Jython compiles Python 2.7 Java bytecode , allowing use Java library Python program . Pyrex ( latest release 2010 ) Shed Skin ( latest release 2013 ) compile C C++ respectively . === Performance === Performance comparison various Python implementation non-numerical ( combinatorial ) workload presented EuroSciPy '13 . Python 's performance compared programming language also benchmarked The Computer Language Benchmarks Game . == Development == Python 's development conducted largely Python Enhancement Proposal ( PEP ) process , primary mechanism proposing major new feature , collecting community input issue , documenting Python design decision . Python coding style covered PEP 8 . Outstanding PEPs reviewed commented Python community steering council.Enhancement language corresponds development CPython reference implementation . The mailing list python-dev primary forum language 's development . Specific issue originally discussed Roundup bug tracker hosted foundation . In 2022 , issue discussion migrated GitHub . Development originally took place self-hosted source-code repository running Mercurial , Python moved GitHub January 2017.CPython 's public release come three type , distinguished part version number incremented : Backward-incompatible version , code expected break need manually ported . The first part version number incremented . These release happen infrequently—version 3.0 released 8 year 2.0 . According Guido van Rossum , version 4.0 unlikely ever happen . Major `` feature '' release largely compatible previous version introduce new feature . The second part version number incremented . Starting Python 3.9 , release expected happen annually . Each major version supported bug fix several year release . Bugfix release , introduce new feature , occur every 3 month made sufficient number bug fixed upstream since last release . Security vulnerability also patched release . The third final part version number incremented.Many alpha , beta , release-candidates also released preview testing final release . Although rough schedule release , often delayed code ready . Python 's development team monitor state code running large unit test suite development.The major academic conference Python PyCon . There also special Python mentoring program , Pyladies . Python 3.10 deprecated wstr ( removed Python 3.12 ; meaning Python extension need modified ) , added pattern matching language . == API documentation generator == Tools generate documentation Python API include pydoc ( available part standard library ) , Sphinx , Pdoc fork , Doxygen Graphviz , among others . == Naming == Python 's name derived British comedy group Monty Python , Python creator Guido van Rossum enjoyed developing language . Monty Python reference appear frequently Python code culture ; example , metasyntactic variable often used Python literature spam egg instead traditional foo bar . The official Python documentation also contains various reference Monty Python routines.The prefix Py- used show something related Python . Examples use prefix name Python application library include Pygame , binding SDL Python ( commonly used create game ) ; PyQt PyGTK , bind Qt GTK Python respectively ; PyPy , Python implementation originally written Python . == Popularity == Since 2003 , Python consistently ranked top ten popular programming language TIOBE Programming Community Index December 2022 popular language ( ahead C , C++ , Java ) . It selected Programming Language Year ( `` highest rise rating year '' ) 2007 , 2010 , 2018 , 2020 ( language done four time 2020 ) . An empirical study found scripting language , Python , productive conventional language , C Java , programming problem involving string manipulation search dictionary , determined memory consumption often `` better Java much worse C C++ '' .Large organization use Python include Wikipedia , Google , Yahoo ! , CERN , NASA , Facebook , Amazon , Instagram , Spotify , smaller entity like ILM ITA . The social news networking site Reddit written mostly Python . == Uses == Python serve scripting language web application , e.g. , via mod_wsgi Apache webserver . With Web Server Gateway Interface , standard API evolved facilitate application . Web framework like Django , Pylons , Pyramid , TurboGears , web2py , Tornado , Flask , Bottle , Zope support developer design maintenance complex application . Pyjs IronPython used develop client-side Ajax-based application . SQLAlchemy used data mapper relational database . Twisted framework program communication computer , used ( example ) Dropbox . Libraries NumPy , SciPy , Matplotlib allow effective use Python scientific computing , specialized library Biopython Astropy providing domain-specific functionality . SageMath computer algebra system notebook interface programmable Python : library cover many aspect mathematics , including algebra , combinatorics , numerical mathematics , number theory , calculus . OpenCV Python binding rich set feature computer vision image processing.Python commonly used artificial intelligence project machine learning project help library like TensorFlow , Keras , Pytorch , scikit-learn . As scripting language modular architecture , simple syntax , rich text processing tool , Python often used natural language processing.Python also used Graphical User Interface ( GUI ) using library like Tkinter.Python also used create game , library Pygame , make 2D game . Python successfully embedded many software product scripting language , including finite element method software Abaqus , 3D parametric modeler like FreeCAD , 3D animation package 3d Max , Blender , Cinema 4D , Lightwave , Houdini , Maya , modo , MotionBuilder , Softimage , visual effect compositor Nuke , 2D imaging program like GIMP , Inkscape , Scribus Paint Shop Pro , musical notation program like scorewriter capella . GNU Debugger us Python pretty printer show complex structure C++ container . Esri promotes Python best choice writing script ArcGIS . It also used several video game , adopted first three available programming language Google App Engine , two Java Go.Many operating system include Python standard component . It ship Linux distribution , AmigaOS 4 ( using Python 2.7 ) , FreeBSD ( package ) , NetBSD , OpenBSD ( package ) used command line ( terminal ) . Many Linux distribution use installers written Python : Ubuntu us Ubiquity installer , Red Hat Linux Fedora Linux use Anaconda installer . Gentoo Linux us Python package management system , Portage . Python used extensively information security industry , including exploit development.Most Sugar software One Laptop per Child XO , developed Sugar Labs since 2008 , written Python . The Raspberry Pi single-board computer project adopted Python main user-programming language . LibreOffice includes Python intends replace Java Python . Its Python Scripting Provider core feature since Version 4.0 7 February 2013 . == Languages influenced Python == Python 's design philosophy influenced many programming language : Boo us indentation , similar syntax , similar object model . Cobra us indentation similar syntax , Acknowledgements document list Python first among language influenced . CoffeeScript , programming language cross-compiles JavaScript , Python-inspired syntax . ECMAScript/JavaScript borrowed iterators generator Python . GDScript , scripting language similar Python , built-in Godot game engine . Go designed `` speed working dynamic language like Python '' share syntax slicing array . Groovy motivated desire bring Python design philosophy Java . Julia designed `` usable general programming Python '' . Mojo currently non-strict ( aim strict ) superset Python ( e.g . still missing class , adding e.g . struct ) , 35,000x faster code ( mandelbrot , since embarrassingly parallel ) , static typing help ( MLIR 's implemented ) , e.g . 4000x faster matrix multiply . It 's yet open-sourced , 's plan . Nim us indentation similar syntax . Ruby 's creator , Yukihiro Matsumoto , said : `` I wanted scripting language powerful Perl , object-oriented Python . That 's I decided design language . '' Swift , programming language developed Apple , Python-inspired syntax.Python 's development practice also emulated language . For example , practice requiring document describing rationale , issue surrounding , change language ( Python , PEP ) also used Tcl , Erlang , Swift . == See also == Python syntax semantics pip ( package manager ) List programming language History programming language Comparison programming language == References == === Sources === '' Python Artificial Intelligence '' . Wiki.python.org . 19 July 2012 . Archived original 1 November 2012 . Retrieved 3 December 2012 . Paine , Jocelyn , ed . ( August 2005 ) . `` AI Python '' . AI Expert Newsletter . Amzi ! . Archived original 26 March 2012 . Retrieved 11 February 2012 . `` PyAIML 0.8.5 : Python Package Index '' . Pypi.python.org . Retrieved 17 July 2013 . Russell , Stuart J . & Norvig , Peter ( 2009 ) . Artificial Intelligence : A Modern Approach ( 3rd ed. ) . Upper Saddle River , NJ : Prentice Hall . ISBN 978-0-13-604259-4 . == Further reading == Downey , Allen B . ( May 2012 ) . Think Python : How Think Like Computer Scientist ( version 1.6.6 ed. ) . ISBN 978-0-521-72596-5 . Hamilton , Naomi ( 5 August 2008 ) . `` The A-Z Programming Languages : Python '' . Computerworld . Archived original 29 December 2008 . Retrieved 31 March 2010 . Lutz , Mark ( 2013 ) . Learning Python ( 5th ed. ) . O'Reilly Media . ISBN 978-0-596-15806-4 . Summerfield , Mark ( 2009 ) . Programming Python 3 ( 2nd ed. ) . Addison-Wesley Professional . ISBN 978-0-321-68056-3 . Ramalho , Luciano ( May 2022 ) . Fluent Python ( 2nd ed. ) . O'Reilly Media . ISBN 978-1-4920-5632-4 . == External link == Official website\""
            ],
            "application/vnd.google.colaboratory.intrinsic+json": {
              "type": "string"
            }
          },
          "metadata": {},
          "execution_count": 69
        }
      ]
    },
    {
      "cell_type": "markdown",
      "source": [
        "## Chunk the text dataset"
      ],
      "metadata": {
        "id": "vGDMH7hIayYE"
      }
    },
    {
      "cell_type": "code",
      "source": [
        "def chunk_text(text, chunk_size):\n",
        "    words = text.split()\n",
        "    chunks = [' '.join(words[i:i+chunk_size]) for i in range(0, len(words), chunk_size)]\n",
        "    return chunks"
      ],
      "metadata": {
        "id": "GDJnfOCRXi6o"
      },
      "execution_count": 70,
      "outputs": []
    },
    {
      "cell_type": "code",
      "source": [
        "chunks_text = chunk_text(clean_text, chunk_size=200)  # adjust chunk_size as needed"
      ],
      "metadata": {
        "id": "M3w8ziT8bUA0"
      },
      "execution_count": 71,
      "outputs": []
    },
    {
      "cell_type": "code",
      "source": [
        "chunks_text"
      ],
      "metadata": {
        "colab": {
          "base_uri": "https://localhost:8080/"
        },
        "id": "2GYHYhR_beZp",
        "outputId": "9d7aa94c-63f6-4040-cd11-d6b9cc8485c0"
      },
      "execution_count": 72,
      "outputs": [
        {
          "output_type": "execute_result",
          "data": {
            "text/plain": [
              "[\"Python high-level , general-purpose programming language . Its design philosophy emphasizes code readability use significant indentation via off-side rule.Python dynamically typed garbage-collected . It support multiple programming paradigm , including structured ( particularly procedural ) , object-oriented functional programming . It often described `` battery included '' language due comprehensive standard library.Guido van Rossum began working Python late 1980s successor ABC programming language first released 1991 Python 0.9.0 . Python 2.0 released 2000 . Python 3.0 , released 2008 , major revision completely backward-compatible earlier version . Python 2.7.18 , released 2020 , last release Python 2.Python consistently rank one popular programming language . Python user colloquially called pythonistas . == History == Python conceived late 1980s Guido van Rossum Centrum Wiskunde & Informatica ( CWI ) Netherlands successor ABC programming language , inspired SETL , capable exception handling interfacing Amoeba operating system . Its implementation began December 1989 . Van Rossum shouldered sole responsibility project , lead developer , 12 July 2018 , announced `` permanent vacation '' responsibility Python 's `` benevolent dictator life '' , title Python community bestowed upon reflect long-term commitment project 's chief decision-maker . In January 2019 , active Python core developer elected\",\n",
              " \"five-member Steering Council lead project.Python 2.0 released 16 October 2000 , many major new feature list comprehension , cycle-detecting garbage collection , reference counting , Unicode support . Python 3.0 , released 3 December 2008 , many major feature backported Python 2.6.x 2.7.x . Releases Python 3 include 2to3 utility , automates translation Python 2 code Python 3.Python 2.7 's end-of-life initially set 2015 , postponed 2020 concern large body existing code could easily forward-ported Python 3 . No security patch improvement released . Currently 3.7 later supported . In 2021 , Python 3.9.2 3.8.8 expedited version Python ( including 2.7 ) security issue leading possible remote code execution web cache poisoning.In 2022 , Python 3.10.4 3.9.12 expedited 3.8.13 , 3.7.13 , many security issue . When Python 3.9.13 released May 2022 , announced 3.9 series ( joining older series 3.8 3.7 ) would receive security fix future . On September 7 , 2022 , four new release made due potential denial-of-service attack : 3.10.7 , 3.9.14 , 3.8.14 , 3.7.14.As November 2022 , Python 3.11 stable release . Notable change 3.10 include increased program execution speed improved error reporting . == Design philosophy feature == Python multi-paradigm programming language\",\n",
              " \". Object-oriented programming structured programming fully supported , many feature support functional programming aspect-oriented programming ( including metaprogramming metaobjects ) . Many paradigm supported via extension , including design contract logic programming.Python us dynamic typing combination reference counting cycle-detecting garbage collector memory management . It us dynamic name resolution ( late binding ) , bind method variable name program execution . Its design offer support functional programming Lisp tradition . It filter , mapandreduce function ; list comprehension , dictionary , set , generator expression . The standard library two module ( itertools functools ) implement functional tool borrowed Haskell Standard ML.Its core philosophy summarized document The Zen Python ( PEP 20 ) , includes aphorism : Beautiful better ugly . Explicit better implicit . Simple better complex . Complex better complicated . Readability counts.Rather building functionality core , Python designed highly extensible via module . This compact modularity made particularly popular mean adding programmable interface existing application . Van Rossum 's vision small core language large standard library easily extensible interpreter stemmed frustration ABC , espoused opposite approach.Python strives simpler , less-cluttered syntax grammar giving developer choice coding methodology . In contrast Perl 's `` one way '' motto\",\n",
              " \", Python embrace `` one—and preferably one—obvious way '' philosophy . Alex Martelli , Fellow Python Software Foundation Python book author , wrote : `` To describe something 'clever ' considered compliment Python culture . `` Python 's developer strive avoid premature optimization reject patch non-critical part CPython reference implementation would offer marginal increase speed cost clarity . When speed important , Python programmer move time-critical function extension module written language C ; use PyPy , just-in-time compiler . Cython also available , translates Python script C make direct C-level API call Python interpreter . Python 's developer aim fun use . This reflected name—a tribute British comedy group Monty Python—and occasionally playful approach tutorial reference material , use term `` spam '' `` egg '' ( reference Monty Python sketch ) example , instead often-used `` foo '' `` bar '' .A common neologism Python community pythonic , wide range meaning related program style . `` Pythonic '' code may use Python idiom well , natural show fluency language , conform Python 's minimalist philosophy emphasis readability . Code difficult understand read like rough transcription another programming language called unpythonic . == Syntax semantics == Python meant easily readable\",\n",
              " \"language . Its formatting visually uncluttered often us English keywords language use punctuation . Unlike many language , use curly bracket delimit block , semicolon statement allowed rarely used . It fewer syntactic exception special case C Pascal . === Indentation === Python us whitespace indentation , rather curly bracket keywords , delimit block . An increase indentation come certain statement ; decrease indentation signifies end current block . Thus , program 's visual structure accurately represents semantic structure . This feature sometimes termed off-side rule . Some language use indentation way ; , indentation semantic meaning . The recommended indent size four space . === Statements control flow === Python 's statement include : The assignment statement , using single equal sign = The statement , conditionally executes block code , along else elif ( contraction else-if ) The statement , iterates iterable object , capturing element local variable use attached block The statement , executes block code long condition true The try statement , allows exception raised attached code block caught handled except clause ( new syntax except * Python 3.11 exception group ) ; also ensures clean-up code finally block always run regardless block exit The raise\",\n",
              " 'statement , used raise specified exception re-raise caught exception The class statement , executes block code attache local namespace class , use object-oriented programming The def statement , defines function method The statement , encloses code block within context manager ( example , acquiring lock run , releasing lock ; opening closing file ) , allowing resource-acquisition-is-initialization ( RAII ) -like behavior replacing common try/finally idiom The break statement , exit loop The continue statement , skip rest current iteration continues next The del statement , remove variable—deleting reference name value , producing error variable referred redefined The pas statement , serving NOP , syntactically needed create empty code block The assert statement , used debugging check condition apply The yield statement , return value generator function ( also operator ) ; used implement coroutines The return statement , used return value function The import statement , used import module whose function variable used current programThe assignment statement ( = ) bind name reference separate , dynamically allocated object . Variables may subsequently rebound time object . In Python , variable name generic reference holder without fixed data type ; however , always refers object type . This called dynamic',\n",
              " \"typing—in contrast statically-typed language , variable may contain value certain type . Python support tail call optimization first-class continuation , , according Van Rossum , never . However , better support coroutine-like functionality provided extending Python 's generator . Before 2.5 , generator lazy iterators ; data passed unidirectionally generator . From Python 2.5 , possible pas data back generator function ; version 3.3 , passed multiple stack level . === Expressions === Python 's expression include : The + , - , * operator mathematical addition , subtraction , multiplication similar language , behavior division differs . There two type division Python : floor division ( integer division ) // floating-point/division . Python us * * operator exponentiation . Python us + operator string concatenation . Python us * operator duplicating string specified number time . The @ infix operator . It intended used library NumPy matrix multiplication . The syntax : = , called `` walrus operator '' , introduced Python 3.8 . It assigns value variable part larger expression . In Python , == compare value . Python 's operator may used compare object identity ( comparison reference ) , comparison may chained—for example , < =\",\n",
              " \"b < = c. Python us , , boolean operator . Python type expression called list comprehension , well general expression called generator expression . Anonymous function implemented using lambda expression ; however , may one expression body . Conditional expression written x c else ( different order operand c ? x : operator common many language ) . Python make distinction list tuples . Lists written [ 1 , 2 , 3 ] , mutable , used key dictionary ( dictionary key must immutable Python ) . Tuples , written ( 1 , 2 , 3 ) , immutable thus used key dictionary , provided tuple 's element immutable . The + operator used concatenate two tuples , directly modify content , produce new tuple containing element . Thus , given variable initially equal ( 1 , 2 , 3 ) , executing = + ( 4 , 5 ) first evaluates + ( 4 , 5 ) , yield ( 1 , 2 , 3 , 4 , 5 ) , assigned back t—thereby effectively `` modifying content '' conforming immutable nature tuple object . Parentheses optional tuples unambiguous context . Python feature sequence unpacking multiple expression ,\",\n",
              " \"evaluating anything assigned ( variable , writable property , etc . ) associated identical manner forming tuple literals—and , whole , put left-hand side equal sign assignment statement . The statement expects iterable object right-hand side equal sign produce number value provided writable expression ; iterated , assigns produced value corresponding expression left . Python `` string format '' operator % function analogously printf format string C—e.g . `` spam= % eggs= % '' % ( `` blah '' , 2 ) evaluates `` spam=blah eggs=2 '' . In Python 2.6+ 3+ , supplemented format ( ) method str class , e.g . `` spam= { 0 } eggs= { 1 } '' .format ( `` blah '' , 2 ) . Python 3.6 added `` f-strings '' : spam = `` blah '' ; egg = 2 ; f'spam= { spam } eggs= { egg } ' . Strings Python concatenated `` adding '' ( operator adding integer float ) , e.g . `` spam '' + `` egg '' return `` spameggs '' . If string contain number , added string rather integer , e.g . `` 2 '' + `` 2 '' return `` 22 '' .\",\n",
              " \"Python various string literal : Delimited single double quote mark ; unlike Unix shell , Perl , Perl-influenced language , single double quote mark work . Both use backslash ( \\\\ ) escape character . String interpolation became available Python 3.6 `` formatted string literal '' . Triple-quoted ( beginning ending three single double quote mark ) , may span multiple line function like document shell , Perl , Ruby . Raw string variety , denoted prefixing string literal r. Escape sequence interpreted ; hence raw string useful literal backslashes common , regular expression Windows-style path . ( Compare `` @ -quoting '' C # . ) Python array index array slicing expression list , denoted [ key ] , [ start : stop ] [ start : stop : step ] . Indexes zero-based , negative index relative end . Slices take element start index , including , stop index . The third slice parameter called step stride , allows element skipped reversed . Slice index may omitted—for example , [ : ] return copy entire list . Each element slice shallow copy.In Python , distinction expression statement rigidly enforced , contrast language Common Lisp , Scheme , Ruby\",\n",
              " \". This lead duplicating functionality . For example : List comprehension vs. for-loops Conditional expression vs. block The eval ( ) vs. exec ( ) built-in function ( Python 2 , exec statement ) ; former expression , latter statementsStatements part expression—so list comprehension lambda expression , expression , contain statement . A particular case assignment statement = 1 form part conditional expression conditional statement . This advantage avoiding classic C error mistaking assignment operator = equality operator == condition : ( c = 1 ) { ... } syntactically valid ( probably unintended ) C code , c = 1 : ... cause syntax error Python . === Methods === Methods object function attached object 's class ; syntax instance.method ( argument ) , normal method function , syntactic sugar Class.method ( instance , argument ) . Python method explicit self parameter access instance data , contrast implicit self ( ) object-oriented programming language ( e.g. , C++ , Java , Objective-C , Ruby ) . Python also provides method , often called dunder method ( due name beginning ending double-underscores ) , allow user-defined class modify handled native operation including length , comparison , arithmetic operation type conversion\",\n",
              " \". === Typing === Python us duck typing typed object untyped variable name . Type constraint checked compile time ; rather , operation object may fail , signifying suitable type . Despite dynamically typed , Python strongly typed , forbidding operation well-defined ( example , adding number string ) rather silently attempting make sense . Python allows programmer define type using class , often used object-oriented programming . New instance class constructed calling class ( example , SpamClass ( ) EggsClass ( ) ) , class instance metaclass type ( instance ) , allowing metaprogramming reflection . Before version 3.0 , Python two kind class ( using syntax ) : old-style new-style , current Python version support semantics new style . Python support gradual typing . Python 's syntax allows specifying static type , checked default implementation , CPython . An experimental optional static type-checker , mypy , support compile-time type checking . === Arithmetic operation === Python usual symbol arithmetic operator ( + , - , * , / ) , floor division operator // modulo operation % ( remainder negative , e.g . 4 % -3 == -2 ) . It also * * exponentiation , e.g .\",\n",
              " '5 * * 3 == 125 9 * * 0.5 == 3.0 , matrix‑multiplication operator @ . These operator work like traditional math ; precedence rule , operator infix ( + - also unary represent positive negative number respectively ) . The division integer produce floating-point result . The behavior division changed significantly time : Current Python ( i.e . since 3.0 ) changed / always floating-point division , e.g . 5/2 == 2.5 . The floor division // operator introduced . So 7//3 == 2 , -7//3 == -3 , 7.5//3 == 2.0 -7.5//3 == -3.0 . Adding __future__ import division cause module used Python 2.7 use Python 3.0 rule division ( see ) .In Python term , / true division ( simply division ) , // floor division . / version 3.0 classic division.Rounding towards negative infinity , though different language , add consistency . For instance , mean equation ( + b ) //b == a//b + 1 always true . It also mean equation b * ( a//b ) + % b == valid positive negative value . However , maintaining validity equation mean result % b , expected , half-open interval [ 0 , b',\n",
              " \") , b positive integer , lie interval ( b , 0 ] b negative.Python provides round function rounding float nearest integer . For tie-breaking , Python 3 us round even : round ( 1.5 ) round ( 2.5 ) produce 2 . Versions 3 used round-away-from-zero : round ( 0.5 ) 1.0 , round ( -0.5 ) −1.0.Python allows boolean expression multiple equality relation manner consistent general use mathematics . For example , expression < b < c test whether le b b le c. C-derived language interpret expression differently : C , expression would first evaluate < b , resulting 0 1 , result would compared c.Python us arbitrary-precision arithmetic integer operation . The Decimal type/class decimal module provides decimal floating-point number pre-defined arbitrary precision several rounding mode . The Fraction class fraction module provides arbitrary precision rational numbers.Due Python 's extensive mathematics library , third-party library NumPy extends native capability , frequently used scientific scripting language aid problem numerical data processing manipulation . == Programming example == Hello world program : Program calculate factorial positive integer : == Libraries == Python 's large standard library provides tool suited many task commonly cited one greatest strength . For\",\n",
              " 'Internet-facing application , many standard format protocol MIME HTTP supported . It includes module creating graphical user interface , connecting relational database , generating pseudorandom number , arithmetic arbitrary-precision decimal , manipulating regular expression , unit testing . Some part standard library covered specifications—for example , Web Server Gateway Interface ( WSGI ) implementation wsgiref follows PEP 333—but specified code , internal documentation , test suite . However , standard library cross-platform Python code , module need altering rewriting variant implementation . As 14 November 2022 , Python Package Index ( PyPI ) , official repository third-party Python software , contains 415,000 package wide range functionality , including : == Development environment == Most Python implementation ( including CPython ) include read–eval–print loop ( REPL ) , permitting function command line interpreter user enter statement sequentially receive result immediately . Python also come Integrated development environment ( IDE ) called IDLE , beginner-oriented . Other shell , including IDLE IPython , add ability improved auto-completion , session state retention , syntax highlighting . As well standard desktop integrated development environment , Web browser-based IDEs , including SageMath , developing science- math-related program ; PythonAnywhere , browser-based IDE hosting environment ;',\n",
              " 'Canopy IDE , commercial IDE emphasizing scientific computing . == Implementations == === Reference implementation === CPython reference implementation Python . It written C , meeting C89 standard ( Python 3.11 us C11 ) several select C99 feature . CPython includes C extension , third-party extension limited older C versions—e.g . implemented C11 C++ . ) It compiles Python program intermediate bytecode executed virtual machine . CPython distributed large standard library written mixture C native Python , available many platform , including Windows ( starting Python 3.9 , Python installer deliberately fails install Windows 7 8 ; Windows XP supported Python 3.5 ) modern Unix-like system , including macOS ( Apple M1 Macs , since Python 3.9.1 , experimental installer ) unofficial support e.g . VMS . Platform portability one earliest priority . ( During Python 1 2 development , even OS/2 Solaris supported , support since dropped many platform . ) === Other implementation === PyPy fast , compliant interpreter Python 2.7 3.8 . Its just-in-time compiler often brings significant speed improvement CPython library written C used . Stackless Python significant fork CPython implement microthreads ; use call stack way , thus allowing massively concurrent program . PyPy also',\n",
              " 'stackless version . MicroPython CircuitPython Python 3 variant optimized microcontrollers , including Lego Mindstorms EV3 . Pyston variant Python runtime us just-in-time compilation speed execution Python program . Cinder performance-oriented fork CPython 3.8 contains number optimization including bytecode inline caching , eager evaluation coroutines , method-at-a-time JIT , experimental bytecode compiler . === Unsupported implementation === Other just-in-time Python compiler developed , unsupported : Google began project named Unladen Swallow 2009 , aim speeding Python interpreter fivefold using LLVM , improving multithreading ability scale thousand core , ordinary implementation suffer global interpreter lock . Psyco discontinued just-in-time specializing compiler integrates CPython transforms bytecode machine code runtime . The emitted code specialized certain data type faster standard Python code . Psyco support Python 2.7 later . PyS60 Python 2 interpreter Series 60 mobile phone released Nokia 2005 . It implemented many module standard library additional module integrating Symbian operating system . The Nokia N900 also support Python GTK widget library , enabling program written run target device . === Cross-compilers language === There several compiler high-level object language , either unrestricted Python , restricted subset Python , language similar Python source language : Brython , Transcrypt Pyjs ( latest release 2012',\n",
              " \") compile Python JavaScript . Cython compiles ( superset ) Python C ( resulting code also usable Python also e.g . C++ ) . Nuitka compiles Python C. Numba us LLVM compile subset Python machine code . Pythran compiles subset Python 3 C++ ( C++11 ) . RPython compiled C , used build PyPy interpreter Python . The Python → 11l → C++ transpiler compiles subset Python 3 C++ ( C++17 ) .Specialized : MyHDL Python-based hardware description language ( HDL ) , convert MyHDL code Verilog VHDL code.Older project ( used Python 3.x latest syntax ) : Google 's Grumpy ( latest release 2017 ) transpiles Python 2 Go . IronPython allows running Python 2.7 program ( alpha , released 2021 , also available `` Python 3.4 , although feature behavior later version may included '' ) .NET Common Language Runtime . Jython compiles Python 2.7 Java bytecode , allowing use Java library Python program . Pyrex ( latest release 2010 ) Shed Skin ( latest release 2013 ) compile C C++ respectively . === Performance === Performance comparison various Python implementation non-numerical ( combinatorial ) workload presented EuroSciPy '13 . Python 's performance compared programming language also benchmarked\",\n",
              " \"The Computer Language Benchmarks Game . == Development == Python 's development conducted largely Python Enhancement Proposal ( PEP ) process , primary mechanism proposing major new feature , collecting community input issue , documenting Python design decision . Python coding style covered PEP 8 . Outstanding PEPs reviewed commented Python community steering council.Enhancement language corresponds development CPython reference implementation . The mailing list python-dev primary forum language 's development . Specific issue originally discussed Roundup bug tracker hosted foundation . In 2022 , issue discussion migrated GitHub . Development originally took place self-hosted source-code repository running Mercurial , Python moved GitHub January 2017.CPython 's public release come three type , distinguished part version number incremented : Backward-incompatible version , code expected break need manually ported . The first part version number incremented . These release happen infrequently—version 3.0 released 8 year 2.0 . According Guido van Rossum , version 4.0 unlikely ever happen . Major `` feature '' release largely compatible previous version introduce new feature . The second part version number incremented . Starting Python 3.9 , release expected happen annually . Each major version supported bug fix several year release . Bugfix release , introduce new feature\",\n",
              " \", occur every 3 month made sufficient number bug fixed upstream since last release . Security vulnerability also patched release . The third final part version number incremented.Many alpha , beta , release-candidates also released preview testing final release . Although rough schedule release , often delayed code ready . Python 's development team monitor state code running large unit test suite development.The major academic conference Python PyCon . There also special Python mentoring program , Pyladies . Python 3.10 deprecated wstr ( removed Python 3.12 ; meaning Python extension need modified ) , added pattern matching language . == API documentation generator == Tools generate documentation Python API include pydoc ( available part standard library ) , Sphinx , Pdoc fork , Doxygen Graphviz , among others . == Naming == Python 's name derived British comedy group Monty Python , Python creator Guido van Rossum enjoyed developing language . Monty Python reference appear frequently Python code culture ; example , metasyntactic variable often used Python literature spam egg instead traditional foo bar . The official Python documentation also contains various reference Monty Python routines.The prefix Py- used show something related Python . Examples use prefix name Python application\",\n",
              " \"library include Pygame , binding SDL Python ( commonly used create game ) ; PyQt PyGTK , bind Qt GTK Python respectively ; PyPy , Python implementation originally written Python . == Popularity == Since 2003 , Python consistently ranked top ten popular programming language TIOBE Programming Community Index December 2022 popular language ( ahead C , C++ , Java ) . It selected Programming Language Year ( `` highest rise rating year '' ) 2007 , 2010 , 2018 , 2020 ( language done four time 2020 ) . An empirical study found scripting language , Python , productive conventional language , C Java , programming problem involving string manipulation search dictionary , determined memory consumption often `` better Java much worse C C++ '' .Large organization use Python include Wikipedia , Google , Yahoo ! , CERN , NASA , Facebook , Amazon , Instagram , Spotify , smaller entity like ILM ITA . The social news networking site Reddit written mostly Python . == Uses == Python serve scripting language web application , e.g. , via mod_wsgi Apache webserver . With Web Server Gateway Interface , standard API evolved facilitate application . Web framework like Django ,\",\n",
              " 'Pylons , Pyramid , TurboGears , web2py , Tornado , Flask , Bottle , Zope support developer design maintenance complex application . Pyjs IronPython used develop client-side Ajax-based application . SQLAlchemy used data mapper relational database . Twisted framework program communication computer , used ( example ) Dropbox . Libraries NumPy , SciPy , Matplotlib allow effective use Python scientific computing , specialized library Biopython Astropy providing domain-specific functionality . SageMath computer algebra system notebook interface programmable Python : library cover many aspect mathematics , including algebra , combinatorics , numerical mathematics , number theory , calculus . OpenCV Python binding rich set feature computer vision image processing.Python commonly used artificial intelligence project machine learning project help library like TensorFlow , Keras , Pytorch , scikit-learn . As scripting language modular architecture , simple syntax , rich text processing tool , Python often used natural language processing.Python also used Graphical User Interface ( GUI ) using library like Tkinter.Python also used create game , library Pygame , make 2D game . Python successfully embedded many software product scripting language , including finite element method software Abaqus , 3D parametric modeler like FreeCAD , 3D animation package 3d Max , Blender',\n",
              " ', Cinema 4D , Lightwave , Houdini , Maya , modo , MotionBuilder , Softimage , visual effect compositor Nuke , 2D imaging program like GIMP , Inkscape , Scribus Paint Shop Pro , musical notation program like scorewriter capella . GNU Debugger us Python pretty printer show complex structure C++ container . Esri promotes Python best choice writing script ArcGIS . It also used several video game , adopted first three available programming language Google App Engine , two Java Go.Many operating system include Python standard component . It ship Linux distribution , AmigaOS 4 ( using Python 2.7 ) , FreeBSD ( package ) , NetBSD , OpenBSD ( package ) used command line ( terminal ) . Many Linux distribution use installers written Python : Ubuntu us Ubiquity installer , Red Hat Linux Fedora Linux use Anaconda installer . Gentoo Linux us Python package management system , Portage . Python used extensively information security industry , including exploit development.Most Sugar software One Laptop per Child XO , developed Sugar Labs since 2008 , written Python . The Raspberry Pi single-board computer project adopted Python main user-programming language . LibreOffice includes Python intends replace Java Python . Its',\n",
              " \"Python Scripting Provider core feature since Version 4.0 7 February 2013 . == Languages influenced Python == Python 's design philosophy influenced many programming language : Boo us indentation , similar syntax , similar object model . Cobra us indentation similar syntax , Acknowledgements document list Python first among language influenced . CoffeeScript , programming language cross-compiles JavaScript , Python-inspired syntax . ECMAScript/JavaScript borrowed iterators generator Python . GDScript , scripting language similar Python , built-in Godot game engine . Go designed `` speed working dynamic language like Python '' share syntax slicing array . Groovy motivated desire bring Python design philosophy Java . Julia designed `` usable general programming Python '' . Mojo currently non-strict ( aim strict ) superset Python ( e.g . still missing class , adding e.g . struct ) , 35,000x faster code ( mandelbrot , since embarrassingly parallel ) , static typing help ( MLIR 's implemented ) , e.g . 4000x faster matrix multiply . It 's yet open-sourced , 's plan . Nim us indentation similar syntax . Ruby 's creator , Yukihiro Matsumoto , said : `` I wanted scripting language powerful Perl , object-oriented Python . That 's I decided\",\n",
              " \"design language . '' Swift , programming language developed Apple , Python-inspired syntax.Python 's development practice also emulated language . For example , practice requiring document describing rationale , issue surrounding , change language ( Python , PEP ) also used Tcl , Erlang , Swift . == See also == Python syntax semantics pip ( package manager ) List programming language History programming language Comparison programming language == References == === Sources === '' Python Artificial Intelligence '' . Wiki.python.org . 19 July 2012 . Archived original 1 November 2012 . Retrieved 3 December 2012 . Paine , Jocelyn , ed . ( August 2005 ) . `` AI Python '' . AI Expert Newsletter . Amzi ! . Archived original 26 March 2012 . Retrieved 11 February 2012 . `` PyAIML 0.8.5 : Python Package Index '' . Pypi.python.org . Retrieved 17 July 2013 . Russell , Stuart J . & Norvig , Peter ( 2009 ) . Artificial Intelligence : A Modern Approach ( 3rd ed. ) . Upper Saddle River , NJ : Prentice Hall . ISBN 978-0-13-604259-4 . == Further reading == Downey , Allen B . ( May 2012 ) . Think Python :\",\n",
              " \"How Think Like Computer Scientist ( version 1.6.6 ed. ) . ISBN 978-0-521-72596-5 . Hamilton , Naomi ( 5 August 2008 ) . `` The A-Z Programming Languages : Python '' . Computerworld . Archived original 29 December 2008 . Retrieved 31 March 2010 . Lutz , Mark ( 2013 ) . Learning Python ( 5th ed. ) . O'Reilly Media . ISBN 978-0-596-15806-4 . Summerfield , Mark ( 2009 ) . Programming Python 3 ( 2nd ed. ) . Addison-Wesley Professional . ISBN 978-0-321-68056-3 . Ramalho , Luciano ( May 2022 ) . Fluent Python ( 2nd ed. ) . O'Reilly Media . ISBN 978-1-4920-5632-4 . == External link == Official website\"]"
            ]
          },
          "metadata": {},
          "execution_count": 72
        }
      ]
    },
    {
      "cell_type": "markdown",
      "source": [
        "## Its time to call the Summarizer model"
      ],
      "metadata": {
        "id": "TE5p9OE9cRgj"
      }
    },
    {
      "cell_type": "code",
      "source": [
        "!pip install transformers"
      ],
      "metadata": {
        "id": "tLETAeJ5cQ_O"
      },
      "execution_count": null,
      "outputs": []
    },
    {
      "cell_type": "code",
      "source": [
        "from transformers import pipeline\n",
        "\n",
        "summarizer = pipeline('summarization', model=\"t5-base\")\n",
        "\n",
        "def summarize_text(text):\n",
        "    return summarizer(text, max_length=100, min_length=25, do_sample=False)"
      ],
      "metadata": {
        "colab": {
          "base_uri": "https://localhost:8080/"
        },
        "id": "cNy0XnXHcQ7_",
        "outputId": "343a47ab-f766-4ffd-aeeb-071b3ec7c300"
      },
      "execution_count": 74,
      "outputs": [
        {
          "output_type": "stream",
          "name": "stderr",
          "text": [
            "/usr/local/lib/python3.10/dist-packages/transformers/models/t5/tokenization_t5_fast.py:155: FutureWarning: This tokenizer was incorrectly instantiated with a model max length of 512 which will be corrected in Transformers v5.\n",
            "For now, this behavior is kept to avoid breaking backwards compatibility when padding/encoding with `truncation is True`.\n",
            "- Be aware that you SHOULD NOT rely on t5-base automatically truncating your input to 512 when padding/encoding.\n",
            "- If you want to encode/pad to sequences longer than 512 you can either instantiate this tokenizer with `model_max_length` or pass `max_length` when encoding/padding.\n",
            "- To avoid this warning, please instantiate this tokenizer with `model_max_length` set to your preferred value.\n",
            "  warnings.warn(\n"
          ]
        }
      ]
    },
    {
      "cell_type": "code",
      "source": [
        "summaries = []\n",
        "for chunk in chunks_text:\n",
        "    try:\n",
        "        summary = summarizer(chunk, max_length=150, min_length=50, do_sample=False)\n",
        "        summaries.append(summary)\n",
        "    except Exception as e:\n",
        "        print(f\"Error: {str(e)}\")\n",
        "        print(f\"Skipping chunk:\\n{chunk}\\n\")"
      ],
      "metadata": {
        "id": "JPJiolbqcQ5O"
      },
      "execution_count": 49,
      "outputs": []
    },
    {
      "cell_type": "code",
      "source": [
        "# Print summaries\n",
        "for i, summary in enumerate(summaries):\n",
        "    print(f\"Summary {i+1}:\\n{summary[0]['summary_text']}\\n\")"
      ],
      "metadata": {
        "colab": {
          "base_uri": "https://localhost:8080/"
        },
        "id": "q_gr5gy6bgSp",
        "outputId": "fc9b9220-d205-4ce0-e923-f671e6671c1c"
      },
      "execution_count": 50,
      "outputs": [
        {
          "output_type": "stream",
          "name": "stdout",
          "text": [
            "Summary 1:\n",
            "guido van rossum conceived python late 1980s successor abc programming language inspired setl capable exception handling interfacing amoeba operating system implementation began december 1989 . plython 2 0 released 16 october 2000 many major new feature list comprehension cycle detecting garbage collection reference counting unicode support .\n",
            "\n",
            "Summary 2:\n",
            "many major feature backported python 2 6 x 2 7 x release include 2to3 utility automates translation . security patch improvement released currently 3 7 later supported 2021 . many security issue leading possible remote code execution web cache poisoning 2022 .\n",
            "\n",
            "Summary 3:\n",
            "python pep 20 is highly extensible via module compact modularity made particularly popular . aphorisms beautiful better ugly explicit better implicit simple better complex complex better complicated readability count rather than building functionality . developer strive avoid premature optimization reject patch non critical part cpyton reference implementation would offer marginal increase speed cost clarity .\n",
            "\n",
            "Summary 4:\n",
            "python is easily readable language formatting visually uncluttered often us english keywords language use curly bracket delimit block semicolon statement allowed rarely used fewer syntactic exceptions special case c pascal indentation . indent size four space statement controls flow of code along else elif contraction else statement .\n",
            "\n",
            "Summary 5:\n",
            "statement executes block code long condition true try statement allows exception raised attached code block caught handled except clause new syntax except python 3 11 exception group also ensures clean code finally block always run regardless block exit raise statement used raise specified exception raise caught exception class statement encloses code block .\n",
            "\n",
            "Summary 6:\n",
            "python generator 2 5 is a boolean expression that can be used to make distinctions between tuples list written x c else different order operand c x operator mutable used key dictionary dictionary key must be immutable . a lambda expression is used to generate a list of plython expressions based on a set of parameters . the expressions may be a combination of two or more of the following .\n",
            "\n",
            "Summary 7:\n",
            "python 3 6 3 supplemented format method str class e g spam 0 egg 1 format blah 2 f spam egg egg string . tuples written 1 2 3 immutable thus used key dictionary .\n",
            "\n",
            "Summary 8:\n",
            "python 3 6 formatted string literal triple quoted beginning ending three single double quote mark may span multiple line function like unix shell perl perl influenced language . exec statement former expression latter statementsstatements part expression list comprehension lambda expression expression expression contain statement particular case assignment operator equality operator condition c 1 syntactically valid .\n",
            "\n",
            "Summary 9:\n",
            "python allows programmer define type using class often used object oriented programming language . syntax allows specifying static type checked default implementation . support for gradual typing allowing metaprogramming reflection version 3 0 . arithmetic operation type conversion typing .\n",
            "\n",
            "Summary 10:\n",
            "python e since 3 0 changed always floating point division e g 5 2 2 5 floor division operator introduced 7 3 2 7 3 3 7 5 3 2 0 . adding __future__ import division cause module used . arithmetic operator modulo operation remainder negative e.g. 4 3 2 also exponentiation . matrix multiplication operator operator work like traditional math precedence rule operator .\n",
            "\n",
            "Summary 11:\n",
            "python allows boolean expression multiple equality relation manner consistent general use mathematics . arbitrary precision arithmetic integer operation decimal type class decimal module provides decimal floating point number pre defined . mathematical library third party library numpy extends native capability frequently used scientific scripting language aid problem numerical data processing . programming example hello world program program program calculate factorial positive integer .\n",
            "\n",
            "Summary 12:\n",
            "third party python software contains 415 000 package wide range functionality including development environment ide called idle beginner oriented shell including idle ipythion add ability improved auto completion session state retention syntax highlighting well standard desktop integrated development environment web browser based ides including sagemath developing science math related program p.a.m.c. ide emphasizing scientific computing implementation reference implementation cpytheon written c meeting c89 standard . c extension third party extension limited older \n",
            "\n",
            "Summary 13:\n",
            "python 2 7 3 8 time compiler often brings significant speed improvement . google began project named unladen swallow 2009 aim speeding phthon interpreter fivefold using llvm improving multithreading ability scale thousand core ordinary implementation suffer global interpreter lock psyco discontinued time specializing compiler integrates cpytheon transforms bytecode machine code runtime emitted code specialized certain data type faster standard p ys60 mobile phone released nokia 2005 implemented many module standard library\n",
            "\n",
            "Summary 14:\n",
            "python 2 7 program alpha released 2021 also available in a later version . performance comparison largely based on the compiled code . benchmark game development largely conducted largely on the programming language . phdl based hardware description language hddl convert myhdle code verilog vhdla code older project may included .\n",
            "\n",
            "Summary 15:\n",
            "python public release come three type distinguished part version number incremented backward incompatible version code expected break need manually ported version 3 0 released 8 year 2 0 according to guido van rossum version 4 0 unlikely ever happen major feature release largely compatible previous version introduce new feature .\n",
            "\n",
            "Summary 16:\n",
            "python consistently ranked top ten popular programming language tiobe programming community index december 2022 popular language ahead c java selected programming language year highest rise rating year 2007 2010 2018 2020 language done four time 2020 .\n",
            "\n",
            "Summary 17:\n",
            "python is used by many large organizations including wikipedia google yahoo cern nasa facebook amazon instagram spotify ilm ita social news networking site reddit written mostly in the programming language .\n",
            "\n",
            "Summary 18:\n",
            "python successfully embedded many software product scripting language including finite element method software abaqus 3d animation package 3d max blender cinema 4d lightwave houdini maya modo motionbuilder softimage visual effect compositor nuke 2d imaging program like gimp inkscape scribus paint shop pro musical notation program like scorewriter capella gnu debugger . also used several video game adopted first three available programming language google app engine two java go\n",
            "\n",
            "Summary 19:\n",
            "python design philosophy influenced many programming languages boo us indentation similar syntax javascript borrowed iterators generator java script scripting language similar java built godot game engine go designed speed working dynamic language . e g still missing class adding struct 35 000x faster code mandelbrot since embarrassingly parallel static typing help mlir implemented struct 4000x faster matrix multiply .\n",
            "\n",
            "Summary 20:\n",
            "python org retrieved 17 july 2013 russell stuart j norvig peter 2009 artificial intelligence modern approach 3rd ed upper saddle river nj prentice hall isbn 978 0 13 604259 .\n",
            "\n"
          ]
        }
      ]
    },
    {
      "cell_type": "markdown",
      "source": [
        "However, it's important to note that this method might not give you the best results. Since each chunk is summarized individually, the resulting combined summary might lack coherence or context."
      ],
      "metadata": {
        "id": "iQ8ALPGAd5-Q"
      }
    },
    {
      "cell_type": "markdown",
      "source": [
        "For long documents, a better approach might be to use an extractive summarization method to reduce the size of the document first, and then use an abstractive summarization method like BART or T5 to generate the final summary."
      ],
      "metadata": {
        "id": "tszAzMHSeENV"
      }
    },
    {
      "cell_type": "code",
      "source": [
        "!pip install bert-extractive-summarizer"
      ],
      "metadata": {
        "colab": {
          "base_uri": "https://localhost:8080/"
        },
        "id": "tDjEBKTGd2kU",
        "outputId": "7fabfbf4-41ea-4c15-9359-3f71ca92cd0d"
      },
      "execution_count": 75,
      "outputs": [
        {
          "output_type": "stream",
          "name": "stdout",
          "text": [
            "Requirement already satisfied: bert-extractive-summarizer in /usr/local/lib/python3.10/dist-packages (0.10.1)\n",
            "Requirement already satisfied: transformers in /usr/local/lib/python3.10/dist-packages (from bert-extractive-summarizer) (4.30.2)\n",
            "Requirement already satisfied: scikit-learn in /usr/local/lib/python3.10/dist-packages (from bert-extractive-summarizer) (1.2.2)\n",
            "Requirement already satisfied: spacy in /usr/local/lib/python3.10/dist-packages (from bert-extractive-summarizer) (3.5.4)\n",
            "Requirement already satisfied: numpy>=1.17.3 in /usr/local/lib/python3.10/dist-packages (from scikit-learn->bert-extractive-summarizer) (1.22.4)\n",
            "Requirement already satisfied: scipy>=1.3.2 in /usr/local/lib/python3.10/dist-packages (from scikit-learn->bert-extractive-summarizer) (1.10.1)\n",
            "Requirement already satisfied: joblib>=1.1.1 in /usr/local/lib/python3.10/dist-packages (from scikit-learn->bert-extractive-summarizer) (1.3.1)\n",
            "Requirement already satisfied: threadpoolctl>=2.0.0 in /usr/local/lib/python3.10/dist-packages (from scikit-learn->bert-extractive-summarizer) (3.1.0)\n",
            "Requirement already satisfied: spacy-legacy<3.1.0,>=3.0.11 in /usr/local/lib/python3.10/dist-packages (from spacy->bert-extractive-summarizer) (3.0.12)\n",
            "Requirement already satisfied: spacy-loggers<2.0.0,>=1.0.0 in /usr/local/lib/python3.10/dist-packages (from spacy->bert-extractive-summarizer) (1.0.4)\n",
            "Requirement already satisfied: murmurhash<1.1.0,>=0.28.0 in /usr/local/lib/python3.10/dist-packages (from spacy->bert-extractive-summarizer) (1.0.9)\n",
            "Requirement already satisfied: cymem<2.1.0,>=2.0.2 in /usr/local/lib/python3.10/dist-packages (from spacy->bert-extractive-summarizer) (2.0.7)\n",
            "Requirement already satisfied: preshed<3.1.0,>=3.0.2 in /usr/local/lib/python3.10/dist-packages (from spacy->bert-extractive-summarizer) (3.0.8)\n",
            "Requirement already satisfied: thinc<8.2.0,>=8.1.8 in /usr/local/lib/python3.10/dist-packages (from spacy->bert-extractive-summarizer) (8.1.10)\n",
            "Requirement already satisfied: wasabi<1.2.0,>=0.9.1 in /usr/local/lib/python3.10/dist-packages (from spacy->bert-extractive-summarizer) (1.1.2)\n",
            "Requirement already satisfied: srsly<3.0.0,>=2.4.3 in /usr/local/lib/python3.10/dist-packages (from spacy->bert-extractive-summarizer) (2.4.6)\n",
            "Requirement already satisfied: catalogue<2.1.0,>=2.0.6 in /usr/local/lib/python3.10/dist-packages (from spacy->bert-extractive-summarizer) (2.0.8)\n",
            "Requirement already satisfied: typer<0.10.0,>=0.3.0 in /usr/local/lib/python3.10/dist-packages (from spacy->bert-extractive-summarizer) (0.9.0)\n",
            "Requirement already satisfied: pathy>=0.10.0 in /usr/local/lib/python3.10/dist-packages (from spacy->bert-extractive-summarizer) (0.10.2)\n",
            "Requirement already satisfied: smart-open<7.0.0,>=5.2.1 in /usr/local/lib/python3.10/dist-packages (from spacy->bert-extractive-summarizer) (6.3.0)\n",
            "Requirement already satisfied: tqdm<5.0.0,>=4.38.0 in /usr/local/lib/python3.10/dist-packages (from spacy->bert-extractive-summarizer) (4.65.0)\n",
            "Requirement already satisfied: requests<3.0.0,>=2.13.0 in /usr/local/lib/python3.10/dist-packages (from spacy->bert-extractive-summarizer) (2.27.1)\n",
            "Requirement already satisfied: pydantic!=1.8,!=1.8.1,<1.11.0,>=1.7.4 in /usr/local/lib/python3.10/dist-packages (from spacy->bert-extractive-summarizer) (1.10.11)\n",
            "Requirement already satisfied: jinja2 in /usr/local/lib/python3.10/dist-packages (from spacy->bert-extractive-summarizer) (3.1.2)\n",
            "Requirement already satisfied: setuptools in /usr/local/lib/python3.10/dist-packages (from spacy->bert-extractive-summarizer) (67.7.2)\n",
            "Requirement already satisfied: packaging>=20.0 in /usr/local/lib/python3.10/dist-packages (from spacy->bert-extractive-summarizer) (23.1)\n",
            "Requirement already satisfied: langcodes<4.0.0,>=3.2.0 in /usr/local/lib/python3.10/dist-packages (from spacy->bert-extractive-summarizer) (3.3.0)\n",
            "Requirement already satisfied: filelock in /usr/local/lib/python3.10/dist-packages (from transformers->bert-extractive-summarizer) (3.12.2)\n",
            "Requirement already satisfied: huggingface-hub<1.0,>=0.14.1 in /usr/local/lib/python3.10/dist-packages (from transformers->bert-extractive-summarizer) (0.16.4)\n",
            "Requirement already satisfied: pyyaml>=5.1 in /usr/local/lib/python3.10/dist-packages (from transformers->bert-extractive-summarizer) (6.0)\n",
            "Requirement already satisfied: regex!=2019.12.17 in /usr/local/lib/python3.10/dist-packages (from transformers->bert-extractive-summarizer) (2022.10.31)\n",
            "Requirement already satisfied: tokenizers!=0.11.3,<0.14,>=0.11.1 in /usr/local/lib/python3.10/dist-packages (from transformers->bert-extractive-summarizer) (0.13.3)\n",
            "Requirement already satisfied: safetensors>=0.3.1 in /usr/local/lib/python3.10/dist-packages (from transformers->bert-extractive-summarizer) (0.3.1)\n",
            "Requirement already satisfied: fsspec in /usr/local/lib/python3.10/dist-packages (from huggingface-hub<1.0,>=0.14.1->transformers->bert-extractive-summarizer) (2023.6.0)\n",
            "Requirement already satisfied: typing-extensions>=3.7.4.3 in /usr/local/lib/python3.10/dist-packages (from huggingface-hub<1.0,>=0.14.1->transformers->bert-extractive-summarizer) (4.7.1)\n",
            "Requirement already satisfied: urllib3<1.27,>=1.21.1 in /usr/local/lib/python3.10/dist-packages (from requests<3.0.0,>=2.13.0->spacy->bert-extractive-summarizer) (1.26.16)\n",
            "Requirement already satisfied: certifi>=2017.4.17 in /usr/local/lib/python3.10/dist-packages (from requests<3.0.0,>=2.13.0->spacy->bert-extractive-summarizer) (2023.5.7)\n",
            "Requirement already satisfied: charset-normalizer~=2.0.0 in /usr/local/lib/python3.10/dist-packages (from requests<3.0.0,>=2.13.0->spacy->bert-extractive-summarizer) (2.0.12)\n",
            "Requirement already satisfied: idna<4,>=2.5 in /usr/local/lib/python3.10/dist-packages (from requests<3.0.0,>=2.13.0->spacy->bert-extractive-summarizer) (3.4)\n",
            "Requirement already satisfied: blis<0.8.0,>=0.7.8 in /usr/local/lib/python3.10/dist-packages (from thinc<8.2.0,>=8.1.8->spacy->bert-extractive-summarizer) (0.7.9)\n",
            "Requirement already satisfied: confection<1.0.0,>=0.0.1 in /usr/local/lib/python3.10/dist-packages (from thinc<8.2.0,>=8.1.8->spacy->bert-extractive-summarizer) (0.1.0)\n",
            "Requirement already satisfied: click<9.0.0,>=7.1.1 in /usr/local/lib/python3.10/dist-packages (from typer<0.10.0,>=0.3.0->spacy->bert-extractive-summarizer) (8.1.4)\n",
            "Requirement already satisfied: MarkupSafe>=2.0 in /usr/local/lib/python3.10/dist-packages (from jinja2->spacy->bert-extractive-summarizer) (2.1.3)\n"
          ]
        }
      ]
    },
    {
      "cell_type": "code",
      "source": [
        "from summarizer import Summarizer,TransformerSummarizer\n",
        "bert_model = Summarizer()"
      ],
      "metadata": {
        "colab": {
          "base_uri": "https://localhost:8080/"
        },
        "id": "Nw7xAxlSePvh",
        "outputId": "954b7d96-7577-4798-eab7-965761bec608"
      },
      "execution_count": 76,
      "outputs": [
        {
          "output_type": "stream",
          "name": "stderr",
          "text": [
            "Some weights of the model checkpoint at bert-large-uncased were not used when initializing BertModel: ['cls.predictions.transform.dense.weight', 'cls.predictions.transform.dense.bias', 'cls.seq_relationship.bias', 'cls.predictions.transform.LayerNorm.weight', 'cls.predictions.bias', 'cls.predictions.transform.LayerNorm.bias', 'cls.seq_relationship.weight']\n",
            "- This IS expected if you are initializing BertModel from the checkpoint of a model trained on another task or with another architecture (e.g. initializing a BertForSequenceClassification model from a BertForPreTraining model).\n",
            "- This IS NOT expected if you are initializing BertModel from the checkpoint of a model that you expect to be exactly identical (initializing a BertForSequenceClassification model from a BertForSequenceClassification model).\n"
          ]
        }
      ]
    },
    {
      "cell_type": "code",
      "source": [],
      "metadata": {
        "colab": {
          "base_uri": "https://localhost:8080/"
        },
        "id": "I14AZQheeh_9",
        "outputId": "c021f094-4443-4610-e747-b451dd6db7be"
      },
      "execution_count": 59,
      "outputs": [
        {
          "output_type": "execute_result",
          "data": {
            "text/plain": [
              "list"
            ]
          },
          "metadata": {},
          "execution_count": 59
        }
      ]
    },
    {
      "cell_type": "code",
      "source": [
        "bert_summary = ''.join(bert_model(clean_text, min_length=60, max_length=160))"
      ],
      "metadata": {
        "colab": {
          "base_uri": "https://localhost:8080/"
        },
        "id": "3iPwPzt4eUhT",
        "outputId": "10ddad03-5dfb-415d-9193-e47ccc720669"
      },
      "execution_count": 77,
      "outputs": [
        {
          "output_type": "stream",
          "name": "stderr",
          "text": [
            "/usr/local/lib/python3.10/dist-packages/sklearn/cluster/_kmeans.py:870: FutureWarning: The default value of `n_init` will change from 10 to 'auto' in 1.4. Set the value of `n_init` explicitly to suppress the warning\n",
            "  warnings.warn(\n"
          ]
        }
      ]
    },
    {
      "cell_type": "code",
      "source": [
        "bert_summary"
      ],
      "metadata": {
        "colab": {
          "base_uri": "https://localhost:8080/",
          "height": 139
        },
        "id": "S3NPo1dhecFz",
        "outputId": "eb759dab-80ea-4c58-c6e1-e42d6ffcd647"
      },
      "execution_count": 78,
      "outputs": [
        {
          "output_type": "execute_result",
          "data": {
            "text/plain": [
              "\"Its design philosophy emphasizes code readability use significant indentation via off-side rule. Python 3.0 , released 2008 , major revision completely backward-compatible earlier version . In January 2019 , active Python core developer elected five-member Steering Council lead project. Python 3.0 , released 3 December 2008 , many major feature backported Python 2.6.x 2.7.x . In 2022 , Python 3.10.4 3.9.12 expedited 3.8.13 , 3.7.13 , many security issue . Python us dynamic typing combination reference counting cycle-detecting garbage collector memory management . Its design offer support functional programming Lisp tradition . In contrast Perl 's `` one way '' motto , Python embrace `` one—and preferably one—obvious way '' philosophy . When speed important , Python programmer move time-critical function extension module written language C ; use PyPy , just-in-time compiler . Unlike many language , use curly bracket delimit block , semicolon statement allowed rarely used . Thus , program 's visual structure accurately represents semantic structure . In Python 2.6+ 3+ , supplemented format ( ) method str class , e.g . === Typing === Python us duck typing typed object untyped variable name . An experimental optional static type-checker , mypy , support compile-time type checking . Rounding towards negative infinity , though different language , add consistency . For instance , mean equation ( + b ) //b == a//b + 1 always true . For Internet-facing application , many standard format protocol MIME HTTP supported . It written C , meeting C89 standard ( Python 3.11 us C11 ) several select C99 feature . It compiles Python program intermediate bytecode executed virtual machine . Stackless Python significant fork CPython implement microthreads ; use call stack way , thus allowing massively concurrent program . The emitted code specialized certain data type faster standard Python code . Nuitka compiles Python C. Numba us LLVM compile subset Python machine code . Older project ( used Python 3.x latest syntax ) : Google 's Grumpy ( latest release 2017 ) transpiles Python 2 Go . Pyrex ( latest release 2010 ) Shed Skin ( latest release 2013 ) compile C C++ respectively . Major `` feature '' release largely compatible previous version introduce new feature . Many alpha , beta , release-candidates also released preview testing final release . As scripting language modular architecture , simple syntax , rich text processing tool , Python often used natural language processing. The Raspberry Pi single-board computer project adopted Python main user-programming language . Cobra us indentation similar syntax , Acknowledgements document list Python first among language influenced . Go designed `` speed working dynamic language like Python '' share syntax slicing array . For example , practice requiring document describing rationale , issue surrounding , change language ( Python , PEP ) also used Tcl , Erlang , Swift .\""
            ],
            "application/vnd.google.colaboratory.intrinsic+json": {
              "type": "string"
            }
          },
          "metadata": {},
          "execution_count": 78
        }
      ]
    },
    {
      "cell_type": "markdown",
      "source": [
        "## Summary with GPT-2 Model"
      ],
      "metadata": {
        "id": "JpHRGZyAh2Wx"
      }
    },
    {
      "cell_type": "code",
      "source": [
        "GPT2_model = TransformerSummarizer(transformer_type=\"GPT2\",transformer_model_key=\"gpt2-medium\")\n",
        "gpt_summary = ''.join(GPT2_model(clean_text, min_length=60, max_length=160))"
      ],
      "metadata": {
        "colab": {
          "base_uri": "https://localhost:8080/",
          "height": 200,
          "referenced_widgets": [
            "d12354a8255f4ed18ed696b8ceda32ad",
            "4fa933324e214468aa75d1297444d2ae",
            "e7539e7efc2b4b5aa007ad50985f2c77",
            "43ff8491a96041a6be9d507ba37327ad",
            "f2d2cb7d0d1a4218ac543bfec30c145d",
            "5291a3182d8540a98c53cadec5b073b4",
            "1f382ea3082344cfaed0c32ba6bead94",
            "923cd74e1ace4fe3ad745e6e876cbea5",
            "fc8320453d8342289f5bde4c5f33f08a",
            "21dcfed35aa0413698f196c622a0fa64",
            "25ccfd7102b74c69bfa0986ab8e754f4",
            "d3c7b7af047e4664bfdcfe04a6888443",
            "1393ae735d1144bc8c8b3a5f3bc7acb9",
            "9dc3b243aa5a42ada3b674757373446f",
            "9d31107bea4a44369e628d4d930eca99",
            "ec47c675eae946b489eed6b04a23fa72",
            "4211f0f64243439b9af14fbb4a2d6eab",
            "73c354b896344bedb631f26abe771541",
            "ee10706c53e04decafd1260a27488af6",
            "4925d9038b844df58d6a8f363972f6bc",
            "32fe1d36bf9f4c1ba43c27e19cac1b26",
            "235940d175374d1e9af47d4ff631a868",
            "5cd088e5062e453b83c1239e080517f1",
            "3ac705fe57464df8a9b3617947f2efae",
            "bb22d14080904d76ba3961bfb7576ea6",
            "b4de206dc57c477cad19bb25e9045c85",
            "420df27114e94226905e5e95872a54a6",
            "54e62324e9c140a68c0090155269b606",
            "790a34fdef7243a5954b0c77552c8554",
            "6628dbe052a9424da55facae720c9a1e",
            "d9cbea75cd7e465aa8bbc219d9125959",
            "e6b69634cab34b2e99e7c763bd289188",
            "2edd5c0fdda547fba2ea177ca089361b",
            "b560ee8fefc649c3a25190b5be63f2e9",
            "f2ff8e14426f491cbbfcff3e76b5d6f7",
            "f95fb75153054c9b8c9c0cd8a28f891a",
            "1a6863895a674012b6ced137c0707daa",
            "863ba664c4084b3683d04098d39307e1",
            "8407e9f5ec394e8a89cfd5c5a8910b4d",
            "c391658672eb4a82a4eb14b6b2a742cc",
            "cd9548179476443caba5288327b34f5c",
            "12b6cfe629a747da90b4f1d86ab8bb1c",
            "d6468e04d71d41b7a89d07aad54a2dd3",
            "b255cebbf8c44fd2b62acda1080b2782"
          ]
        },
        "id": "XW-xRAAReeL-",
        "outputId": "48519f32-efd1-48b7-900a-628ea55a2463"
      },
      "execution_count": 79,
      "outputs": [
        {
          "output_type": "display_data",
          "data": {
            "text/plain": [
              "Downloading (…)lve/main/config.json:   0%|          | 0.00/718 [00:00<?, ?B/s]"
            ],
            "application/vnd.jupyter.widget-view+json": {
              "version_major": 2,
              "version_minor": 0,
              "model_id": "d12354a8255f4ed18ed696b8ceda32ad"
            }
          },
          "metadata": {}
        },
        {
          "output_type": "display_data",
          "data": {
            "text/plain": [
              "Downloading model.safetensors:   0%|          | 0.00/1.52G [00:00<?, ?B/s]"
            ],
            "application/vnd.jupyter.widget-view+json": {
              "version_major": 2,
              "version_minor": 0,
              "model_id": "d3c7b7af047e4664bfdcfe04a6888443"
            }
          },
          "metadata": {}
        },
        {
          "output_type": "display_data",
          "data": {
            "text/plain": [
              "Downloading (…)olve/main/vocab.json:   0%|          | 0.00/1.04M [00:00<?, ?B/s]"
            ],
            "application/vnd.jupyter.widget-view+json": {
              "version_major": 2,
              "version_minor": 0,
              "model_id": "5cd088e5062e453b83c1239e080517f1"
            }
          },
          "metadata": {}
        },
        {
          "output_type": "display_data",
          "data": {
            "text/plain": [
              "Downloading (…)olve/main/merges.txt:   0%|          | 0.00/456k [00:00<?, ?B/s]"
            ],
            "application/vnd.jupyter.widget-view+json": {
              "version_major": 2,
              "version_minor": 0,
              "model_id": "b560ee8fefc649c3a25190b5be63f2e9"
            }
          },
          "metadata": {}
        },
        {
          "output_type": "stream",
          "name": "stderr",
          "text": [
            "/usr/local/lib/python3.10/dist-packages/sklearn/cluster/_kmeans.py:870: FutureWarning: The default value of `n_init` will change from 10 to 'auto' in 1.4. Set the value of `n_init` explicitly to suppress the warning\n",
            "  warnings.warn(\n"
          ]
        }
      ]
    },
    {
      "cell_type": "code",
      "source": [
        "gpt_summary"
      ],
      "metadata": {
        "colab": {
          "base_uri": "https://localhost:8080/",
          "height": 139
        },
        "id": "LhwK_K7_h8cC",
        "outputId": "9e3b3d16-994a-4594-b309-131a2db7c8de"
      },
      "execution_count": 80,
      "outputs": [
        {
          "output_type": "execute_result",
          "data": {
            "text/plain": [
              "\"Its design philosophy emphasizes code readability use significant indentation via off-side rule. Python 3.0 , released 2008 , major revision completely backward-compatible earlier version . In 2022 , Python 3.10.4 3.9.12 expedited 3.8.13 , 3.7.13 , many security issue . Its design offer support functional programming Lisp tradition . Code difficult understand read like rough transcription another programming language called unpythonic . Thus , program 's visual structure accurately represents semantic structure . Some language use indentation way ; , indentation semantic meaning . However , better support coroutine-like functionality provided extending Python 's generator . There two type division Python : floor division ( integer division ) // floating-point/division . Python us * operator duplicating string specified number time . Python type expression called list comprehension , well general expression called generator expression . Lists written [ 1 , 2 , 3 ] , mutable , used key dictionary ( dictionary key must immutable Python ) . associated identical manner forming tuple literals—and , whole , put left-hand side equal sign assignment statement . In Python 2.6+ 3+ , supplemented format ( ) method str class , e.g . Python 3.6 added `` f-strings '' : spam = `` blah '' ; egg = 2 ; f'spam= { spam } eggs= { egg } ' . Triple-quoted ( beginning ending three single double quote mark ) , may span multiple line function like document shell , Perl , Ruby . Python 's syntax allows specifying static type , checked default implementation , CPython . For instance , mean equation ( + b ) //b == a//b + 1 always true . The Fraction class fraction module provides arbitrary precision rational numbers. For Internet-facing application , many standard format protocol MIME HTTP supported . Its just-in-time compiler often brings significant speed improvement CPython library written C used . Stackless Python significant fork CPython implement microthreads ; use call stack way , thus allowing massively concurrent program . The emitted code specialized certain data type faster standard Python code . Nuitka compiles Python C. Numba us LLVM compile subset Python machine code . Older project ( used Python 3.x latest syntax ) : Google 's Grumpy ( latest release 2017 ) transpiles Python 2 Go . Outstanding PEPs reviewed commented Python community steering council. Twisted framework program communication computer , used ( example ) Dropbox . Python also used Graphical User Interface ( GUI ) using library like Tkinter. It ship Linux distribution , AmigaOS 4 ( using Python 2.7 ) , FreeBSD ( package ) , NetBSD , OpenBSD ( package ) used command line ( terminal ) . Go designed `` speed working dynamic language like Python '' share syntax slicing array . Ruby 's creator , Yukihiro Matsumoto , said : `` I wanted scripting language powerful Perl , object-oriented Python .\""
            ],
            "application/vnd.google.colaboratory.intrinsic+json": {
              "type": "string"
            }
          },
          "metadata": {},
          "execution_count": 80
        }
      ]
    },
    {
      "cell_type": "code",
      "source": [],
      "metadata": {
        "id": "Ta2NUXVWh_Kh"
      },
      "execution_count": null,
      "outputs": []
    }
  ]
}